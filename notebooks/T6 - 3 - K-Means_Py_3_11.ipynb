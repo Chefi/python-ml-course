{
 "cells": [
  {
   "cell_type": "markdown",
   "metadata": {},
   "source": [
    "# El método de k-means"
   ]
  },
  {
   "cell_type": "code",
   "execution_count": 1,
   "metadata": {},
   "outputs": [],
   "source": [
    "import numpy as np"
   ]
  },
  {
   "cell_type": "code",
   "execution_count": 2,
   "metadata": {},
   "outputs": [
    {
     "data": {
      "text/plain": [
       "array([[0.87659532, 0.84946594, 0.80665389],\n",
       "       [0.50832631, 0.82488063, 0.03974976],\n",
       "       [0.87452903, 0.66726123, 0.42464426],\n",
       "       [0.55064443, 0.13997127, 0.25689096],\n",
       "       [0.4439469 , 0.28633252, 0.26597934],\n",
       "       [0.96267033, 0.71097314, 0.84638916],\n",
       "       [0.08084177, 0.85060238, 0.75782162],\n",
       "       [0.95930918, 0.7998674 , 0.11616394],\n",
       "       [0.520527  , 0.52484544, 0.12454543],\n",
       "       [0.44194257, 0.5024586 , 0.17470478],\n",
       "       [0.85431517, 0.98576438, 0.76960211],\n",
       "       [0.42866587, 0.88693155, 0.4298119 ],\n",
       "       [0.74221561, 0.8276227 , 0.52709867],\n",
       "       [0.78358539, 0.31644482, 0.63026407],\n",
       "       [0.56778585, 0.17525369, 0.25076162],\n",
       "       [0.00700223, 0.70194388, 0.15008283],\n",
       "       [0.53174304, 0.32053385, 0.27759205],\n",
       "       [0.92670706, 0.47296533, 0.2183161 ],\n",
       "       [0.1331406 , 0.90426129, 0.45482856],\n",
       "       [0.1763693 , 0.00489869, 0.13744587],\n",
       "       [0.99152119, 0.08430219, 0.84477493],\n",
       "       [0.35030632, 0.08498854, 0.01423543],\n",
       "       [0.37227237, 0.55029655, 0.0132822 ],\n",
       "       [0.51811692, 0.50306518, 0.41497435],\n",
       "       [0.89674653, 0.83066169, 0.07797371],\n",
       "       [0.2480212 , 0.85032313, 0.85282381],\n",
       "       [0.93634928, 0.3315135 , 0.37550984],\n",
       "       [0.28737311, 0.179754  , 0.55563282],\n",
       "       [0.24252512, 0.62053673, 0.71884807],\n",
       "       [0.14678945, 0.82513588, 0.59743643]])"
      ]
     },
     "execution_count": 2,
     "metadata": {},
     "output_type": "execute_result"
    }
   ],
   "source": [
    "data = np.random.random(90).reshape(30,3)\n",
    "data"
   ]
  },
  {
   "cell_type": "code",
   "execution_count": 3,
   "metadata": {},
   "outputs": [
    {
     "data": {
      "text/plain": [
       "array([[0.50832631, 0.82488063, 0.03974976],\n",
       "       [0.87659532, 0.84946594, 0.80665389]])"
      ]
     },
     "execution_count": 3,
     "metadata": {},
     "output_type": "execute_result"
    }
   ],
   "source": [
    "c1 = np.random.choice(range(len(data)))\n",
    "c2 = np.random.choice(range(len(data)))\n",
    "clust_centers = np.vstack([data[c1], data[c2]])\n",
    "clust_centers"
   ]
  },
  {
   "cell_type": "code",
   "execution_count": 4,
   "metadata": {},
   "outputs": [],
   "source": [
    "from scipy.cluster.vq import vq"
   ]
  },
  {
   "cell_type": "code",
   "execution_count": 5,
   "metadata": {},
   "outputs": [
    {
     "data": {
      "text/plain": [
       "(array([1, 0, 1, 0, 0, 1, 1, 0, 0, 0, 1, 0, 1, 1, 0, 0, 0, 0, 0, 0, 1, 0,\n",
       "        0, 0, 0, 1, 1, 0, 1, 0], dtype=int32),\n",
       " array([0.        , 0.        , 0.42324246, 0.71975131, 0.58767219,\n",
       "        0.16783341, 0.79725128, 0.45809424, 0.31202609, 0.35577468,\n",
       "        0.14299128, 0.40292006, 0.31094398, 0.56910081, 0.68562132,\n",
       "        0.52783773, 0.5581066 , 0.57512848, 0.56511593, 0.89000583,\n",
       "        0.77468492, 0.75700833, 0.30758353, 0.49442343, 0.39033928,\n",
       "        0.63026806, 0.6765578 , 0.8550696 , 0.67982606, 0.66462274]))"
      ]
     },
     "execution_count": 5,
     "metadata": {},
     "output_type": "execute_result"
    }
   ],
   "source": [
    "clusters = vq(data, clust_centers)\n",
    "clusters"
   ]
  },
  {
   "cell_type": "code",
   "execution_count": 6,
   "metadata": {},
   "outputs": [
    {
     "data": {
      "text/plain": [
       "array([1, 0, 1, 0, 0, 1, 1, 0, 0, 0, 1, 0, 1, 1, 0, 0, 0, 0, 0, 0, 1, 0,\n",
       "       0, 0, 0, 1, 1, 0, 1, 0], dtype=int32)"
      ]
     },
     "execution_count": 6,
     "metadata": {},
     "output_type": "execute_result"
    }
   ],
   "source": [
    "labels = clusters[0]\n",
    "labels"
   ]
  },
  {
   "cell_type": "code",
   "execution_count": 7,
   "metadata": {},
   "outputs": [],
   "source": [
    "#The plotly.plotly module is deprecated,\n",
    "#please install the chart-studio package and use the\n",
    "#chart_studio.plotly module instead. \n",
    "#import plotly.plotly as py\n",
    "import chart_studio.plotly as py\n",
    "import plotly.graph_objs as go\n",
    "import plotly.offline as ply"
   ]
  },
  {
   "cell_type": "code",
   "execution_count": 8,
   "metadata": {},
   "outputs": [
    {
     "data": {
      "text/plain": [
       "'Clusters.html'"
      ]
     },
     "execution_count": 8,
     "metadata": {},
     "output_type": "execute_result"
    }
   ],
   "source": [
    "x = []\n",
    "y = []\n",
    "z = []\n",
    "x2 = []\n",
    "y2 = []\n",
    "z2 = []\n",
    "\n",
    "for i in range(0, len(labels)):\n",
    "    if(labels[i] == 0):\n",
    "        x.append(data[i,0])\n",
    "        y.append(data[i,1])\n",
    "        z.append(data[i,2])\n",
    "        \n",
    "    else:\n",
    "        x2.append(data[i,0])\n",
    "        y2.append(data[i,1])\n",
    "        z2.append(data[i,2])\n",
    "\n",
    "cluster1 = go.Scatter3d(\n",
    "    x=x,\n",
    "    y=y,\n",
    "    z=z,\n",
    "    mode='markers',\n",
    "    marker=dict(\n",
    "        size=12,\n",
    "        line=dict(\n",
    "            color='rgba(217, 217, 217, 0.14)',\n",
    "            width=0.5\n",
    "        ),\n",
    "        opacity=0.9\n",
    "    ),\n",
    "    name=\"Cluster 0\"\n",
    ")\n",
    "\n",
    "\n",
    "cluster2 = go.Scatter3d(\n",
    "    x=x2,\n",
    "    y=y2,\n",
    "    z=z2,\n",
    "    mode='markers',\n",
    "    marker=dict(\n",
    "        color='rgb(127, 127, 127)',\n",
    "        size=12,\n",
    "        symbol='circle',\n",
    "        line=dict(\n",
    "            color='rgb(204, 204, 204)',\n",
    "            width=1\n",
    "        ),\n",
    "        opacity=0.9\n",
    "    ),\n",
    "    name=\"Cluster 1\"\n",
    ")\n",
    "data2 = [cluster1, cluster2]\n",
    "layout = go.Layout(\n",
    "    margin=dict(\n",
    "        l=0,\n",
    "        r=0,\n",
    "        b=0,\n",
    "        t=30\n",
    "    )\n",
    ")\n",
    "\n",
    "fig = go.Figure(data=data2, layout=layout)\n",
    "#ply.plot(fig, filename='Clusters')\n",
    "ply.plot(fig, filename='Clusters.html')\n"
   ]
  },
  {
   "cell_type": "code",
   "execution_count": 9,
   "metadata": {},
   "outputs": [],
   "source": [
    "from scipy.cluster.vq import kmeans"
   ]
  },
  {
   "cell_type": "code",
   "execution_count": 11,
   "metadata": {},
   "outputs": [
    {
     "data": {
      "text/plain": [
       "(array([[0.46145869, 0.50100242, 0.24054779],\n",
       "        [0.69028813, 0.64498274, 0.6867664 ]]),\n",
       " 0.40337524918781226)"
      ]
     },
     "execution_count": 11,
     "metadata": {},
     "output_type": "execute_result"
    }
   ],
   "source": [
    "kmeans(data, clust_centers)"
   ]
  },
  {
   "cell_type": "code",
   "execution_count": 10,
   "metadata": {},
   "outputs": [
    {
     "data": {
      "text/plain": [
       "(array([[0.52538706, 0.323723  , 0.29406204],\n",
       "        [0.56819225, 0.81673486, 0.52998899]]),\n",
       " 0.38412876957789427)"
      ]
     },
     "execution_count": 10,
     "metadata": {},
     "output_type": "execute_result"
    }
   ],
   "source": [
    "kmeans(data, 2)"
   ]
  },
  {
   "cell_type": "code",
   "execution_count": null,
   "metadata": {},
   "outputs": [],
   "source": []
  }
 ],
 "metadata": {
  "kernelspec": {
   "display_name": "Python 3 (ipykernel)",
   "language": "python",
   "name": "python3"
  },
  "language_info": {
   "codemirror_mode": {
    "name": "ipython",
    "version": 3
   },
   "file_extension": ".py",
   "mimetype": "text/x-python",
   "name": "python",
   "nbconvert_exporter": "python",
   "pygments_lexer": "ipython3",
   "version": "3.11.4"
  }
 },
 "nbformat": 4,
 "nbformat_minor": 2
}
