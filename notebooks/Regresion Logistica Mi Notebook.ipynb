{
 "cells": [
  {
   "cell_type": "markdown",
   "id": "66719819-d382-4e2c-93b8-9bb4ba0c2dd5",
   "metadata": {},
   "source": [
    "## Regresión Logística\n",
    "# Tablas de contingencia"
   ]
  },
  {
   "cell_type": "code",
   "execution_count": 1,
   "id": "e86579b6-fef5-40be-9a8e-ea04487d68bd",
   "metadata": {},
   "outputs": [],
   "source": [
    "import pandas as pd"
   ]
  },
  {
   "cell_type": "code",
   "execution_count": 2,
   "id": "be7c272d-bdf2-47b5-b224-3baa7f6fa54c",
   "metadata": {},
   "outputs": [],
   "source": [
    "df = pd.read_csv(\"../datasets/gender-purchase/Gender Purchase.csv\")"
   ]
  },
  {
   "cell_type": "code",
   "execution_count": 3,
   "id": "68864373-39b5-466f-8001-630a82b54499",
   "metadata": {},
   "outputs": [
    {
     "data": {
      "text/html": [
       "<div>\n",
       "<style scoped>\n",
       "    .dataframe tbody tr th:only-of-type {\n",
       "        vertical-align: middle;\n",
       "    }\n",
       "\n",
       "    .dataframe tbody tr th {\n",
       "        vertical-align: top;\n",
       "    }\n",
       "\n",
       "    .dataframe thead th {\n",
       "        text-align: right;\n",
       "    }\n",
       "</style>\n",
       "<table border=\"1\" class=\"dataframe\">\n",
       "  <thead>\n",
       "    <tr style=\"text-align: right;\">\n",
       "      <th></th>\n",
       "      <th>Gender</th>\n",
       "      <th>Purchase</th>\n",
       "    </tr>\n",
       "  </thead>\n",
       "  <tbody>\n",
       "    <tr>\n",
       "      <th>0</th>\n",
       "      <td>Female</td>\n",
       "      <td>Yes</td>\n",
       "    </tr>\n",
       "    <tr>\n",
       "      <th>1</th>\n",
       "      <td>Female</td>\n",
       "      <td>Yes</td>\n",
       "    </tr>\n",
       "    <tr>\n",
       "      <th>2</th>\n",
       "      <td>Female</td>\n",
       "      <td>No</td>\n",
       "    </tr>\n",
       "    <tr>\n",
       "      <th>3</th>\n",
       "      <td>Male</td>\n",
       "      <td>No</td>\n",
       "    </tr>\n",
       "    <tr>\n",
       "      <th>4</th>\n",
       "      <td>Male</td>\n",
       "      <td>Yes</td>\n",
       "    </tr>\n",
       "  </tbody>\n",
       "</table>\n",
       "</div>"
      ],
      "text/plain": [
       "   Gender Purchase\n",
       "0  Female      Yes\n",
       "1  Female      Yes\n",
       "2  Female       No\n",
       "3    Male       No\n",
       "4    Male      Yes"
      ]
     },
     "execution_count": 3,
     "metadata": {},
     "output_type": "execute_result"
    }
   ],
   "source": [
    "df.head()"
   ]
  },
  {
   "cell_type": "code",
   "execution_count": 4,
   "id": "52bb9383-97be-4dbf-ab44-29c889dc7a9e",
   "metadata": {},
   "outputs": [
    {
     "data": {
      "text/plain": [
       "(511, 2)"
      ]
     },
     "execution_count": 4,
     "metadata": {},
     "output_type": "execute_result"
    }
   ],
   "source": [
    "df.shape"
   ]
  },
  {
   "cell_type": "code",
   "execution_count": 5,
   "id": "e1ac04d0-47b0-4d64-96b1-1bc55aaeed82",
   "metadata": {},
   "outputs": [],
   "source": [
    "contingency_table = pd.crosstab(df[\"Gender\"],df[\"Purchase\"])"
   ]
  },
  {
   "cell_type": "code",
   "execution_count": 6,
   "id": "19c8c1ce-677b-4faf-ac88-371be0cf2bea",
   "metadata": {},
   "outputs": [
    {
     "data": {
      "text/html": [
       "<div>\n",
       "<style scoped>\n",
       "    .dataframe tbody tr th:only-of-type {\n",
       "        vertical-align: middle;\n",
       "    }\n",
       "\n",
       "    .dataframe tbody tr th {\n",
       "        vertical-align: top;\n",
       "    }\n",
       "\n",
       "    .dataframe thead th {\n",
       "        text-align: right;\n",
       "    }\n",
       "</style>\n",
       "<table border=\"1\" class=\"dataframe\">\n",
       "  <thead>\n",
       "    <tr style=\"text-align: right;\">\n",
       "      <th>Purchase</th>\n",
       "      <th>No</th>\n",
       "      <th>Yes</th>\n",
       "    </tr>\n",
       "    <tr>\n",
       "      <th>Gender</th>\n",
       "      <th></th>\n",
       "      <th></th>\n",
       "    </tr>\n",
       "  </thead>\n",
       "  <tbody>\n",
       "    <tr>\n",
       "      <th>Female</th>\n",
       "      <td>106</td>\n",
       "      <td>159</td>\n",
       "    </tr>\n",
       "    <tr>\n",
       "      <th>Male</th>\n",
       "      <td>125</td>\n",
       "      <td>121</td>\n",
       "    </tr>\n",
       "  </tbody>\n",
       "</table>\n",
       "</div>"
      ],
      "text/plain": [
       "Purchase   No  Yes\n",
       "Gender            \n",
       "Female    106  159\n",
       "Male      125  121"
      ]
     },
     "execution_count": 6,
     "metadata": {},
     "output_type": "execute_result"
    }
   ],
   "source": [
    "contingency_table "
   ]
  },
  {
   "cell_type": "code",
   "execution_count": 7,
   "id": "bef9027b-7ea4-424d-8a78-0cd70d883bef",
   "metadata": {},
   "outputs": [
    {
     "data": {
      "text/plain": [
       "Gender\n",
       "Female    265\n",
       "Male      246\n",
       "dtype: int64"
      ]
     },
     "execution_count": 7,
     "metadata": {},
     "output_type": "execute_result"
    }
   ],
   "source": [
    "contingency_table.sum(axis=1)"
   ]
  },
  {
   "cell_type": "code",
   "execution_count": 8,
   "id": "54e00b8c-ae87-4e47-8159-d7c61b873450",
   "metadata": {},
   "outputs": [
    {
     "data": {
      "text/plain": [
       "Purchase\n",
       "No     231\n",
       "Yes    280\n",
       "dtype: int64"
      ]
     },
     "execution_count": 8,
     "metadata": {},
     "output_type": "execute_result"
    }
   ],
   "source": [
    "contingency_table.sum(axis=0)"
   ]
  },
  {
   "cell_type": "code",
   "execution_count": 9,
   "id": "55b2517d-3ea8-4a86-8926-c05c03639380",
   "metadata": {},
   "outputs": [
    {
     "data": {
      "text/html": [
       "<div>\n",
       "<style scoped>\n",
       "    .dataframe tbody tr th:only-of-type {\n",
       "        vertical-align: middle;\n",
       "    }\n",
       "\n",
       "    .dataframe tbody tr th {\n",
       "        vertical-align: top;\n",
       "    }\n",
       "\n",
       "    .dataframe thead th {\n",
       "        text-align: right;\n",
       "    }\n",
       "</style>\n",
       "<table border=\"1\" class=\"dataframe\">\n",
       "  <thead>\n",
       "    <tr style=\"text-align: right;\">\n",
       "      <th>Purchase</th>\n",
       "      <th>No</th>\n",
       "      <th>Yes</th>\n",
       "    </tr>\n",
       "    <tr>\n",
       "      <th>Gender</th>\n",
       "      <th></th>\n",
       "      <th></th>\n",
       "    </tr>\n",
       "  </thead>\n",
       "  <tbody>\n",
       "    <tr>\n",
       "      <th>Female</th>\n",
       "      <td>0.40000</td>\n",
       "      <td>0.60000</td>\n",
       "    </tr>\n",
       "    <tr>\n",
       "      <th>Male</th>\n",
       "      <td>0.50813</td>\n",
       "      <td>0.49187</td>\n",
       "    </tr>\n",
       "  </tbody>\n",
       "</table>\n",
       "</div>"
      ],
      "text/plain": [
       "Purchase       No      Yes\n",
       "Gender                    \n",
       "Female    0.40000  0.60000\n",
       "Male      0.50813  0.49187"
      ]
     },
     "execution_count": 9,
     "metadata": {},
     "output_type": "execute_result"
    }
   ],
   "source": [
    "contingency_table.astype(\"float\").div(contingency_table.sum(axis=1), axis=0)"
   ]
  },
  {
   "cell_type": "markdown",
   "id": "7e660940-8b13-4052-987d-c2512aca5f85",
   "metadata": {},
   "source": [
    "## Probabilidad condicional"
   ]
  },
  {
   "cell_type": "markdown",
   "id": "becba591-b5d5-430c-b820-89521dcffce1",
   "metadata": {},
   "source": [
    "* ¿Cuál es la probabilidad de que un cliente compre un producto si es hombre?\n",
    "* ¿Cuál es la probabilidad de que sabiendo que un cliente compra un producto sea hombre?"
   ]
  },
  {
   "cell_type": "code",
   "execution_count": 11,
   "id": "4733f471-f4c4-493b-aaf5-2175cd441636",
   "metadata": {},
   "outputs": [],
   "source": [
    "from IPython.display import display, Math, Latex"
   ]
  },
  {
   "cell_type": "code",
   "execution_count": 18,
   "id": "d3ef5a46-7871-4c62-961c-34bc48703a49",
   "metadata": {},
   "outputs": [
    {
     "data": {
      "text/latex": [
       "$\\displaystyle P(Purchase|Male) = \\frac {Número\\ total\\ de\\ compras\\ hechas\\ por\\ hombres}{Número\\ total\\ de\\ hombres} =  \\frac {Compran \\cap Hombre}{Hombre}$"
      ],
      "text/plain": [
       "<IPython.core.display.Math object>"
      ]
     },
     "metadata": {},
     "output_type": "display_data"
    }
   ],
   "source": [
    "display (Math(r'P(Purchase|Male) = \\frac {Número\\ total\\ de\\ compras\\ hechas\\ por\\ hombres}{Número\\ total\\ de\\ hombres} =  \\frac {Compran \\cap Hombre}{Hombre}' ))"
   ]
  },
  {
   "cell_type": "code",
   "execution_count": 20,
   "id": "085234b6-e4d6-4f36-ac98-45300b6dc05f",
   "metadata": {},
   "outputs": [
    {
     "data": {
      "text/plain": [
       "0.491869918699187"
      ]
     },
     "execution_count": 20,
     "metadata": {},
     "output_type": "execute_result"
    }
   ],
   "source": [
    "P1 = 121/(121+125)\n",
    "P1"
   ]
  },
  {
   "cell_type": "code",
   "execution_count": 24,
   "id": "75d9dbbc-150f-4acf-90a6-e5e35925e62b",
   "metadata": {},
   "outputs": [
    {
     "data": {
      "text/latex": [
       "$\\displaystyle P(Male|Purchase) = \\frac {Número\\ total\\ de\\ compras\\ hechas\\ por\\ hombres}{Número\\ total\\ de\\ compras} =  \\frac {Compran \\cap Hombre}{Total\\ de\\ compras}$"
      ],
      "text/plain": [
       "<IPython.core.display.Math object>"
      ]
     },
     "metadata": {},
     "output_type": "display_data"
    }
   ],
   "source": [
    "display (Math(r'P(Male|Purchase) = \\frac {Número\\ total\\ de\\ compras\\ hechas\\ por\\ hombres}{Número\\ total\\ de\\ compras} =  \\frac {Compran \\cap Hombre}{Total\\ de\\ compras}' ))"
   ]
  },
  {
   "cell_type": "code",
   "execution_count": 25,
   "id": "6cb1018f-4b31-4af8-afdb-8c4b9e60ef61",
   "metadata": {},
   "outputs": [
    {
     "data": {
      "text/plain": [
       "0.43214285714285716"
      ]
     },
     "execution_count": 25,
     "metadata": {},
     "output_type": "execute_result"
    }
   ],
   "source": [
    "P2 = 121 / (121+ 159)\n",
    "P2"
   ]
  },
  {
   "cell_type": "code",
   "execution_count": 30,
   "id": "3fa1a4fa-3fcb-4d02-b534-7cf500b8d166",
   "metadata": {},
   "outputs": [
    {
     "data": {
      "text/latex": [
       "$\\displaystyle P(No\\ Purchase|Male) = 1- P(Purchase|Male)$"
      ],
      "text/plain": [
       "<IPython.core.display.Math object>"
      ]
     },
     "metadata": {},
     "output_type": "display_data"
    },
    {
     "data": {
      "text/plain": [
       "0.5081300813008129"
      ]
     },
     "execution_count": 30,
     "metadata": {},
     "output_type": "execute_result"
    }
   ],
   "source": [
    "display (Math(r'P(No\\ Purchase|Male) = 1- P(Purchase|Male)'))\n",
    "1-P1"
   ]
  },
  {
   "cell_type": "code",
   "execution_count": 31,
   "id": "275cd6f8-47cb-4c7a-98da-71a26c3b1481",
   "metadata": {},
   "outputs": [
    {
     "data": {
      "text/latex": [
       "$\\displaystyle P(Female | Compra) = 1- P(Male| Compra)$"
      ],
      "text/plain": [
       "<IPython.core.display.Math object>"
      ]
     },
     "metadata": {},
     "output_type": "display_data"
    },
    {
     "data": {
      "text/plain": [
       "0.5678571428571428"
      ]
     },
     "execution_count": 31,
     "metadata": {},
     "output_type": "execute_result"
    }
   ],
   "source": [
    "display (Math(r'P(Female | Compra) = 1- P(Male| Compra)'))\n",
    "1-P2"
   ]
  },
  {
   "cell_type": "code",
   "execution_count": 38,
   "id": "01d802a2-d9d5-4a32-b729-4cabca050207",
   "metadata": {},
   "outputs": [
    {
     "data": {
      "text/latex": [
       "$\\displaystyle P(Purchase|Male)$"
      ],
      "text/plain": [
       "<IPython.core.display.Math object>"
      ]
     },
     "metadata": {},
     "output_type": "display_data"
    },
    {
     "name": "stdout",
     "output_type": "stream",
     "text": [
      "0.491869918699187\n"
     ]
    },
    {
     "data": {
      "text/latex": [
       "$\\displaystyle P(No\\ Purchase|Male)$"
      ],
      "text/plain": [
       "<IPython.core.display.Math object>"
      ]
     },
     "metadata": {},
     "output_type": "display_data"
    },
    {
     "name": "stdout",
     "output_type": "stream",
     "text": [
      "0.5081300813008129\n"
     ]
    },
    {
     "data": {
      "text/latex": [
       "$\\displaystyle P(Purchase|Female)$"
      ],
      "text/plain": [
       "<IPython.core.display.Math object>"
      ]
     },
     "metadata": {},
     "output_type": "display_data"
    },
    {
     "name": "stdout",
     "output_type": "stream",
     "text": [
      "0.6\n"
     ]
    },
    {
     "data": {
      "text/latex": [
       "$\\displaystyle P(No\\ Purchase|Female)$"
      ],
      "text/plain": [
       "<IPython.core.display.Math object>"
      ]
     },
     "metadata": {},
     "output_type": "display_data"
    },
    {
     "name": "stdout",
     "output_type": "stream",
     "text": [
      "0.4\n"
     ]
    }
   ],
   "source": [
    "display (Math(r'P(Purchase|Male)' ))\n",
    "print(121/(121+125))\n",
    "display (Math(r'P(No\\ Purchase|Male)' ))\n",
    "print(1- 121/(121+125))\n",
    "display (Math(r'P(Purchase|Female)' ))\n",
    "print(159/(159+106))\n",
    "display (Math(r'P(No\\ Purchase|Female)' ))\n",
    "print(1- 159/(159+106))"
   ]
  },
  {
   "cell_type": "markdown",
   "id": "c8c83c36-74d9-4f27-9ba1-a55ad024ac87",
   "metadata": {},
   "source": [
    "## Ratio de probabilidades\n",
    "Cociente entre los casos de éxito sobre los casos de fracaso del suceso en cada grupo"
   ]
  },
  {
   "cell_type": "code",
   "execution_count": 64,
   "id": "0c8cfc0e-be5b-453b-ae93-dfaf03cf3c41",
   "metadata": {},
   "outputs": [
    {
     "data": {
      "text/latex": [
       "$\\displaystyle P_m = probabilidad\\ de\\ compra\\ dado\\ hombre $"
      ],
      "text/plain": [
       "<IPython.core.display.Math object>"
      ]
     },
     "metadata": {},
     "output_type": "display_data"
    },
    {
     "data": {
      "text/latex": [
       "$\\displaystyle odds_{purchase| male} =  \\frac{P_m}{1-P_m} = \\frac{N_{p,m}}{N_{\\bar p , m}} = \\frac{hombres\\ compran}{hombres\\ no\\ compran  }$"
      ],
      "text/plain": [
       "<IPython.core.display.Math object>"
      ]
     },
     "metadata": {},
     "output_type": "display_data"
    },
    {
     "data": {
      "text/latex": [
       "$\\displaystyle odds_{purchase| male} \\in [0,+\\infty] $"
      ],
      "text/plain": [
       "<IPython.core.display.Math object>"
      ]
     },
     "metadata": {},
     "output_type": "display_data"
    },
    {
     "data": {
      "text/latex": [
       "$\\displaystyle P_f = probabilidad\\ de\\ compra\\ dado\\ mujer $"
      ],
      "text/plain": [
       "<IPython.core.display.Math object>"
      ]
     },
     "metadata": {},
     "output_type": "display_data"
    },
    {
     "data": {
      "text/latex": [
       "$\\displaystyle odds_{purchase| female} =  \\frac{P_f}{1-P_f} = \\frac{N_{p,f}}{N_{\\bar p , f}} = \\frac{mujeres\\ compran}{mujeres\\ no\\ compran  }$"
      ],
      "text/plain": [
       "<IPython.core.display.Math object>"
      ]
     },
     "metadata": {},
     "output_type": "display_data"
    },
    {
     "data": {
      "text/latex": [
       "$\\displaystyle odds_{purchase| female} \\in [0,+\\infty] $"
      ],
      "text/plain": [
       "<IPython.core.display.Math object>"
      ]
     },
     "metadata": {},
     "output_type": "display_data"
    }
   ],
   "source": [
    "display (Math(r'P_m = probabilidad\\ de\\ compra\\ dado\\ hombre ' ))\n",
    "display (Math(r'odds_{purchase| male} =  \\frac{P_m}{1-P_m} = \\frac{N_{p,m}}{N_{\\bar p , m}} = \\frac{hombres\\ compran}{hombres\\ no\\ compran  }' ))\n",
    "display (Math(r'odds_{purchase| male} \\in [0,+\\infty] ' ))\n",
    "display (Math(r'P_f = probabilidad\\ de\\ compra\\ dado\\ mujer ' ))\n",
    "display (Math(r'odds_{purchase| female} =  \\frac{P_f}{1-P_f} = \\frac{N_{p,f}}{N_{\\bar p , f}} = \\frac{mujeres\\ compran}{mujeres\\ no\\ compran  }' ))\n",
    "display (Math(r'odds_{purchase| female} \\in [0,+\\infty] ' ))"
   ]
  },
  {
   "cell_type": "code",
   "execution_count": 47,
   "id": "d3d38ed0-1a4d-4b98-ba09-4b7ff95a6708",
   "metadata": {},
   "outputs": [
    {
     "data": {
      "text/plain": [
       "(0.491869918699187, 0.6)"
      ]
     },
     "execution_count": 47,
     "metadata": {},
     "output_type": "execute_result"
    }
   ],
   "source": [
    "Pm = 121/(121+125)\n",
    "Pf = 159/(159+106)\n",
    "Pm, Pf"
   ]
  },
  {
   "cell_type": "code",
   "execution_count": 50,
   "id": "e21e6252-1a91-41cb-9905-31de2f435f4e",
   "metadata": {},
   "outputs": [
    {
     "data": {
      "text/plain": [
       "(0.9680000000000002, 1.4999999999999998)"
      ]
     },
     "execution_count": 50,
     "metadata": {},
     "output_type": "execute_result"
    }
   ],
   "source": [
    "odds_m = Pm/(1-Pm)\n",
    "odds_f = Pf/(1-Pf)\n",
    "odds_m, odds_f"
   ]
  },
  {
   "cell_type": "code",
   "execution_count": 51,
   "id": "5c617cac-20cd-4bad-b4ac-60936db30ab6",
   "metadata": {},
   "outputs": [
    {
     "data": {
      "text/plain": [
       "0.968"
      ]
     },
     "execution_count": 51,
     "metadata": {},
     "output_type": "execute_result"
    }
   ],
   "source": [
    "121/125"
   ]
  },
  {
   "cell_type": "code",
   "execution_count": 52,
   "id": "7281044d-d0b7-4d82-b9af-eb4156639637",
   "metadata": {},
   "outputs": [
    {
     "data": {
      "text/plain": [
       "1.5"
      ]
     },
     "execution_count": 52,
     "metadata": {},
     "output_type": "execute_result"
    }
   ],
   "source": [
    "159/106"
   ]
  },
  {
   "cell_type": "markdown",
   "id": "3c1cee52-1d62-40d2-af32-4b741dcca35e",
   "metadata": {},
   "source": [
    "* Si el ratio es superior a 1 es más probable el éxito que el fracaso (Probabilidad de éxito > Probabilidad de fracaso)\n",
    "* Si el ratio es inferior a 1 es más probable el fracaso que el éxito (Probabilidad de fracaso > Probabilidad de éxito)\n"
   ]
  },
  {
   "cell_type": "code",
   "execution_count": 67,
   "id": "9669c1c0-5274-4888-9132-6868e02fbfb1",
   "metadata": {},
   "outputs": [
    {
     "data": {
      "text/latex": [
       "$\\displaystyle odds_{ratio} = \\frac{odds_{purchase| male}}{odds_{purchase| female}} $"
      ],
      "text/plain": [
       "<IPython.core.display.Math object>"
      ]
     },
     "metadata": {},
     "output_type": "display_data"
    }
   ],
   "source": [
    "display (Math(r'odds_{ratio} = \\frac{odds_{purchase| male}}{odds_{purchase| female}} ' ))"
   ]
  },
  {
   "cell_type": "code",
   "execution_count": 69,
   "id": "30ffb941-5de5-4da1-878d-a8c999b23af5",
   "metadata": {},
   "outputs": [
    {
     "data": {
      "text/plain": [
       "0.6453333333333335"
      ]
     },
     "execution_count": 69,
     "metadata": {},
     "output_type": "execute_result"
    }
   ],
   "source": [
    "odds_r = odds_m/ odds_f\n",
    "odds_r"
   ]
  },
  {
   "cell_type": "markdown",
   "id": "811d6574-6fb5-4cca-99d5-f10ab43d7b3e",
   "metadata": {},
   "source": [
    "## Regresión Logística desde Regresión Lineal"
   ]
  },
  {
   "cell_type": "code",
   "execution_count": 75,
   "id": "cc5e6281-6aec-4a8c-a906-6639ec0417f4",
   "metadata": {},
   "outputs": [
    {
     "data": {
      "text/latex": [
       "$\\displaystyle  y = \\alpha + \\beta \\cdot x$"
      ],
      "text/plain": [
       "<IPython.core.display.Math object>"
      ]
     },
     "metadata": {},
     "output_type": "display_data"
    },
    {
     "data": {
      "text/latex": [
       "$\\displaystyle  (x,y) \\in [-\\infty, +\\infty]$"
      ],
      "text/plain": [
       "<IPython.core.display.Math object>"
      ]
     },
     "metadata": {},
     "output_type": "display_data"
    }
   ],
   "source": [
    "display (Math(r' y = \\alpha + \\beta \\cdot x'))\n",
    "display (Math(r' (x,y) \\in [-\\infty, +\\infty]'))"
   ]
  },
  {
   "cell_type": "code",
   "execution_count": 79,
   "id": "1f513ce8-8385-4e92-b565-63a88e797ff0",
   "metadata": {},
   "outputs": [
    {
     "data": {
      "text/latex": [
       "$\\displaystyle P = probabilidad\\ de\\ compra\\ dado\\ hombre \\in [0,1]$"
      ],
      "text/plain": [
       "<IPython.core.display.Math object>"
      ]
     },
     "metadata": {},
     "output_type": "display_data"
    },
    {
     "data": {
      "text/latex": [
       "$\\displaystyle x = variable\\ independiente$"
      ],
      "text/plain": [
       "<IPython.core.display.Math object>"
      ]
     },
     "metadata": {},
     "output_type": "display_data"
    },
    {
     "data": {
      "text/latex": [
       "$\\displaystyle  ln(\\frac{P}{1-P}) =  \\alpha + \\beta \\cdot x \\in [-\\infty, +\\infty]$"
      ],
      "text/plain": [
       "<IPython.core.display.Math object>"
      ]
     },
     "metadata": {},
     "output_type": "display_data"
    }
   ],
   "source": [
    "display (Math(r'P = probabilidad\\ de\\ compra\\ dado\\ hombre \\in [0,1]'))\n",
    "display (Math(r'x = variable\\ independiente' ))\n",
    "display (Math(r' ln(\\frac{P}{1-P}) =  \\alpha + \\beta \\cdot x \\in [-\\infty, +\\infty]'))"
   ]
  },
  {
   "cell_type": "code",
   "execution_count": 80,
   "id": "f9763e3f-268d-4e6e-9ef6-d3a65e42dcce",
   "metadata": {},
   "outputs": [
    {
     "data": {
      "text/latex": [
       "$\\displaystyle  \\frac{P}{1-P} = e^{ \\alpha + \\beta \\cdot x}$"
      ],
      "text/plain": [
       "<IPython.core.display.Math object>"
      ]
     },
     "metadata": {},
     "output_type": "display_data"
    }
   ],
   "source": [
    "display (Math(r' \\frac{P}{1-P} = e^{ \\alpha + \\beta \\cdot x}'))"
   ]
  },
  {
   "cell_type": "code",
   "execution_count": 86,
   "id": "ccdcb77e-f79d-4186-8385-839ce6304f99",
   "metadata": {},
   "outputs": [
    {
     "data": {
      "text/latex": [
       "$\\displaystyle  e^ { \\alpha + \\beta \\cdot x} = P(1 + e^ {\\alpha + \\beta \\cdot x })$"
      ],
      "text/plain": [
       "<IPython.core.display.Math object>"
      ]
     },
     "metadata": {},
     "output_type": "display_data"
    }
   ],
   "source": [
    "display (Math(r' e^ { \\alpha + \\beta \\cdot x} = P(1 + e^ {\\alpha + \\beta \\cdot x })'))"
   ]
  },
  {
   "cell_type": "code",
   "execution_count": 95,
   "id": "041bb0ea-17aa-45a6-9996-c9161f3c3933",
   "metadata": {},
   "outputs": [
    {
     "data": {
      "text/latex": [
       "$\\displaystyle  P = \\frac{e^ {\\alpha + \\beta \\cdot x}} {1 + e^ {\\alpha + \\beta \\cdot x} }$"
      ],
      "text/plain": [
       "<IPython.core.display.Math object>"
      ]
     },
     "metadata": {},
     "output_type": "display_data"
    }
   ],
   "source": [
    "display (Math(r' P = \\frac{e^ {\\alpha + \\beta \\cdot x}} {1 + e^ {\\alpha + \\beta \\cdot x} }') )"
   ]
  },
  {
   "cell_type": "code",
   "execution_count": 96,
   "id": "00f04f72-a505-4093-a1f0-5f9788224beb",
   "metadata": {},
   "outputs": [
    {
     "data": {
      "text/latex": [
       "$\\displaystyle  P = \\frac{1} {1 + e^ {-\\alpha - \\beta \\cdot x} }$"
      ],
      "text/plain": [
       "<IPython.core.display.Math object>"
      ]
     },
     "metadata": {},
     "output_type": "display_data"
    }
   ],
   "source": [
    "display (Math(r' P = \\frac{1} {1 + e^ {-\\alpha - \\beta \\cdot x} }') )"
   ]
  },
  {
   "cell_type": "code",
   "execution_count": 97,
   "id": "25502607-ae9d-419a-8e40-fce3524037a6",
   "metadata": {},
   "outputs": [
    {
     "data": {
      "text/latex": [
       "$\\displaystyle  P = \\frac{1} {1 + e^ {-(\\alpha + \\beta \\cdot x)} }$"
      ],
      "text/plain": [
       "<IPython.core.display.Math object>"
      ]
     },
     "metadata": {},
     "output_type": "display_data"
    }
   ],
   "source": [
    "display (Math(r' P = \\frac{1} {1 + e^ {-(\\alpha + \\beta \\cdot x)} }') )"
   ]
  },
  {
   "cell_type": "code",
   "execution_count": 106,
   "id": "14180d1c-eef7-4c3f-b9fe-edd65f574bfc",
   "metadata": {},
   "outputs": [
    {
     "data": {
      "text/latex": [
       "$\\displaystyle  Si\\ \\alpha + \\beta \\cdot x \\ es\\ muy\\ pequeño\\ (negativo),\\ entonces\\ P\\ tiende\\ a\\ 0$"
      ],
      "text/plain": [
       "<IPython.core.display.Math object>"
      ]
     },
     "metadata": {},
     "output_type": "display_data"
    },
    {
     "data": {
      "text/latex": [
       "$\\displaystyle  Si\\ \\alpha + \\beta \\cdot x \\ es\\ muy\\ grande\\ (positivo),\\ entonces\\ P\\ tiende\\ a\\ 1$"
      ],
      "text/plain": [
       "<IPython.core.display.Math object>"
      ]
     },
     "metadata": {},
     "output_type": "display_data"
    },
    {
     "data": {
      "text/latex": [
       "$\\displaystyle  Si\\ \\alpha + \\beta \\cdot x = 0, \\ entonces\\ P=0.5$"
      ],
      "text/plain": [
       "<IPython.core.display.Math object>"
      ]
     },
     "metadata": {},
     "output_type": "display_data"
    }
   ],
   "source": [
    "display (Math(r' Si\\ \\alpha + \\beta \\cdot x \\ es\\ muy\\ pequeño\\ (negativo),\\ entonces\\ P\\ tiende\\ a\\ 0' ) )\n",
    "display (Math(r' Si\\ \\alpha + \\beta \\cdot x \\ es\\ muy\\ grande\\ (positivo),\\ entonces\\ P\\ tiende\\ a\\ 1' ) )\n",
    "display (Math(r' Si\\ \\alpha + \\beta \\cdot x = 0, \\ entonces\\ P=0.5' ) )"
   ]
  },
  {
   "cell_type": "markdown",
   "id": "a69ccad6-ac8e-4250-a6dc-c9bb7569e6b6",
   "metadata": {},
   "source": [
    "## Regresión Logística múltiple"
   ]
  },
  {
   "cell_type": "code",
   "execution_count": 108,
   "id": "5c2b1bd8-d65a-40b6-9e5a-9c24ae48da5c",
   "metadata": {},
   "outputs": [
    {
     "data": {
      "text/latex": [
       "$\\displaystyle  P = \\frac{1} {1 + e^ {-(\\alpha + \\sum_{i=1}^{n}\\beta_i \\cdot x_i)} }$"
      ],
      "text/plain": [
       "<IPython.core.display.Math object>"
      ]
     },
     "metadata": {},
     "output_type": "display_data"
    }
   ],
   "source": [
    "display (Math(r' P = \\frac{1} {1 + e^ {-(\\alpha + \\sum_{i=1}^{n}\\beta_i \\cdot x_i)} }') )"
   ]
  },
  {
   "cell_type": "code",
   "execution_count": 117,
   "id": "1b9fd6ae-1ab3-408d-a0b2-467547aa4b96",
   "metadata": {},
   "outputs": [
    {
     "data": {
      "text/latex": [
       "$\\displaystyle  \\vec{\\beta} = (\\beta_1, \\beta_2, \\cdots, \\beta_n)$"
      ],
      "text/plain": [
       "<IPython.core.display.Math object>"
      ]
     },
     "metadata": {},
     "output_type": "display_data"
    },
    {
     "data": {
      "text/latex": [
       "$\\displaystyle  \\vec{X} = (x_1, x_2, \\cdots, x_n)$"
      ],
      "text/plain": [
       "<IPython.core.display.Math object>"
      ]
     },
     "metadata": {},
     "output_type": "display_data"
    },
    {
     "data": {
      "text/latex": [
       "$\\displaystyle  P = \\frac{1} {1 + e^ {-(\\alpha + \\vec{\\beta} \\cdot \\vec{X})} }$"
      ],
      "text/plain": [
       "<IPython.core.display.Math object>"
      ]
     },
     "metadata": {},
     "output_type": "display_data"
    }
   ],
   "source": [
    "display (Math(r' \\vec{\\beta} = (\\beta_1, \\beta_2, \\cdots, \\beta_n)') )\n",
    "display (Math(r' \\vec{X} = (x_1, x_2, \\cdots, x_n)') )\n",
    "display (Math(r' P = \\frac{1} {1 + e^ {-(\\alpha + \\vec{\\beta} \\cdot \\vec{X})} }') )"
   ]
  },
  {
   "cell_type": "markdown",
   "id": "dee69e10-9801-4cfe-8eaa-ca3ca0e80f9a",
   "metadata": {},
   "source": [
    "## Implementación del método de máxima verosimilitud en regresión logística"
   ]
  },
  {
   "cell_type": "markdown",
   "id": "7fc8bf30-1ef4-424e-b21e-8295732c2a88",
   "metadata": {},
   "source": [
    "## Definir la función de entorno L(b)"
   ]
  },
  {
   "cell_type": "code",
   "execution_count": 3,
   "id": "d2568109-b1ae-4f94-b5ab-46e171418bbe",
   "metadata": {},
   "outputs": [],
   "source": [
    "from IPython.display import display, Math, Latex"
   ]
  },
  {
   "cell_type": "code",
   "execution_count": 4,
   "id": "4c5117c0-81d5-42b7-9874-72dc90a88861",
   "metadata": {},
   "outputs": [
    {
     "data": {
      "text/latex": [
       "$\\displaystyle  L(\\beta) = \\prod_{i=0}^n P_i^{y_i}(1 - P_i)^{y_i} $"
      ],
      "text/plain": [
       "<IPython.core.display.Math object>"
      ]
     },
     "metadata": {},
     "output_type": "display_data"
    }
   ],
   "source": [
    "display (Math(r' L(\\beta) = \\prod_{i=0}^n P_i^{y_i}(1 - P_i)^{y_i} '))"
   ]
  },
  {
   "cell_type": "code",
   "execution_count": 27,
   "id": "1b4ef36b-0502-42ed-831f-4d76cdcf2571",
   "metadata": {},
   "outputs": [
    {
     "data": {
      "text/latex": [
       "$\\displaystyle  P_i = P(Y_i=1 | x_i) $"
      ],
      "text/plain": [
       "<IPython.core.display.Math object>"
      ]
     },
     "metadata": {},
     "output_type": "display_data"
    }
   ],
   "source": [
    "display (Math(r' P_i = P(Y_i=1 | x_i) '))"
   ]
  },
  {
   "cell_type": "code",
   "execution_count": 145,
   "id": "1dda389c-3f81-483d-a528-b3679629d96e",
   "metadata": {},
   "outputs": [],
   "source": [
    "def likelihood(y,pi):\n",
    "    import numpy as np\n",
    "    total_prod = 1\n",
    "    for i in range(len(y)):\n",
    "        t = pi[i]\n",
    "        if y[i]==0:\n",
    "            t = 1-pi[i]\n",
    "        total_prod  = total_prod*t\n",
    "    return total_prod\n",
    "        \n",
    "    "
   ]
  },
  {
   "cell_type": "markdown",
   "id": "adf28fb3-0b6b-4df0-bf00-347cc1576e53",
   "metadata": {},
   "source": [
    "## Calcular las probabilidades de cada observación"
   ]
  },
  {
   "cell_type": "code",
   "execution_count": 11,
   "id": "6882b64f-672e-4be7-b372-c4fee05013a6",
   "metadata": {},
   "outputs": [
    {
     "data": {
      "text/latex": [
       "$\\displaystyle  P_i = \\frac{1} {1 + e^ {-( \\sum_{j=0}^{n}\\beta_j \\cdot x_{ij})} }$"
      ],
      "text/plain": [
       "<IPython.core.display.Math object>"
      ]
     },
     "metadata": {},
     "output_type": "display_data"
    }
   ],
   "source": [
    "display (Math(r' P_i = \\frac{1} {1 + e^ {-( \\sum_{j=0}^{n}\\beta_j \\cdot x_{ij})} }') )"
   ]
  },
  {
   "cell_type": "code",
   "execution_count": 146,
   "id": "b29c2c81-1b2d-4a2b-adcb-d1bd2fa8062f",
   "metadata": {},
   "outputs": [],
   "source": [
    "def logitprobs(X,beta):\n",
    "    import numpy as np\n",
    "    n_rows = np.shape(X)[0]\n",
    "    n_cols = np.shape(X)[1]\n",
    "    pi =  [0 for i in range(n_rows)] # lista de 0's\n",
    "    expon = [0 for i in range(n_rows)] # lista de 0's\n",
    "    for i in range(n_rows):\n",
    "        expon[i] = 0\n",
    "        for j in range(n_cols):\n",
    "            ex = X[i][j]*beta[j][0]\n",
    "            expon[i] += ex\n",
    "        with np.errstate(divide=\"ignore\", invalid=\"ignore\"):\n",
    "            pi[i] = 1/(1+np.exp(-expon[i]))\n",
    "    return pi\n",
    "        "
   ]
  },
  {
   "cell_type": "markdown",
   "id": "0da2eaa6-60d1-4c51-a8d2-4d86d5f86764",
   "metadata": {},
   "source": [
    "## Calcular la matriz diagonal W"
   ]
  },
  {
   "cell_type": "code",
   "execution_count": 15,
   "id": "44301782-6f21-4c91-bf4b-6ca2f130755e",
   "metadata": {},
   "outputs": [
    {
     "data": {
      "text/latex": [
       "$\\displaystyle W = diag(P_i \\cdot (1-P_i))_{i=1}^n $"
      ],
      "text/plain": [
       "<IPython.core.display.Math object>"
      ]
     },
     "metadata": {},
     "output_type": "display_data"
    }
   ],
   "source": [
    "display (Math(r'W = diag(P_i \\cdot (1-P_i))_{i=1}^n '))"
   ]
  },
  {
   "cell_type": "code",
   "execution_count": 16,
   "id": "385dad8e-ca8a-4a36-ad44-5b518636d9ef",
   "metadata": {},
   "outputs": [],
   "source": [
    "import numpy as np"
   ]
  },
  {
   "cell_type": "code",
   "execution_count": 17,
   "id": "e6f0e43c-dff6-417c-bd9c-8d9a7b1fa00b",
   "metadata": {},
   "outputs": [
    {
     "data": {
      "text/plain": [
       "array([[0., 0., 0.],\n",
       "       [0., 0., 0.],\n",
       "       [0., 0., 0.]])"
      ]
     },
     "execution_count": 17,
     "metadata": {},
     "output_type": "execute_result"
    }
   ],
   "source": [
    "np.zeros((3,3))"
   ]
  },
  {
   "cell_type": "code",
   "execution_count": 147,
   "id": "e2256c55-fb0e-4221-8ff0-0c07c1e87ece",
   "metadata": {},
   "outputs": [],
   "source": [
    "def findW(pi):\n",
    "    import numpy as np\n",
    "    n = len(pi)\n",
    "    W = np.zeros((n,n))\n",
    "    for i in range(n):\n",
    "        print (i)\n",
    "        W[i][i] = pi[i]*(1-pi[i])\n",
    "    return W"
   ]
  },
  {
   "cell_type": "markdown",
   "id": "a44a29af-8d71-4602-9d1e-2a5439ddd547",
   "metadata": {},
   "source": [
    "## Obtener la función logística"
   ]
  },
  {
   "cell_type": "code",
   "execution_count": 62,
   "id": "2f312ca1-5011-493f-8e90-b54cefeb772b",
   "metadata": {},
   "outputs": [
    {
     "data": {
      "text/latex": [
       "$\\displaystyle  x_{n+1} = x_n - \\frac{f(x_n)}{f'(x_n)} $"
      ],
      "text/plain": [
       "<IPython.core.display.Math object>"
      ]
     },
     "metadata": {},
     "output_type": "display_data"
    },
    {
     "data": {
      "text/latex": [
       "$\\displaystyle  f(X) = X(Y-P) $"
      ],
      "text/plain": [
       "<IPython.core.display.Math object>"
      ]
     },
     "metadata": {},
     "output_type": "display_data"
    },
    {
     "data": {
      "text/latex": [
       "$\\displaystyle  f'(X) = XWX^T $"
      ],
      "text/plain": [
       "<IPython.core.display.Math object>"
      ]
     },
     "metadata": {},
     "output_type": "display_data"
    }
   ],
   "source": [
    "display (Math(r\" x_{n+1} = x_n - \\frac{f(x_n)}{f'(x_n)} \"))\n",
    "display (Math(r\" f(X) = X(Y-P) \"))\n",
    "display (Math(r\" f'(X) = XWX^T \"))"
   ]
  },
  {
   "cell_type": "code",
   "execution_count": 148,
   "id": "219fa419-25d1-4a1d-855f-83427a3141e0",
   "metadata": {},
   "outputs": [],
   "source": [
    "def logistics(X,Y, limit):\n",
    "    import numpy as np\n",
    "    from numpy import linalg\n",
    "    n_rows = np.shape(X)[0]\n",
    "    bias = np.ones((n_rows,1))\n",
    "    X_new = np.append(bias, X, axis = 1)\n",
    "    n_cols = np.shape(X_new)[1]\n",
    "    beta = np.zeros((n_cols,1))\n",
    "    root_dif = np.zeros((n_cols,1))\n",
    "    iter_i = 10000\n",
    "    while (iter_i>limit):\n",
    "        print(\"iter_ i =\", iter_i)\n",
    "        print(\"ilimit =\", limit)\n",
    "        print(\"X_new =\", X_new)\n",
    "        print(\"beta =\", beta)\n",
    "        pi = logitprobs(X_new,beta)\n",
    "        print(\"pi= \", pi)\n",
    "        W = findW(pi)\n",
    "        print(\"W= \", W)\n",
    "        print(\"X_new= \", X_new)\n",
    "        print(\"X_new T= \", np.transpose(np.matrix(X_new)))\n",
    "        print(\"Y - P = \", np.transpose(np.matrix(Y-np.transpose(pi))))\n",
    "        num = np.transpose(np.matrix(X_new))*np.transpose(np.matrix(Y-np.transpose(pi))) #XT(Y-P)\n",
    "        den = -np.matrix(np.transpose(X_new))*np.matrix(W)*np.matrix(X_new)\n",
    "        inc = np.array(linalg.inv(den)*num)\n",
    "        beta = beta - inc\n",
    "        print(\"inc = \", inc)\n",
    "        print(\"beta = \", beta)\n",
    "        iter_i = np.sum(inc*inc)\n",
    "        print(\" iter_i = \", iter_i)\n",
    "        Li = likelihood(Y,pi)\n",
    "        print(\"Li = \", Li)\n",
    "    return beta\n",
    "        \n",
    "        \n",
    "    \n",
    "    \n",
    "    "
   ]
  },
  {
   "cell_type": "markdown",
   "id": "99139c5c-78cc-40d4-aa98-46be2b20d240",
   "metadata": {},
   "source": [
    "## Comprobación experimental"
   ]
  },
  {
   "cell_type": "code",
   "execution_count": 105,
   "id": "b4bfc67d-b45d-440b-8b3a-336092d928d0",
   "metadata": {},
   "outputs": [],
   "source": [
    "import numpy as np"
   ]
  },
  {
   "cell_type": "code",
   "execution_count": 94,
   "id": "da62c857-0f34-45bf-ba88-4c4c03fcc0d8",
   "metadata": {},
   "outputs": [],
   "source": [
    "X = np.array(range(10)).reshape(10,1)"
   ]
  },
  {
   "cell_type": "code",
   "execution_count": 95,
   "id": "567bd900-82f0-4520-a367-e4db77e1e4d0",
   "metadata": {},
   "outputs": [
    {
     "data": {
      "text/plain": [
       "(10, 1)"
      ]
     },
     "execution_count": 95,
     "metadata": {},
     "output_type": "execute_result"
    }
   ],
   "source": [
    "X.shape"
   ]
  },
  {
   "cell_type": "code",
   "execution_count": 96,
   "id": "464e8b65-83a4-4b91-bccf-393c25611084",
   "metadata": {},
   "outputs": [
    {
     "data": {
      "text/plain": [
       "array([[0],\n",
       "       [1],\n",
       "       [2],\n",
       "       [3],\n",
       "       [4],\n",
       "       [5],\n",
       "       [6],\n",
       "       [7],\n",
       "       [8],\n",
       "       [9]])"
      ]
     },
     "execution_count": 96,
     "metadata": {},
     "output_type": "execute_result"
    }
   ],
   "source": [
    "X"
   ]
  },
  {
   "cell_type": "code",
   "execution_count": 126,
   "id": "d351cb11-5d24-4ea4-a1ec-1cdb261664be",
   "metadata": {},
   "outputs": [],
   "source": [
    "Y = [0, 0, 0, 0, 1, 0 ,1,0, 1,1]"
   ]
  },
  {
   "cell_type": "code",
   "execution_count": 127,
   "id": "fbaa190b-a42c-4085-bce2-b74d7bab5f06",
   "metadata": {},
   "outputs": [
    {
     "data": {
      "text/plain": [
       "[0, 0, 0, 0, 1, 0, 1, 0, 1, 1]"
      ]
     },
     "execution_count": 127,
     "metadata": {},
     "output_type": "execute_result"
    }
   ],
   "source": [
    "Y"
   ]
  },
  {
   "cell_type": "code",
   "execution_count": 98,
   "id": "562dc10c-620e-4663-b159-311a846e30ad",
   "metadata": {},
   "outputs": [],
   "source": [
    "bias = np.ones((10,1))"
   ]
  },
  {
   "cell_type": "code",
   "execution_count": 99,
   "id": "cdbc15b6-b185-4c2d-a970-8a71e50496b0",
   "metadata": {},
   "outputs": [
    {
     "data": {
      "text/plain": [
       "array([[1.],\n",
       "       [1.],\n",
       "       [1.],\n",
       "       [1.],\n",
       "       [1.],\n",
       "       [1.],\n",
       "       [1.],\n",
       "       [1.],\n",
       "       [1.],\n",
       "       [1.]])"
      ]
     },
     "execution_count": 99,
     "metadata": {},
     "output_type": "execute_result"
    }
   ],
   "source": [
    "bias"
   ]
  },
  {
   "cell_type": "code",
   "execution_count": 100,
   "id": "a6c97a83-2bd0-43f4-88f0-68c813beb3c4",
   "metadata": {},
   "outputs": [
    {
     "data": {
      "text/plain": [
       "array([[1., 0.],\n",
       "       [1., 1.],\n",
       "       [1., 2.],\n",
       "       [1., 3.],\n",
       "       [1., 4.],\n",
       "       [1., 5.],\n",
       "       [1., 6.],\n",
       "       [1., 7.],\n",
       "       [1., 8.],\n",
       "       [1., 9.]])"
      ]
     },
     "execution_count": 100,
     "metadata": {},
     "output_type": "execute_result"
    }
   ],
   "source": [
    "X_new = np.append(bias, X, axis = 1)\n",
    "X_new"
   ]
  },
  {
   "cell_type": "code",
   "execution_count": 149,
   "id": "80b40537-0ae0-411f-ac89-4fa5cdb2aa0d",
   "metadata": {},
   "outputs": [
    {
     "name": "stdout",
     "output_type": "stream",
     "text": [
      "iter_ i = 10000\n",
      "ilimit = 1e-05\n",
      "X_new = [[1. 0.]\n",
      " [1. 1.]\n",
      " [1. 2.]\n",
      " [1. 3.]\n",
      " [1. 4.]\n",
      " [1. 5.]\n",
      " [1. 6.]\n",
      " [1. 7.]\n",
      " [1. 8.]\n",
      " [1. 9.]]\n",
      "beta = [[0.]\n",
      " [0.]]\n",
      "pi=  [0.5, 0.5, 0.5, 0.5, 0.5, 0.5, 0.5, 0.5, 0.5, 0.5]\n",
      "0\n",
      "1\n",
      "2\n",
      "3\n",
      "4\n",
      "5\n",
      "6\n",
      "7\n",
      "8\n",
      "9\n",
      "W=  [[0.25 0.   0.   0.   0.   0.   0.   0.   0.   0.  ]\n",
      " [0.   0.25 0.   0.   0.   0.   0.   0.   0.   0.  ]\n",
      " [0.   0.   0.25 0.   0.   0.   0.   0.   0.   0.  ]\n",
      " [0.   0.   0.   0.25 0.   0.   0.   0.   0.   0.  ]\n",
      " [0.   0.   0.   0.   0.25 0.   0.   0.   0.   0.  ]\n",
      " [0.   0.   0.   0.   0.   0.25 0.   0.   0.   0.  ]\n",
      " [0.   0.   0.   0.   0.   0.   0.25 0.   0.   0.  ]\n",
      " [0.   0.   0.   0.   0.   0.   0.   0.25 0.   0.  ]\n",
      " [0.   0.   0.   0.   0.   0.   0.   0.   0.25 0.  ]\n",
      " [0.   0.   0.   0.   0.   0.   0.   0.   0.   0.25]]\n",
      "X_new=  [[1. 0.]\n",
      " [1. 1.]\n",
      " [1. 2.]\n",
      " [1. 3.]\n",
      " [1. 4.]\n",
      " [1. 5.]\n",
      " [1. 6.]\n",
      " [1. 7.]\n",
      " [1. 8.]\n",
      " [1. 9.]]\n",
      "X_new T=  [[1. 1. 1. 1. 1. 1. 1. 1. 1. 1.]\n",
      " [0. 1. 2. 3. 4. 5. 6. 7. 8. 9.]]\n",
      "Y - P =  [[-0.5]\n",
      " [-0.5]\n",
      " [-0.5]\n",
      " [-0.5]\n",
      " [ 0.5]\n",
      " [-0.5]\n",
      " [ 0.5]\n",
      " [-0.5]\n",
      " [ 0.5]\n",
      " [ 0.5]]\n",
      "inc =  [[ 2.36363636]\n",
      " [-0.43636364]]\n",
      "beta =  [[-2.36363636]\n",
      " [ 0.43636364]]\n",
      " iter_i =  5.777190082644626\n",
      "Li =  0.0009765625\n",
      "iter_ i = 5.777190082644626\n",
      "ilimit = 1e-05\n",
      "X_new = [[1. 0.]\n",
      " [1. 1.]\n",
      " [1. 2.]\n",
      " [1. 3.]\n",
      " [1. 4.]\n",
      " [1. 5.]\n",
      " [1. 6.]\n",
      " [1. 7.]\n",
      " [1. 8.]\n",
      " [1. 9.]]\n",
      "beta = [[-2.36363636]\n",
      " [ 0.43636364]]\n",
      "pi=  [0.08598796739923162, 0.12705275536382712, 0.1837853170568528, 0.2583532045136849, 0.35019508135322835, 0.45467026111147996, 0.5632949741417991, 0.666169128029258, 0.7553352394612478, 0.8268745284126914]\n",
      "0\n",
      "1\n",
      "2\n",
      "3\n",
      "4\n",
      "5\n",
      "6\n",
      "7\n",
      "8\n",
      "9\n",
      "W=  [[0.07859404 0.         0.         0.         0.         0.\n",
      "  0.         0.         0.         0.        ]\n",
      " [0.         0.11091035 0.         0.         0.         0.\n",
      "  0.         0.         0.         0.        ]\n",
      " [0.         0.         0.15000827 0.         0.         0.\n",
      "  0.         0.         0.         0.        ]\n",
      " [0.         0.         0.         0.19160683 0.         0.\n",
      "  0.         0.         0.         0.        ]\n",
      " [0.         0.         0.         0.         0.22755849 0.\n",
      "  0.         0.         0.         0.        ]\n",
      " [0.         0.         0.         0.         0.         0.24794521\n",
      "  0.         0.         0.         0.        ]\n",
      " [0.         0.         0.         0.         0.         0.\n",
      "  0.24599375 0.         0.         0.        ]\n",
      " [0.         0.         0.         0.         0.         0.\n",
      "  0.         0.22238782 0.         0.        ]\n",
      " [0.         0.         0.         0.         0.         0.\n",
      "  0.         0.         0.18480392 0.        ]\n",
      " [0.         0.         0.         0.         0.         0.\n",
      "  0.         0.         0.         0.14315304]]\n",
      "X_new=  [[1. 0.]\n",
      " [1. 1.]\n",
      " [1. 2.]\n",
      " [1. 3.]\n",
      " [1. 4.]\n",
      " [1. 5.]\n",
      " [1. 6.]\n",
      " [1. 7.]\n",
      " [1. 8.]\n",
      " [1. 9.]]\n",
      "X_new T=  [[1. 1. 1. 1. 1. 1. 1. 1. 1. 1.]\n",
      " [0. 1. 2. 3. 4. 5. 6. 7. 8. 9.]]\n",
      "Y - P =  [[-0.08598797]\n",
      " [-0.12705276]\n",
      " [-0.18378532]\n",
      " [-0.2583532 ]\n",
      " [ 0.64980492]\n",
      " [-0.45467026]\n",
      " [ 0.43670503]\n",
      " [-0.66616913]\n",
      " [ 0.24466476]\n",
      " [ 0.17312547]]\n",
      "inc =  [[ 0.98277736]\n",
      " [-0.16789693]]\n",
      "beta =  [[-3.34641372]\n",
      " [ 0.60426056]]\n",
      " iter_i =  0.9940407075349111\n",
      "Li =  0.010833091142115708\n",
      "iter_ i = 0.9940407075349111\n",
      "ilimit = 1e-05\n",
      "X_new = [[1. 0.]\n",
      " [1. 1.]\n",
      " [1. 2.]\n",
      " [1. 3.]\n",
      " [1. 4.]\n",
      " [1. 5.]\n",
      " [1. 6.]\n",
      " [1. 7.]\n",
      " [1. 8.]\n",
      " [1. 9.]]\n",
      "beta = [[-3.34641372]\n",
      " [ 0.60426056]]\n",
      "pi=  [0.034012798042320116, 0.06053134317753693, 0.1054680464484059, 0.17746289741022134, 0.2830522468639345, 0.4194306877136221, 0.569337737801884, 0.7075284027353441, 0.8157284115973925, 0.8901164706566523]\n",
      "0\n",
      "1\n",
      "2\n",
      "3\n",
      "4\n",
      "5\n",
      "6\n",
      "7\n",
      "8\n",
      "9\n",
      "W=  [[0.03285593 0.         0.         0.         0.         0.\n",
      "  0.         0.         0.         0.        ]\n",
      " [0.         0.0568673  0.         0.         0.         0.\n",
      "  0.         0.         0.         0.        ]\n",
      " [0.         0.         0.09434454 0.         0.         0.\n",
      "  0.         0.         0.         0.        ]\n",
      " [0.         0.         0.         0.14596982 0.         0.\n",
      "  0.         0.         0.         0.        ]\n",
      " [0.         0.         0.         0.         0.20293367 0.\n",
      "  0.         0.         0.         0.        ]\n",
      " [0.         0.         0.         0.         0.         0.24350859\n",
      "  0.         0.         0.         0.        ]\n",
      " [0.         0.         0.         0.         0.         0.\n",
      "  0.24519228 0.         0.         0.        ]\n",
      " [0.         0.         0.         0.         0.         0.\n",
      "  0.         0.20693196 0.         0.        ]\n",
      " [0.         0.         0.         0.         0.         0.\n",
      "  0.         0.         0.15031557 0.        ]\n",
      " [0.         0.         0.         0.         0.         0.\n",
      "  0.         0.         0.         0.09780914]]\n",
      "X_new=  [[1. 0.]\n",
      " [1. 1.]\n",
      " [1. 2.]\n",
      " [1. 3.]\n",
      " [1. 4.]\n",
      " [1. 5.]\n",
      " [1. 6.]\n",
      " [1. 7.]\n",
      " [1. 8.]\n",
      " [1. 9.]]\n",
      "X_new T=  [[1. 1. 1. 1. 1. 1. 1. 1. 1. 1.]\n",
      " [0. 1. 2. 3. 4. 5. 6. 7. 8. 9.]]\n",
      "Y - P =  [[-0.0340128 ]\n",
      " [-0.06053134]\n",
      " [-0.10546805]\n",
      " [-0.1774629 ]\n",
      " [ 0.71694775]\n",
      " [-0.41943069]\n",
      " [ 0.43066226]\n",
      " [-0.7075284 ]\n",
      " [ 0.18427159]\n",
      " [ 0.10988353]]\n",
      "inc =  [[ 0.32118553]\n",
      " [-0.05335356]]\n",
      "beta =  [[-3.66759924]\n",
      " [ 0.65761412]]\n",
      " iter_i =  0.10600674406802002\n",
      "Li =  0.013266971648065756\n",
      "iter_ i = 0.10600674406802002\n",
      "ilimit = 1e-05\n",
      "X_new = [[1. 0.]\n",
      " [1. 1.]\n",
      " [1. 2.]\n",
      " [1. 3.]\n",
      " [1. 4.]\n",
      " [1. 5.]\n",
      " [1. 6.]\n",
      " [1. 7.]\n",
      " [1. 8.]\n",
      " [1. 9.]]\n",
      "beta = [[-3.66759924]\n",
      " [ 0.65761412]]\n",
      "pi=  [0.024901772071806674, 0.04697681180493634, 0.08687749731605122, 0.1551512886210402, 0.26170167796208504, 0.4062405910405773, 0.5690767949198017, 0.7182301821931686, 0.8310818124124388, 0.904730540608914]\n",
      "0\n",
      "1\n",
      "2\n",
      "3\n",
      "4\n",
      "5\n",
      "6\n",
      "7\n",
      "8\n",
      "9\n",
      "W=  [[0.02428167 0.         0.         0.         0.         0.\n",
      "  0.         0.         0.         0.        ]\n",
      " [0.         0.04476999 0.         0.         0.         0.\n",
      "  0.         0.         0.         0.        ]\n",
      " [0.         0.         0.0793298  0.         0.         0.\n",
      "  0.         0.         0.         0.        ]\n",
      " [0.         0.         0.         0.13107937 0.         0.\n",
      "  0.         0.         0.         0.        ]\n",
      " [0.         0.         0.         0.         0.19321391 0.\n",
      "  0.         0.         0.         0.        ]\n",
      " [0.         0.         0.         0.         0.         0.24120917\n",
      "  0.         0.         0.         0.        ]\n",
      " [0.         0.         0.         0.         0.         0.\n",
      "  0.2452284  0.         0.         0.        ]\n",
      " [0.         0.         0.         0.         0.         0.\n",
      "  0.         0.20237559 0.         0.        ]\n",
      " [0.         0.         0.         0.         0.         0.\n",
      "  0.         0.         0.14038483 0.        ]\n",
      " [0.         0.         0.         0.         0.         0.\n",
      "  0.         0.         0.         0.08619319]]\n",
      "X_new=  [[1. 0.]\n",
      " [1. 1.]\n",
      " [1. 2.]\n",
      " [1. 3.]\n",
      " [1. 4.]\n",
      " [1. 5.]\n",
      " [1. 6.]\n",
      " [1. 7.]\n",
      " [1. 8.]\n",
      " [1. 9.]]\n",
      "X_new T=  [[1. 1. 1. 1. 1. 1. 1. 1. 1. 1.]\n",
      " [0. 1. 2. 3. 4. 5. 6. 7. 8. 9.]]\n",
      "Y - P =  [[-0.02490177]\n",
      " [-0.04697681]\n",
      " [-0.0868775 ]\n",
      " [-0.15515129]\n",
      " [ 0.73829832]\n",
      " [-0.40624059]\n",
      " [ 0.43092321]\n",
      " [-0.71823018]\n",
      " [ 0.16891819]\n",
      " [ 0.09526946]]\n",
      "inc =  [[ 0.02778505]\n",
      " [-0.00456354]]\n",
      "beta =  [[-3.6953843 ]\n",
      " [ 0.66217766]]\n",
      " iter_i =  0.0007928351246008178\n",
      "Li =  0.013430903087643928\n",
      "iter_ i = 0.0007928351246008178\n",
      "ilimit = 1e-05\n",
      "X_new = [[1. 0.]\n",
      " [1. 1.]\n",
      " [1. 2.]\n",
      " [1. 3.]\n",
      " [1. 4.]\n",
      " [1. 5.]\n",
      " [1. 6.]\n",
      " [1. 7.]\n",
      " [1. 8.]\n",
      " [1. 9.]]\n",
      "beta = [[-3.6953843 ]\n",
      " [ 0.66217766]]\n",
      "pi=  [0.024235936720994507, 0.04594805330639818, 0.08540872736360255, 0.1533127642321549, 0.25986436076556196, 0.40504297570813125, 0.5689777603811206, 0.7190712395774107, 0.8323028884386742, 0.9058696278514174]\n",
      "0\n",
      "1\n",
      "2\n",
      "3\n",
      "4\n",
      "5\n",
      "6\n",
      "7\n",
      "8\n",
      "9\n",
      "W=  [[0.02364856 0.         0.         0.         0.         0.\n",
      "  0.         0.         0.         0.        ]\n",
      " [0.         0.04383683 0.         0.         0.         0.\n",
      "  0.         0.         0.         0.        ]\n",
      " [0.         0.         0.07811408 0.         0.         0.\n",
      "  0.         0.         0.         0.        ]\n",
      " [0.         0.         0.         0.12980796 0.         0.\n",
      "  0.         0.         0.         0.        ]\n",
      " [0.         0.         0.         0.         0.19233487 0.\n",
      "  0.         0.         0.         0.        ]\n",
      " [0.         0.         0.         0.         0.         0.24098316\n",
      "  0.         0.         0.         0.        ]\n",
      " [0.         0.         0.         0.         0.         0.\n",
      "  0.24524207 0.         0.         0.        ]\n",
      " [0.         0.         0.         0.         0.         0.\n",
      "  0.         0.20200779 0.         0.        ]\n",
      " [0.         0.         0.         0.         0.         0.\n",
      "  0.         0.         0.13957479 0.        ]\n",
      " [0.         0.         0.         0.         0.         0.\n",
      "  0.         0.         0.         0.08526985]]\n",
      "X_new=  [[1. 0.]\n",
      " [1. 1.]\n",
      " [1. 2.]\n",
      " [1. 3.]\n",
      " [1. 4.]\n",
      " [1. 5.]\n",
      " [1. 6.]\n",
      " [1. 7.]\n",
      " [1. 8.]\n",
      " [1. 9.]]\n",
      "X_new T=  [[1. 1. 1. 1. 1. 1. 1. 1. 1. 1.]\n",
      " [0. 1. 2. 3. 4. 5. 6. 7. 8. 9.]]\n",
      "Y - P =  [[-0.02423594]\n",
      " [-0.04594805]\n",
      " [-0.08540873]\n",
      " [-0.15331276]\n",
      " [ 0.74013564]\n",
      " [-0.40504298]\n",
      " [ 0.43102224]\n",
      " [-0.71907124]\n",
      " [ 0.16769711]\n",
      " [ 0.09413037]]\n",
      "inc =  [[ 1.87416881e-04]\n",
      " [-3.06076794e-05]]\n",
      "beta =  [[-3.69557172]\n",
      " [ 0.66220827]]\n",
      " iter_i =  3.6061917351043804e-08\n",
      "Li =  0.013431911454307721\n"
     ]
    }
   ],
   "source": [
    "a = logistics(X,Y,0.00001)"
   ]
  },
  {
   "cell_type": "code",
   "execution_count": 81,
   "id": "727a97a6-9514-4b33-9d1c-c65caca921a1",
   "metadata": {},
   "outputs": [
    {
     "data": {
      "text/plain": [
       "array([0., 0., 0., 0.])"
      ]
     },
     "execution_count": 81,
     "metadata": {},
     "output_type": "execute_result"
    }
   ],
   "source": [
    "np.zeros(4)"
   ]
  },
  {
   "cell_type": "markdown",
   "id": "5725c96a-e937-422e-97fe-29a7bba32793",
   "metadata": {},
   "source": [
    "Y = -3.69557172 + 0.66220827* X En el modelo logístico P = 1/(1+ exp(-Y))"
   ]
  },
  {
   "cell_type": "markdown",
   "id": "eb8bfa15-31d1-4cec-8352-efb8cd39ab00",
   "metadata": {},
   "source": [
    "## Con el paquete stats de Python"
   ]
  },
  {
   "cell_type": "code",
   "execution_count": 153,
   "id": "2ed05d5c-7c8e-4068-9b33-5850166bdefe",
   "metadata": {},
   "outputs": [],
   "source": [
    "import statsmodels.api as sm"
   ]
  },
  {
   "cell_type": "code",
   "execution_count": 154,
   "id": "cc266711-9ce2-4224-867c-39e5e8c4f1e6",
   "metadata": {},
   "outputs": [
    {
     "data": {
      "text/plain": [
       "[0, 0, 0, 0, 1, 0, 1, 0, 1, 1]"
      ]
     },
     "execution_count": 154,
     "metadata": {},
     "output_type": "execute_result"
    }
   ],
   "source": [
    "Y"
   ]
  },
  {
   "cell_type": "code",
   "execution_count": 155,
   "id": "551e149b-cd8d-447d-962f-831cbd6f0aac",
   "metadata": {},
   "outputs": [
    {
     "data": {
      "text/plain": [
       "array([[1., 0.],\n",
       "       [1., 1.],\n",
       "       [1., 2.],\n",
       "       [1., 3.],\n",
       "       [1., 4.],\n",
       "       [1., 5.],\n",
       "       [1., 6.],\n",
       "       [1., 7.],\n",
       "       [1., 8.],\n",
       "       [1., 9.]])"
      ]
     },
     "execution_count": 155,
     "metadata": {},
     "output_type": "execute_result"
    }
   ],
   "source": [
    "X_new"
   ]
  },
  {
   "cell_type": "code",
   "execution_count": 156,
   "id": "9a23a17a-9c6a-47c4-b3c6-46ebd5143aa7",
   "metadata": {},
   "outputs": [],
   "source": [
    "logit_model = sm.Logit(Y,X_new)"
   ]
  },
  {
   "cell_type": "code",
   "execution_count": 157,
   "id": "3f5cde77-41cc-4164-8749-31910266b472",
   "metadata": {},
   "outputs": [
    {
     "name": "stdout",
     "output_type": "stream",
     "text": [
      "Optimization terminated successfully.\n",
      "         Current function value: 0.431012\n",
      "         Iterations 6\n"
     ]
    }
   ],
   "source": [
    "result = logit_model.fit()"
   ]
  },
  {
   "cell_type": "code",
   "execution_count": 158,
   "id": "0b7f0383-d693-4863-b7d4-f4d0f8650f47",
   "metadata": {},
   "outputs": [
    {
     "name": "stdout",
     "output_type": "stream",
     "text": [
      "                           Logit Regression Results                           \n",
      "==============================================================================\n",
      "Dep. Variable:                      y   No. Observations:                   10\n",
      "Model:                          Logit   Df Residuals:                        8\n",
      "Method:                           MLE   Df Model:                            1\n",
      "Date:                Mon, 23 Sep 2024   Pseudo R-squ.:                  0.3596\n",
      "Time:                        14:14:41   Log-Likelihood:                -4.3101\n",
      "converged:                       True   LL-Null:                       -6.7301\n",
      "Covariance Type:            nonrobust   LLR p-value:                   0.02781\n",
      "==============================================================================\n",
      "                 coef    std err          z      P>|z|      [0.025      0.975]\n",
      "------------------------------------------------------------------------------\n",
      "const         -3.6956      2.289     -1.615      0.106      -8.182       0.791\n",
      "x1             0.6622      0.400      1.655      0.098      -0.122       1.446\n",
      "==============================================================================\n"
     ]
    }
   ],
   "source": [
    "print(result.summary())"
   ]
  },
  {
   "cell_type": "code",
   "execution_count": null,
   "id": "e6097a3d-eeee-445b-97f8-6311bdfd4f0b",
   "metadata": {},
   "outputs": [],
   "source": []
  }
 ],
 "metadata": {
  "kernelspec": {
   "display_name": "Python 3 (ipykernel)",
   "language": "python",
   "name": "python3"
  },
  "language_info": {
   "codemirror_mode": {
    "name": "ipython",
    "version": 3
   },
   "file_extension": ".py",
   "mimetype": "text/x-python",
   "name": "python",
   "nbconvert_exporter": "python",
   "pygments_lexer": "ipython3",
   "version": "3.11.9"
  }
 },
 "nbformat": 4,
 "nbformat_minor": 5
}
