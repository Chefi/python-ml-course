{
 "cells": [
  {
   "cell_type": "markdown",
   "id": "66719819-d382-4e2c-93b8-9bb4ba0c2dd5",
   "metadata": {},
   "source": [
    "## Regresión Logística\n",
    "# Tablas de contingencia"
   ]
  },
  {
   "cell_type": "code",
   "execution_count": 1,
   "id": "e86579b6-fef5-40be-9a8e-ea04487d68bd",
   "metadata": {},
   "outputs": [],
   "source": [
    "import pandas as pd"
   ]
  },
  {
   "cell_type": "code",
   "execution_count": 2,
   "id": "be7c272d-bdf2-47b5-b224-3baa7f6fa54c",
   "metadata": {},
   "outputs": [],
   "source": [
    "df = pd.read_csv(\"../datasets/gender-purchase/Gender Purchase.csv\")"
   ]
  },
  {
   "cell_type": "code",
   "execution_count": 3,
   "id": "68864373-39b5-466f-8001-630a82b54499",
   "metadata": {},
   "outputs": [
    {
     "data": {
      "text/html": [
       "<div>\n",
       "<style scoped>\n",
       "    .dataframe tbody tr th:only-of-type {\n",
       "        vertical-align: middle;\n",
       "    }\n",
       "\n",
       "    .dataframe tbody tr th {\n",
       "        vertical-align: top;\n",
       "    }\n",
       "\n",
       "    .dataframe thead th {\n",
       "        text-align: right;\n",
       "    }\n",
       "</style>\n",
       "<table border=\"1\" class=\"dataframe\">\n",
       "  <thead>\n",
       "    <tr style=\"text-align: right;\">\n",
       "      <th></th>\n",
       "      <th>Gender</th>\n",
       "      <th>Purchase</th>\n",
       "    </tr>\n",
       "  </thead>\n",
       "  <tbody>\n",
       "    <tr>\n",
       "      <th>0</th>\n",
       "      <td>Female</td>\n",
       "      <td>Yes</td>\n",
       "    </tr>\n",
       "    <tr>\n",
       "      <th>1</th>\n",
       "      <td>Female</td>\n",
       "      <td>Yes</td>\n",
       "    </tr>\n",
       "    <tr>\n",
       "      <th>2</th>\n",
       "      <td>Female</td>\n",
       "      <td>No</td>\n",
       "    </tr>\n",
       "    <tr>\n",
       "      <th>3</th>\n",
       "      <td>Male</td>\n",
       "      <td>No</td>\n",
       "    </tr>\n",
       "    <tr>\n",
       "      <th>4</th>\n",
       "      <td>Male</td>\n",
       "      <td>Yes</td>\n",
       "    </tr>\n",
       "  </tbody>\n",
       "</table>\n",
       "</div>"
      ],
      "text/plain": [
       "   Gender Purchase\n",
       "0  Female      Yes\n",
       "1  Female      Yes\n",
       "2  Female       No\n",
       "3    Male       No\n",
       "4    Male      Yes"
      ]
     },
     "execution_count": 3,
     "metadata": {},
     "output_type": "execute_result"
    }
   ],
   "source": [
    "df.head()"
   ]
  },
  {
   "cell_type": "code",
   "execution_count": 4,
   "id": "52bb9383-97be-4dbf-ab44-29c889dc7a9e",
   "metadata": {},
   "outputs": [
    {
     "data": {
      "text/plain": [
       "(511, 2)"
      ]
     },
     "execution_count": 4,
     "metadata": {},
     "output_type": "execute_result"
    }
   ],
   "source": [
    "df.shape"
   ]
  },
  {
   "cell_type": "code",
   "execution_count": 5,
   "id": "e1ac04d0-47b0-4d64-96b1-1bc55aaeed82",
   "metadata": {},
   "outputs": [],
   "source": [
    "contingency_table = pd.crosstab(df[\"Gender\"],df[\"Purchase\"])"
   ]
  },
  {
   "cell_type": "code",
   "execution_count": 6,
   "id": "19c8c1ce-677b-4faf-ac88-371be0cf2bea",
   "metadata": {},
   "outputs": [
    {
     "data": {
      "text/html": [
       "<div>\n",
       "<style scoped>\n",
       "    .dataframe tbody tr th:only-of-type {\n",
       "        vertical-align: middle;\n",
       "    }\n",
       "\n",
       "    .dataframe tbody tr th {\n",
       "        vertical-align: top;\n",
       "    }\n",
       "\n",
       "    .dataframe thead th {\n",
       "        text-align: right;\n",
       "    }\n",
       "</style>\n",
       "<table border=\"1\" class=\"dataframe\">\n",
       "  <thead>\n",
       "    <tr style=\"text-align: right;\">\n",
       "      <th>Purchase</th>\n",
       "      <th>No</th>\n",
       "      <th>Yes</th>\n",
       "    </tr>\n",
       "    <tr>\n",
       "      <th>Gender</th>\n",
       "      <th></th>\n",
       "      <th></th>\n",
       "    </tr>\n",
       "  </thead>\n",
       "  <tbody>\n",
       "    <tr>\n",
       "      <th>Female</th>\n",
       "      <td>106</td>\n",
       "      <td>159</td>\n",
       "    </tr>\n",
       "    <tr>\n",
       "      <th>Male</th>\n",
       "      <td>125</td>\n",
       "      <td>121</td>\n",
       "    </tr>\n",
       "  </tbody>\n",
       "</table>\n",
       "</div>"
      ],
      "text/plain": [
       "Purchase   No  Yes\n",
       "Gender            \n",
       "Female    106  159\n",
       "Male      125  121"
      ]
     },
     "execution_count": 6,
     "metadata": {},
     "output_type": "execute_result"
    }
   ],
   "source": [
    "contingency_table "
   ]
  },
  {
   "cell_type": "code",
   "execution_count": 7,
   "id": "bef9027b-7ea4-424d-8a78-0cd70d883bef",
   "metadata": {},
   "outputs": [
    {
     "data": {
      "text/plain": [
       "Gender\n",
       "Female    265\n",
       "Male      246\n",
       "dtype: int64"
      ]
     },
     "execution_count": 7,
     "metadata": {},
     "output_type": "execute_result"
    }
   ],
   "source": [
    "contingency_table.sum(axis=1)"
   ]
  },
  {
   "cell_type": "code",
   "execution_count": 8,
   "id": "54e00b8c-ae87-4e47-8159-d7c61b873450",
   "metadata": {},
   "outputs": [
    {
     "data": {
      "text/plain": [
       "Purchase\n",
       "No     231\n",
       "Yes    280\n",
       "dtype: int64"
      ]
     },
     "execution_count": 8,
     "metadata": {},
     "output_type": "execute_result"
    }
   ],
   "source": [
    "contingency_table.sum(axis=0)"
   ]
  },
  {
   "cell_type": "code",
   "execution_count": 9,
   "id": "55b2517d-3ea8-4a86-8926-c05c03639380",
   "metadata": {},
   "outputs": [
    {
     "data": {
      "text/html": [
       "<div>\n",
       "<style scoped>\n",
       "    .dataframe tbody tr th:only-of-type {\n",
       "        vertical-align: middle;\n",
       "    }\n",
       "\n",
       "    .dataframe tbody tr th {\n",
       "        vertical-align: top;\n",
       "    }\n",
       "\n",
       "    .dataframe thead th {\n",
       "        text-align: right;\n",
       "    }\n",
       "</style>\n",
       "<table border=\"1\" class=\"dataframe\">\n",
       "  <thead>\n",
       "    <tr style=\"text-align: right;\">\n",
       "      <th>Purchase</th>\n",
       "      <th>No</th>\n",
       "      <th>Yes</th>\n",
       "    </tr>\n",
       "    <tr>\n",
       "      <th>Gender</th>\n",
       "      <th></th>\n",
       "      <th></th>\n",
       "    </tr>\n",
       "  </thead>\n",
       "  <tbody>\n",
       "    <tr>\n",
       "      <th>Female</th>\n",
       "      <td>0.40000</td>\n",
       "      <td>0.60000</td>\n",
       "    </tr>\n",
       "    <tr>\n",
       "      <th>Male</th>\n",
       "      <td>0.50813</td>\n",
       "      <td>0.49187</td>\n",
       "    </tr>\n",
       "  </tbody>\n",
       "</table>\n",
       "</div>"
      ],
      "text/plain": [
       "Purchase       No      Yes\n",
       "Gender                    \n",
       "Female    0.40000  0.60000\n",
       "Male      0.50813  0.49187"
      ]
     },
     "execution_count": 9,
     "metadata": {},
     "output_type": "execute_result"
    }
   ],
   "source": [
    "contingency_table.astype(\"float\").div(contingency_table.sum(axis=1), axis=0)"
   ]
  },
  {
   "cell_type": "markdown",
   "id": "7e660940-8b13-4052-987d-c2512aca5f85",
   "metadata": {},
   "source": [
    "## Probabilidad condicional"
   ]
  },
  {
   "cell_type": "markdown",
   "id": "becba591-b5d5-430c-b820-89521dcffce1",
   "metadata": {},
   "source": [
    "* ¿Cuál es la probabilidad de que un cliente compre un producto si es hombre?\n",
    "* ¿Cuál es la probabilidad de que sabiendo que un cliente compra un producto sea hombre?"
   ]
  },
  {
   "cell_type": "code",
   "execution_count": 11,
   "id": "4733f471-f4c4-493b-aaf5-2175cd441636",
   "metadata": {},
   "outputs": [],
   "source": [
    "from IPython.display import display, Math, Latex"
   ]
  },
  {
   "cell_type": "code",
   "execution_count": 18,
   "id": "d3ef5a46-7871-4c62-961c-34bc48703a49",
   "metadata": {},
   "outputs": [
    {
     "data": {
      "text/latex": [
       "$\\displaystyle P(Purchase|Male) = \\frac {Número\\ total\\ de\\ compras\\ hechas\\ por\\ hombres}{Número\\ total\\ de\\ hombres} =  \\frac {Compran \\cap Hombre}{Hombre}$"
      ],
      "text/plain": [
       "<IPython.core.display.Math object>"
      ]
     },
     "metadata": {},
     "output_type": "display_data"
    }
   ],
   "source": [
    "display (Math(r'P(Purchase|Male) = \\frac {Número\\ total\\ de\\ compras\\ hechas\\ por\\ hombres}{Número\\ total\\ de\\ hombres} =  \\frac {Compran \\cap Hombre}{Hombre}' ))"
   ]
  },
  {
   "cell_type": "code",
   "execution_count": 20,
   "id": "085234b6-e4d6-4f36-ac98-45300b6dc05f",
   "metadata": {},
   "outputs": [
    {
     "data": {
      "text/plain": [
       "0.491869918699187"
      ]
     },
     "execution_count": 20,
     "metadata": {},
     "output_type": "execute_result"
    }
   ],
   "source": [
    "P1 = 121/(121+125)\n",
    "P1"
   ]
  },
  {
   "cell_type": "code",
   "execution_count": 24,
   "id": "75d9dbbc-150f-4acf-90a6-e5e35925e62b",
   "metadata": {},
   "outputs": [
    {
     "data": {
      "text/latex": [
       "$\\displaystyle P(Male|Purchase) = \\frac {Número\\ total\\ de\\ compras\\ hechas\\ por\\ hombres}{Número\\ total\\ de\\ compras} =  \\frac {Compran \\cap Hombre}{Total\\ de\\ compras}$"
      ],
      "text/plain": [
       "<IPython.core.display.Math object>"
      ]
     },
     "metadata": {},
     "output_type": "display_data"
    }
   ],
   "source": [
    "display (Math(r'P(Male|Purchase) = \\frac {Número\\ total\\ de\\ compras\\ hechas\\ por\\ hombres}{Número\\ total\\ de\\ compras} =  \\frac {Compran \\cap Hombre}{Total\\ de\\ compras}' ))"
   ]
  },
  {
   "cell_type": "code",
   "execution_count": 25,
   "id": "6cb1018f-4b31-4af8-afdb-8c4b9e60ef61",
   "metadata": {},
   "outputs": [
    {
     "data": {
      "text/plain": [
       "0.43214285714285716"
      ]
     },
     "execution_count": 25,
     "metadata": {},
     "output_type": "execute_result"
    }
   ],
   "source": [
    "P2 = 121 / (121+ 159)\n",
    "P2"
   ]
  },
  {
   "cell_type": "code",
   "execution_count": 30,
   "id": "3fa1a4fa-3fcb-4d02-b534-7cf500b8d166",
   "metadata": {},
   "outputs": [
    {
     "data": {
      "text/latex": [
       "$\\displaystyle P(No\\ Purchase|Male) = 1- P(Purchase|Male)$"
      ],
      "text/plain": [
       "<IPython.core.display.Math object>"
      ]
     },
     "metadata": {},
     "output_type": "display_data"
    },
    {
     "data": {
      "text/plain": [
       "0.5081300813008129"
      ]
     },
     "execution_count": 30,
     "metadata": {},
     "output_type": "execute_result"
    }
   ],
   "source": [
    "display (Math(r'P(No\\ Purchase|Male) = 1- P(Purchase|Male)'))\n",
    "1-P1"
   ]
  },
  {
   "cell_type": "code",
   "execution_count": 31,
   "id": "275cd6f8-47cb-4c7a-98da-71a26c3b1481",
   "metadata": {},
   "outputs": [
    {
     "data": {
      "text/latex": [
       "$\\displaystyle P(Female | Compra) = 1- P(Male| Compra)$"
      ],
      "text/plain": [
       "<IPython.core.display.Math object>"
      ]
     },
     "metadata": {},
     "output_type": "display_data"
    },
    {
     "data": {
      "text/plain": [
       "0.5678571428571428"
      ]
     },
     "execution_count": 31,
     "metadata": {},
     "output_type": "execute_result"
    }
   ],
   "source": [
    "display (Math(r'P(Female | Compra) = 1- P(Male| Compra)'))\n",
    "1-P2"
   ]
  },
  {
   "cell_type": "code",
   "execution_count": 38,
   "id": "01d802a2-d9d5-4a32-b729-4cabca050207",
   "metadata": {},
   "outputs": [
    {
     "data": {
      "text/latex": [
       "$\\displaystyle P(Purchase|Male)$"
      ],
      "text/plain": [
       "<IPython.core.display.Math object>"
      ]
     },
     "metadata": {},
     "output_type": "display_data"
    },
    {
     "name": "stdout",
     "output_type": "stream",
     "text": [
      "0.491869918699187\n"
     ]
    },
    {
     "data": {
      "text/latex": [
       "$\\displaystyle P(No\\ Purchase|Male)$"
      ],
      "text/plain": [
       "<IPython.core.display.Math object>"
      ]
     },
     "metadata": {},
     "output_type": "display_data"
    },
    {
     "name": "stdout",
     "output_type": "stream",
     "text": [
      "0.5081300813008129\n"
     ]
    },
    {
     "data": {
      "text/latex": [
       "$\\displaystyle P(Purchase|Female)$"
      ],
      "text/plain": [
       "<IPython.core.display.Math object>"
      ]
     },
     "metadata": {},
     "output_type": "display_data"
    },
    {
     "name": "stdout",
     "output_type": "stream",
     "text": [
      "0.6\n"
     ]
    },
    {
     "data": {
      "text/latex": [
       "$\\displaystyle P(No\\ Purchase|Female)$"
      ],
      "text/plain": [
       "<IPython.core.display.Math object>"
      ]
     },
     "metadata": {},
     "output_type": "display_data"
    },
    {
     "name": "stdout",
     "output_type": "stream",
     "text": [
      "0.4\n"
     ]
    }
   ],
   "source": [
    "display (Math(r'P(Purchase|Male)' ))\n",
    "print(121/(121+125))\n",
    "display (Math(r'P(No\\ Purchase|Male)' ))\n",
    "print(1- 121/(121+125))\n",
    "display (Math(r'P(Purchase|Female)' ))\n",
    "print(159/(159+106))\n",
    "display (Math(r'P(No\\ Purchase|Female)' ))\n",
    "print(1- 159/(159+106))"
   ]
  },
  {
   "cell_type": "markdown",
   "id": "c8c83c36-74d9-4f27-9ba1-a55ad024ac87",
   "metadata": {},
   "source": [
    "## Ratio de probabilidades\n",
    "Cociente entre los casos de éxito sobre los casos de fracaso del suceso en cada grupo"
   ]
  },
  {
   "cell_type": "code",
   "execution_count": 64,
   "id": "0c8cfc0e-be5b-453b-ae93-dfaf03cf3c41",
   "metadata": {},
   "outputs": [
    {
     "data": {
      "text/latex": [
       "$\\displaystyle P_m = probabilidad\\ de\\ compra\\ dado\\ hombre $"
      ],
      "text/plain": [
       "<IPython.core.display.Math object>"
      ]
     },
     "metadata": {},
     "output_type": "display_data"
    },
    {
     "data": {
      "text/latex": [
       "$\\displaystyle odds_{purchase| male} =  \\frac{P_m}{1-P_m} = \\frac{N_{p,m}}{N_{\\bar p , m}} = \\frac{hombres\\ compran}{hombres\\ no\\ compran  }$"
      ],
      "text/plain": [
       "<IPython.core.display.Math object>"
      ]
     },
     "metadata": {},
     "output_type": "display_data"
    },
    {
     "data": {
      "text/latex": [
       "$\\displaystyle odds_{purchase| male} \\in [0,+\\infty] $"
      ],
      "text/plain": [
       "<IPython.core.display.Math object>"
      ]
     },
     "metadata": {},
     "output_type": "display_data"
    },
    {
     "data": {
      "text/latex": [
       "$\\displaystyle P_f = probabilidad\\ de\\ compra\\ dado\\ mujer $"
      ],
      "text/plain": [
       "<IPython.core.display.Math object>"
      ]
     },
     "metadata": {},
     "output_type": "display_data"
    },
    {
     "data": {
      "text/latex": [
       "$\\displaystyle odds_{purchase| female} =  \\frac{P_f}{1-P_f} = \\frac{N_{p,f}}{N_{\\bar p , f}} = \\frac{mujeres\\ compran}{mujeres\\ no\\ compran  }$"
      ],
      "text/plain": [
       "<IPython.core.display.Math object>"
      ]
     },
     "metadata": {},
     "output_type": "display_data"
    },
    {
     "data": {
      "text/latex": [
       "$\\displaystyle odds_{purchase| female} \\in [0,+\\infty] $"
      ],
      "text/plain": [
       "<IPython.core.display.Math object>"
      ]
     },
     "metadata": {},
     "output_type": "display_data"
    }
   ],
   "source": [
    "display (Math(r'P_m = probabilidad\\ de\\ compra\\ dado\\ hombre ' ))\n",
    "display (Math(r'odds_{purchase| male} =  \\frac{P_m}{1-P_m} = \\frac{N_{p,m}}{N_{\\bar p , m}} = \\frac{hombres\\ compran}{hombres\\ no\\ compran  }' ))\n",
    "display (Math(r'odds_{purchase| male} \\in [0,+\\infty] ' ))\n",
    "display (Math(r'P_f = probabilidad\\ de\\ compra\\ dado\\ mujer ' ))\n",
    "display (Math(r'odds_{purchase| female} =  \\frac{P_f}{1-P_f} = \\frac{N_{p,f}}{N_{\\bar p , f}} = \\frac{mujeres\\ compran}{mujeres\\ no\\ compran  }' ))\n",
    "display (Math(r'odds_{purchase| female} \\in [0,+\\infty] ' ))"
   ]
  },
  {
   "cell_type": "code",
   "execution_count": 47,
   "id": "d3d38ed0-1a4d-4b98-ba09-4b7ff95a6708",
   "metadata": {},
   "outputs": [
    {
     "data": {
      "text/plain": [
       "(0.491869918699187, 0.6)"
      ]
     },
     "execution_count": 47,
     "metadata": {},
     "output_type": "execute_result"
    }
   ],
   "source": [
    "Pm = 121/(121+125)\n",
    "Pf = 159/(159+106)\n",
    "Pm, Pf"
   ]
  },
  {
   "cell_type": "code",
   "execution_count": 50,
   "id": "e21e6252-1a91-41cb-9905-31de2f435f4e",
   "metadata": {},
   "outputs": [
    {
     "data": {
      "text/plain": [
       "(0.9680000000000002, 1.4999999999999998)"
      ]
     },
     "execution_count": 50,
     "metadata": {},
     "output_type": "execute_result"
    }
   ],
   "source": [
    "odds_m = Pm/(1-Pm)\n",
    "odds_f = Pf/(1-Pf)\n",
    "odds_m, odds_f"
   ]
  },
  {
   "cell_type": "code",
   "execution_count": 51,
   "id": "5c617cac-20cd-4bad-b4ac-60936db30ab6",
   "metadata": {},
   "outputs": [
    {
     "data": {
      "text/plain": [
       "0.968"
      ]
     },
     "execution_count": 51,
     "metadata": {},
     "output_type": "execute_result"
    }
   ],
   "source": [
    "121/125"
   ]
  },
  {
   "cell_type": "code",
   "execution_count": 52,
   "id": "7281044d-d0b7-4d82-b9af-eb4156639637",
   "metadata": {},
   "outputs": [
    {
     "data": {
      "text/plain": [
       "1.5"
      ]
     },
     "execution_count": 52,
     "metadata": {},
     "output_type": "execute_result"
    }
   ],
   "source": [
    "159/106"
   ]
  },
  {
   "cell_type": "markdown",
   "id": "3c1cee52-1d62-40d2-af32-4b741dcca35e",
   "metadata": {},
   "source": [
    "* Si el ratio es superior a 1 es más probable el éxito que el fracaso (Probabilidad de éxito > Probabilidad de fracaso)\n",
    "* Si el ratio es inferior a 1 es más probable el fracaso que el éxito (Probabilidad de fracaso > Probabilidad de éxito)\n"
   ]
  },
  {
   "cell_type": "code",
   "execution_count": 67,
   "id": "9669c1c0-5274-4888-9132-6868e02fbfb1",
   "metadata": {},
   "outputs": [
    {
     "data": {
      "text/latex": [
       "$\\displaystyle odds_{ratio} = \\frac{odds_{purchase| male}}{odds_{purchase| female}} $"
      ],
      "text/plain": [
       "<IPython.core.display.Math object>"
      ]
     },
     "metadata": {},
     "output_type": "display_data"
    }
   ],
   "source": [
    "display (Math(r'odds_{ratio} = \\frac{odds_{purchase| male}}{odds_{purchase| female}} ' ))"
   ]
  },
  {
   "cell_type": "code",
   "execution_count": 69,
   "id": "30ffb941-5de5-4da1-878d-a8c999b23af5",
   "metadata": {},
   "outputs": [
    {
     "data": {
      "text/plain": [
       "0.6453333333333335"
      ]
     },
     "execution_count": 69,
     "metadata": {},
     "output_type": "execute_result"
    }
   ],
   "source": [
    "odds_r = odds_m/ odds_f\n",
    "odds_r"
   ]
  },
  {
   "cell_type": "markdown",
   "id": "811d6574-6fb5-4cca-99d5-f10ab43d7b3e",
   "metadata": {},
   "source": [
    "## Regresión Logística desde Regresión Lineal"
   ]
  },
  {
   "cell_type": "code",
   "execution_count": 75,
   "id": "cc5e6281-6aec-4a8c-a906-6639ec0417f4",
   "metadata": {},
   "outputs": [
    {
     "data": {
      "text/latex": [
       "$\\displaystyle  y = \\alpha + \\beta \\cdot x$"
      ],
      "text/plain": [
       "<IPython.core.display.Math object>"
      ]
     },
     "metadata": {},
     "output_type": "display_data"
    },
    {
     "data": {
      "text/latex": [
       "$\\displaystyle  (x,y) \\in [-\\infty, +\\infty]$"
      ],
      "text/plain": [
       "<IPython.core.display.Math object>"
      ]
     },
     "metadata": {},
     "output_type": "display_data"
    }
   ],
   "source": [
    "display (Math(r' y = \\alpha + \\beta \\cdot x'))\n",
    "display (Math(r' (x,y) \\in [-\\infty, +\\infty]'))"
   ]
  },
  {
   "cell_type": "code",
   "execution_count": 79,
   "id": "1f513ce8-8385-4e92-b565-63a88e797ff0",
   "metadata": {},
   "outputs": [
    {
     "data": {
      "text/latex": [
       "$\\displaystyle P = probabilidad\\ de\\ compra\\ dado\\ hombre \\in [0,1]$"
      ],
      "text/plain": [
       "<IPython.core.display.Math object>"
      ]
     },
     "metadata": {},
     "output_type": "display_data"
    },
    {
     "data": {
      "text/latex": [
       "$\\displaystyle x = variable\\ independiente$"
      ],
      "text/plain": [
       "<IPython.core.display.Math object>"
      ]
     },
     "metadata": {},
     "output_type": "display_data"
    },
    {
     "data": {
      "text/latex": [
       "$\\displaystyle  ln(\\frac{P}{1-P}) =  \\alpha + \\beta \\cdot x \\in [-\\infty, +\\infty]$"
      ],
      "text/plain": [
       "<IPython.core.display.Math object>"
      ]
     },
     "metadata": {},
     "output_type": "display_data"
    }
   ],
   "source": [
    "display (Math(r'P = probabilidad\\ de\\ compra\\ dado\\ hombre \\in [0,1]'))\n",
    "display (Math(r'x = variable\\ independiente' ))\n",
    "display (Math(r' ln(\\frac{P}{1-P}) =  \\alpha + \\beta \\cdot x \\in [-\\infty, +\\infty]'))"
   ]
  },
  {
   "cell_type": "code",
   "execution_count": 80,
   "id": "f9763e3f-268d-4e6e-9ef6-d3a65e42dcce",
   "metadata": {},
   "outputs": [
    {
     "data": {
      "text/latex": [
       "$\\displaystyle  \\frac{P}{1-P} = e^{ \\alpha + \\beta \\cdot x}$"
      ],
      "text/plain": [
       "<IPython.core.display.Math object>"
      ]
     },
     "metadata": {},
     "output_type": "display_data"
    }
   ],
   "source": [
    "display (Math(r' \\frac{P}{1-P} = e^{ \\alpha + \\beta \\cdot x}'))"
   ]
  },
  {
   "cell_type": "code",
   "execution_count": 86,
   "id": "ccdcb77e-f79d-4186-8385-839ce6304f99",
   "metadata": {},
   "outputs": [
    {
     "data": {
      "text/latex": [
       "$\\displaystyle  e^ { \\alpha + \\beta \\cdot x} = P(1 + e^ {\\alpha + \\beta \\cdot x })$"
      ],
      "text/plain": [
       "<IPython.core.display.Math object>"
      ]
     },
     "metadata": {},
     "output_type": "display_data"
    }
   ],
   "source": [
    "display (Math(r' e^ { \\alpha + \\beta \\cdot x} = P(1 + e^ {\\alpha + \\beta \\cdot x })'))"
   ]
  },
  {
   "cell_type": "code",
   "execution_count": 95,
   "id": "041bb0ea-17aa-45a6-9996-c9161f3c3933",
   "metadata": {},
   "outputs": [
    {
     "data": {
      "text/latex": [
       "$\\displaystyle  P = \\frac{e^ {\\alpha + \\beta \\cdot x}} {1 + e^ {\\alpha + \\beta \\cdot x} }$"
      ],
      "text/plain": [
       "<IPython.core.display.Math object>"
      ]
     },
     "metadata": {},
     "output_type": "display_data"
    }
   ],
   "source": [
    "display (Math(r' P = \\frac{e^ {\\alpha + \\beta \\cdot x}} {1 + e^ {\\alpha + \\beta \\cdot x} }') )"
   ]
  },
  {
   "cell_type": "code",
   "execution_count": 96,
   "id": "00f04f72-a505-4093-a1f0-5f9788224beb",
   "metadata": {},
   "outputs": [
    {
     "data": {
      "text/latex": [
       "$\\displaystyle  P = \\frac{1} {1 + e^ {-\\alpha - \\beta \\cdot x} }$"
      ],
      "text/plain": [
       "<IPython.core.display.Math object>"
      ]
     },
     "metadata": {},
     "output_type": "display_data"
    }
   ],
   "source": [
    "display (Math(r' P = \\frac{1} {1 + e^ {-\\alpha - \\beta \\cdot x} }') )"
   ]
  },
  {
   "cell_type": "code",
   "execution_count": 97,
   "id": "25502607-ae9d-419a-8e40-fce3524037a6",
   "metadata": {},
   "outputs": [
    {
     "data": {
      "text/latex": [
       "$\\displaystyle  P = \\frac{1} {1 + e^ {-(\\alpha + \\beta \\cdot x)} }$"
      ],
      "text/plain": [
       "<IPython.core.display.Math object>"
      ]
     },
     "metadata": {},
     "output_type": "display_data"
    }
   ],
   "source": [
    "display (Math(r' P = \\frac{1} {1 + e^ {-(\\alpha + \\beta \\cdot x)} }') )"
   ]
  },
  {
   "cell_type": "code",
   "execution_count": 106,
   "id": "14180d1c-eef7-4c3f-b9fe-edd65f574bfc",
   "metadata": {},
   "outputs": [
    {
     "data": {
      "text/latex": [
       "$\\displaystyle  Si\\ \\alpha + \\beta \\cdot x \\ es\\ muy\\ pequeño\\ (negativo),\\ entonces\\ P\\ tiende\\ a\\ 0$"
      ],
      "text/plain": [
       "<IPython.core.display.Math object>"
      ]
     },
     "metadata": {},
     "output_type": "display_data"
    },
    {
     "data": {
      "text/latex": [
       "$\\displaystyle  Si\\ \\alpha + \\beta \\cdot x \\ es\\ muy\\ grande\\ (positivo),\\ entonces\\ P\\ tiende\\ a\\ 1$"
      ],
      "text/plain": [
       "<IPython.core.display.Math object>"
      ]
     },
     "metadata": {},
     "output_type": "display_data"
    },
    {
     "data": {
      "text/latex": [
       "$\\displaystyle  Si\\ \\alpha + \\beta \\cdot x = 0, \\ entonces\\ P=0.5$"
      ],
      "text/plain": [
       "<IPython.core.display.Math object>"
      ]
     },
     "metadata": {},
     "output_type": "display_data"
    }
   ],
   "source": [
    "display (Math(r' Si\\ \\alpha + \\beta \\cdot x \\ es\\ muy\\ pequeño\\ (negativo),\\ entonces\\ P\\ tiende\\ a\\ 0' ) )\n",
    "display (Math(r' Si\\ \\alpha + \\beta \\cdot x \\ es\\ muy\\ grande\\ (positivo),\\ entonces\\ P\\ tiende\\ a\\ 1' ) )\n",
    "display (Math(r' Si\\ \\alpha + \\beta \\cdot x = 0, \\ entonces\\ P=0.5' ) )"
   ]
  },
  {
   "cell_type": "markdown",
   "id": "a69ccad6-ac8e-4250-a6dc-c9bb7569e6b6",
   "metadata": {},
   "source": [
    "## Regresión Logística múltiple"
   ]
  },
  {
   "cell_type": "code",
   "execution_count": 108,
   "id": "5c2b1bd8-d65a-40b6-9e5a-9c24ae48da5c",
   "metadata": {},
   "outputs": [
    {
     "data": {
      "text/latex": [
       "$\\displaystyle  P = \\frac{1} {1 + e^ {-(\\alpha + \\sum_{i=1}^{n}\\beta_i \\cdot x_i)} }$"
      ],
      "text/plain": [
       "<IPython.core.display.Math object>"
      ]
     },
     "metadata": {},
     "output_type": "display_data"
    }
   ],
   "source": [
    "display (Math(r' P = \\frac{1} {1 + e^ {-(\\alpha + \\sum_{i=1}^{n}\\beta_i \\cdot x_i)} }') )"
   ]
  },
  {
   "cell_type": "code",
   "execution_count": 117,
   "id": "1b9fd6ae-1ab3-408d-a0b2-467547aa4b96",
   "metadata": {},
   "outputs": [
    {
     "data": {
      "text/latex": [
       "$\\displaystyle  \\vec{\\beta} = (\\beta_1, \\beta_2, \\cdots, \\beta_n)$"
      ],
      "text/plain": [
       "<IPython.core.display.Math object>"
      ]
     },
     "metadata": {},
     "output_type": "display_data"
    },
    {
     "data": {
      "text/latex": [
       "$\\displaystyle  \\vec{X} = (x_1, x_2, \\cdots, x_n)$"
      ],
      "text/plain": [
       "<IPython.core.display.Math object>"
      ]
     },
     "metadata": {},
     "output_type": "display_data"
    },
    {
     "data": {
      "text/latex": [
       "$\\displaystyle  P = \\frac{1} {1 + e^ {-(\\alpha + \\vec{\\beta} \\cdot \\vec{X})} }$"
      ],
      "text/plain": [
       "<IPython.core.display.Math object>"
      ]
     },
     "metadata": {},
     "output_type": "display_data"
    }
   ],
   "source": [
    "display (Math(r' \\vec{\\beta} = (\\beta_1, \\beta_2, \\cdots, \\beta_n)') )\n",
    "display (Math(r' \\vec{X} = (x_1, x_2, \\cdots, x_n)') )\n",
    "display (Math(r' P = \\frac{1} {1 + e^ {-(\\alpha + \\vec{\\beta} \\cdot \\vec{X})} }') )"
   ]
  },
  {
   "cell_type": "markdown",
   "id": "dee69e10-9801-4cfe-8eaa-ca3ca0e80f9a",
   "metadata": {},
   "source": [
    "## Implementación del método de máxima verosimilitud en regresión logística"
   ]
  },
  {
   "cell_type": "markdown",
   "id": "7fc8bf30-1ef4-424e-b21e-8295732c2a88",
   "metadata": {},
   "source": [
    "## Definir la función de entorno L(b)"
   ]
  },
  {
   "cell_type": "code",
   "execution_count": 3,
   "id": "d2568109-b1ae-4f94-b5ab-46e171418bbe",
   "metadata": {},
   "outputs": [],
   "source": [
    "from IPython.display import display, Math, Latex"
   ]
  },
  {
   "cell_type": "code",
   "execution_count": 4,
   "id": "4c5117c0-81d5-42b7-9874-72dc90a88861",
   "metadata": {},
   "outputs": [
    {
     "data": {
      "text/latex": [
       "$\\displaystyle  L(\\beta) = \\prod_{i=0}^n P_i^{y_i}(1 - P_i)^{y_i} $"
      ],
      "text/plain": [
       "<IPython.core.display.Math object>"
      ]
     },
     "metadata": {},
     "output_type": "display_data"
    }
   ],
   "source": [
    "display (Math(r' L(\\beta) = \\prod_{i=0}^n P_i^{y_i}(1 - P_i)^{y_i} '))"
   ]
  },
  {
   "cell_type": "code",
   "execution_count": 27,
   "id": "1b4ef36b-0502-42ed-831f-4d76cdcf2571",
   "metadata": {},
   "outputs": [
    {
     "data": {
      "text/latex": [
       "$\\displaystyle  P_i = P(Y_i=1 | x_i) $"
      ],
      "text/plain": [
       "<IPython.core.display.Math object>"
      ]
     },
     "metadata": {},
     "output_type": "display_data"
    }
   ],
   "source": [
    "display (Math(r' P_i = P(Y_i=1 | x_i) '))"
   ]
  },
  {
   "cell_type": "code",
   "execution_count": 145,
   "id": "1dda389c-3f81-483d-a528-b3679629d96e",
   "metadata": {},
   "outputs": [],
   "source": [
    "def likelihood(y,pi):\n",
    "    import numpy as np\n",
    "    total_prod = 1\n",
    "    for i in range(len(y)):\n",
    "        t = pi[i]\n",
    "        if y[i]==0:\n",
    "            t = 1-pi[i]\n",
    "        total_prod  = total_prod*t\n",
    "    return total_prod\n",
    "        \n",
    "    "
   ]
  },
  {
   "cell_type": "markdown",
   "id": "adf28fb3-0b6b-4df0-bf00-347cc1576e53",
   "metadata": {},
   "source": [
    "## Calcular las probabilidades de cada observación"
   ]
  },
  {
   "cell_type": "code",
   "execution_count": 11,
   "id": "6882b64f-672e-4be7-b372-c4fee05013a6",
   "metadata": {},
   "outputs": [
    {
     "data": {
      "text/latex": [
       "$\\displaystyle  P_i = \\frac{1} {1 + e^ {-( \\sum_{j=0}^{n}\\beta_j \\cdot x_{ij})} }$"
      ],
      "text/plain": [
       "<IPython.core.display.Math object>"
      ]
     },
     "metadata": {},
     "output_type": "display_data"
    }
   ],
   "source": [
    "display (Math(r' P_i = \\frac{1} {1 + e^ {-( \\sum_{j=0}^{n}\\beta_j \\cdot x_{ij})} }') )"
   ]
  },
  {
   "cell_type": "code",
   "execution_count": 146,
   "id": "b29c2c81-1b2d-4a2b-adcb-d1bd2fa8062f",
   "metadata": {},
   "outputs": [],
   "source": [
    "def logitprobs(X,beta):\n",
    "    import numpy as np\n",
    "    n_rows = np.shape(X)[0]\n",
    "    n_cols = np.shape(X)[1]\n",
    "    pi =  [0 for i in range(n_rows)] # lista de 0's\n",
    "    expon = [0 for i in range(n_rows)] # lista de 0's\n",
    "    for i in range(n_rows):\n",
    "        expon[i] = 0\n",
    "        for j in range(n_cols):\n",
    "            ex = X[i][j]*beta[j][0]\n",
    "            expon[i] += ex\n",
    "        with np.errstate(divide=\"ignore\", invalid=\"ignore\"):\n",
    "            pi[i] = 1/(1+np.exp(-expon[i]))\n",
    "    return pi\n",
    "        "
   ]
  },
  {
   "cell_type": "markdown",
   "id": "0da2eaa6-60d1-4c51-a8d2-4d86d5f86764",
   "metadata": {},
   "source": [
    "## Calcular la matriz diagonal W"
   ]
  },
  {
   "cell_type": "code",
   "execution_count": 15,
   "id": "44301782-6f21-4c91-bf4b-6ca2f130755e",
   "metadata": {},
   "outputs": [
    {
     "data": {
      "text/latex": [
       "$\\displaystyle W = diag(P_i \\cdot (1-P_i))_{i=1}^n $"
      ],
      "text/plain": [
       "<IPython.core.display.Math object>"
      ]
     },
     "metadata": {},
     "output_type": "display_data"
    }
   ],
   "source": [
    "display (Math(r'W = diag(P_i \\cdot (1-P_i))_{i=1}^n '))"
   ]
  },
  {
   "cell_type": "code",
   "execution_count": 16,
   "id": "385dad8e-ca8a-4a36-ad44-5b518636d9ef",
   "metadata": {},
   "outputs": [],
   "source": [
    "import numpy as np"
   ]
  },
  {
   "cell_type": "code",
   "execution_count": 17,
   "id": "e6f0e43c-dff6-417c-bd9c-8d9a7b1fa00b",
   "metadata": {},
   "outputs": [
    {
     "data": {
      "text/plain": [
       "array([[0., 0., 0.],\n",
       "       [0., 0., 0.],\n",
       "       [0., 0., 0.]])"
      ]
     },
     "execution_count": 17,
     "metadata": {},
     "output_type": "execute_result"
    }
   ],
   "source": [
    "np.zeros((3,3))"
   ]
  },
  {
   "cell_type": "code",
   "execution_count": 147,
   "id": "e2256c55-fb0e-4221-8ff0-0c07c1e87ece",
   "metadata": {},
   "outputs": [],
   "source": [
    "def findW(pi):\n",
    "    import numpy as np\n",
    "    n = len(pi)\n",
    "    W = np.zeros((n,n))\n",
    "    for i in range(n):\n",
    "        print (i)\n",
    "        W[i][i] = pi[i]*(1-pi[i])\n",
    "    return W"
   ]
  },
  {
   "cell_type": "markdown",
   "id": "a44a29af-8d71-4602-9d1e-2a5439ddd547",
   "metadata": {},
   "source": [
    "## Obtener la función logística"
   ]
  },
  {
   "cell_type": "code",
   "execution_count": 62,
   "id": "2f312ca1-5011-493f-8e90-b54cefeb772b",
   "metadata": {},
   "outputs": [
    {
     "data": {
      "text/latex": [
       "$\\displaystyle  x_{n+1} = x_n - \\frac{f(x_n)}{f'(x_n)} $"
      ],
      "text/plain": [
       "<IPython.core.display.Math object>"
      ]
     },
     "metadata": {},
     "output_type": "display_data"
    },
    {
     "data": {
      "text/latex": [
       "$\\displaystyle  f(X) = X(Y-P) $"
      ],
      "text/plain": [
       "<IPython.core.display.Math object>"
      ]
     },
     "metadata": {},
     "output_type": "display_data"
    },
    {
     "data": {
      "text/latex": [
       "$\\displaystyle  f'(X) = XWX^T $"
      ],
      "text/plain": [
       "<IPython.core.display.Math object>"
      ]
     },
     "metadata": {},
     "output_type": "display_data"
    }
   ],
   "source": [
    "display (Math(r\" x_{n+1} = x_n - \\frac{f(x_n)}{f'(x_n)} \"))\n",
    "display (Math(r\" f(X) = X(Y-P) \"))\n",
    "display (Math(r\" f'(X) = XWX^T \"))"
   ]
  },
  {
   "cell_type": "code",
   "execution_count": 148,
   "id": "219fa419-25d1-4a1d-855f-83427a3141e0",
   "metadata": {},
   "outputs": [],
   "source": [
    "def logistics(X,Y, limit):\n",
    "    import numpy as np\n",
    "    from numpy import linalg\n",
    "    n_rows = np.shape(X)[0]\n",
    "    bias = np.ones((n_rows,1))\n",
    "    X_new = np.append(bias, X, axis = 1)\n",
    "    n_cols = np.shape(X_new)[1]\n",
    "    beta = np.zeros((n_cols,1))\n",
    "    root_dif = np.zeros((n_cols,1))\n",
    "    iter_i = 10000\n",
    "    while (iter_i>limit):\n",
    "        print(\"iter_ i =\", iter_i)\n",
    "        print(\"ilimit =\", limit)\n",
    "        print(\"X_new =\", X_new)\n",
    "        print(\"beta =\", beta)\n",
    "        pi = logitprobs(X_new,beta)\n",
    "        print(\"pi= \", pi)\n",
    "        W = findW(pi)\n",
    "        print(\"W= \", W)\n",
    "        print(\"X_new= \", X_new)\n",
    "        print(\"X_new T= \", np.transpose(np.matrix(X_new)))\n",
    "        print(\"Y - P = \", np.transpose(np.matrix(Y-np.transpose(pi))))\n",
    "        num = np.transpose(np.matrix(X_new))*np.transpose(np.matrix(Y-np.transpose(pi))) #XT(Y-P)\n",
    "        den = -np.matrix(np.transpose(X_new))*np.matrix(W)*np.matrix(X_new)\n",
    "        inc = np.array(linalg.inv(den)*num)\n",
    "        beta = beta - inc\n",
    "        print(\"inc = \", inc)\n",
    "        print(\"beta = \", beta)\n",
    "        iter_i = np.sum(inc*inc)\n",
    "        print(\" iter_i = \", iter_i)\n",
    "        Li = likelihood(Y,pi)\n",
    "        print(\"Li = \", Li)\n",
    "    return beta\n",
    "        \n",
    "        \n",
    "    \n",
    "    \n",
    "    "
   ]
  },
  {
   "cell_type": "markdown",
   "id": "99139c5c-78cc-40d4-aa98-46be2b20d240",
   "metadata": {},
   "source": [
    "## Comprobación experimental"
   ]
  },
  {
   "cell_type": "code",
   "execution_count": 105,
   "id": "b4bfc67d-b45d-440b-8b3a-336092d928d0",
   "metadata": {},
   "outputs": [],
   "source": [
    "import numpy as np"
   ]
  },
  {
   "cell_type": "code",
   "execution_count": 94,
   "id": "da62c857-0f34-45bf-ba88-4c4c03fcc0d8",
   "metadata": {},
   "outputs": [],
   "source": [
    "X = np.array(range(10)).reshape(10,1)"
   ]
  },
  {
   "cell_type": "code",
   "execution_count": 95,
   "id": "567bd900-82f0-4520-a367-e4db77e1e4d0",
   "metadata": {},
   "outputs": [
    {
     "data": {
      "text/plain": [
       "(10, 1)"
      ]
     },
     "execution_count": 95,
     "metadata": {},
     "output_type": "execute_result"
    }
   ],
   "source": [
    "X.shape"
   ]
  },
  {
   "cell_type": "code",
   "execution_count": 96,
   "id": "464e8b65-83a4-4b91-bccf-393c25611084",
   "metadata": {},
   "outputs": [
    {
     "data": {
      "text/plain": [
       "array([[0],\n",
       "       [1],\n",
       "       [2],\n",
       "       [3],\n",
       "       [4],\n",
       "       [5],\n",
       "       [6],\n",
       "       [7],\n",
       "       [8],\n",
       "       [9]])"
      ]
     },
     "execution_count": 96,
     "metadata": {},
     "output_type": "execute_result"
    }
   ],
   "source": [
    "X"
   ]
  },
  {
   "cell_type": "code",
   "execution_count": 126,
   "id": "d351cb11-5d24-4ea4-a1ec-1cdb261664be",
   "metadata": {},
   "outputs": [],
   "source": [
    "Y = [0, 0, 0, 0, 1, 0 ,1,0, 1,1]"
   ]
  },
  {
   "cell_type": "code",
   "execution_count": 127,
   "id": "fbaa190b-a42c-4085-bce2-b74d7bab5f06",
   "metadata": {},
   "outputs": [
    {
     "data": {
      "text/plain": [
       "[0, 0, 0, 0, 1, 0, 1, 0, 1, 1]"
      ]
     },
     "execution_count": 127,
     "metadata": {},
     "output_type": "execute_result"
    }
   ],
   "source": [
    "Y"
   ]
  },
  {
   "cell_type": "code",
   "execution_count": 98,
   "id": "562dc10c-620e-4663-b159-311a846e30ad",
   "metadata": {},
   "outputs": [],
   "source": [
    "bias = np.ones((10,1))"
   ]
  },
  {
   "cell_type": "code",
   "execution_count": 99,
   "id": "cdbc15b6-b185-4c2d-a970-8a71e50496b0",
   "metadata": {},
   "outputs": [
    {
     "data": {
      "text/plain": [
       "array([[1.],\n",
       "       [1.],\n",
       "       [1.],\n",
       "       [1.],\n",
       "       [1.],\n",
       "       [1.],\n",
       "       [1.],\n",
       "       [1.],\n",
       "       [1.],\n",
       "       [1.]])"
      ]
     },
     "execution_count": 99,
     "metadata": {},
     "output_type": "execute_result"
    }
   ],
   "source": [
    "bias"
   ]
  },
  {
   "cell_type": "code",
   "execution_count": 100,
   "id": "a6c97a83-2bd0-43f4-88f0-68c813beb3c4",
   "metadata": {},
   "outputs": [
    {
     "data": {
      "text/plain": [
       "array([[1., 0.],\n",
       "       [1., 1.],\n",
       "       [1., 2.],\n",
       "       [1., 3.],\n",
       "       [1., 4.],\n",
       "       [1., 5.],\n",
       "       [1., 6.],\n",
       "       [1., 7.],\n",
       "       [1., 8.],\n",
       "       [1., 9.]])"
      ]
     },
     "execution_count": 100,
     "metadata": {},
     "output_type": "execute_result"
    }
   ],
   "source": [
    "X_new = np.append(bias, X, axis = 1)\n",
    "X_new"
   ]
  },
  {
   "cell_type": "code",
   "execution_count": 149,
   "id": "80b40537-0ae0-411f-ac89-4fa5cdb2aa0d",
   "metadata": {},
   "outputs": [
    {
     "name": "stdout",
     "output_type": "stream",
     "text": [
      "iter_ i = 10000\n",
      "ilimit = 1e-05\n",
      "X_new = [[1. 0.]\n",
      " [1. 1.]\n",
      " [1. 2.]\n",
      " [1. 3.]\n",
      " [1. 4.]\n",
      " [1. 5.]\n",
      " [1. 6.]\n",
      " [1. 7.]\n",
      " [1. 8.]\n",
      " [1. 9.]]\n",
      "beta = [[0.]\n",
      " [0.]]\n",
      "pi=  [0.5, 0.5, 0.5, 0.5, 0.5, 0.5, 0.5, 0.5, 0.5, 0.5]\n",
      "0\n",
      "1\n",
      "2\n",
      "3\n",
      "4\n",
      "5\n",
      "6\n",
      "7\n",
      "8\n",
      "9\n",
      "W=  [[0.25 0.   0.   0.   0.   0.   0.   0.   0.   0.  ]\n",
      " [0.   0.25 0.   0.   0.   0.   0.   0.   0.   0.  ]\n",
      " [0.   0.   0.25 0.   0.   0.   0.   0.   0.   0.  ]\n",
      " [0.   0.   0.   0.25 0.   0.   0.   0.   0.   0.  ]\n",
      " [0.   0.   0.   0.   0.25 0.   0.   0.   0.   0.  ]\n",
      " [0.   0.   0.   0.   0.   0.25 0.   0.   0.   0.  ]\n",
      " [0.   0.   0.   0.   0.   0.   0.25 0.   0.   0.  ]\n",
      " [0.   0.   0.   0.   0.   0.   0.   0.25 0.   0.  ]\n",
      " [0.   0.   0.   0.   0.   0.   0.   0.   0.25 0.  ]\n",
      " [0.   0.   0.   0.   0.   0.   0.   0.   0.   0.25]]\n",
      "X_new=  [[1. 0.]\n",
      " [1. 1.]\n",
      " [1. 2.]\n",
      " [1. 3.]\n",
      " [1. 4.]\n",
      " [1. 5.]\n",
      " [1. 6.]\n",
      " [1. 7.]\n",
      " [1. 8.]\n",
      " [1. 9.]]\n",
      "X_new T=  [[1. 1. 1. 1. 1. 1. 1. 1. 1. 1.]\n",
      " [0. 1. 2. 3. 4. 5. 6. 7. 8. 9.]]\n",
      "Y - P =  [[-0.5]\n",
      " [-0.5]\n",
      " [-0.5]\n",
      " [-0.5]\n",
      " [ 0.5]\n",
      " [-0.5]\n",
      " [ 0.5]\n",
      " [-0.5]\n",
      " [ 0.5]\n",
      " [ 0.5]]\n",
      "inc =  [[ 2.36363636]\n",
      " [-0.43636364]]\n",
      "beta =  [[-2.36363636]\n",
      " [ 0.43636364]]\n",
      " iter_i =  5.777190082644626\n",
      "Li =  0.0009765625\n",
      "iter_ i = 5.777190082644626\n",
      "ilimit = 1e-05\n",
      "X_new = [[1. 0.]\n",
      " [1. 1.]\n",
      " [1. 2.]\n",
      " [1. 3.]\n",
      " [1. 4.]\n",
      " [1. 5.]\n",
      " [1. 6.]\n",
      " [1. 7.]\n",
      " [1. 8.]\n",
      " [1. 9.]]\n",
      "beta = [[-2.36363636]\n",
      " [ 0.43636364]]\n",
      "pi=  [0.08598796739923162, 0.12705275536382712, 0.1837853170568528, 0.2583532045136849, 0.35019508135322835, 0.45467026111147996, 0.5632949741417991, 0.666169128029258, 0.7553352394612478, 0.8268745284126914]\n",
      "0\n",
      "1\n",
      "2\n",
      "3\n",
      "4\n",
      "5\n",
      "6\n",
      "7\n",
      "8\n",
      "9\n",
      "W=  [[0.07859404 0.         0.         0.         0.         0.\n",
      "  0.         0.         0.         0.        ]\n",
      " [0.         0.11091035 0.         0.         0.         0.\n",
      "  0.         0.         0.         0.        ]\n",
      " [0.         0.         0.15000827 0.         0.         0.\n",
      "  0.         0.         0.         0.        ]\n",
      " [0.         0.         0.         0.19160683 0.         0.\n",
      "  0.         0.         0.         0.        ]\n",
      " [0.         0.         0.         0.         0.22755849 0.\n",
      "  0.         0.         0.         0.        ]\n",
      " [0.         0.         0.         0.         0.         0.24794521\n",
      "  0.         0.         0.         0.        ]\n",
      " [0.         0.         0.         0.         0.         0.\n",
      "  0.24599375 0.         0.         0.        ]\n",
      " [0.         0.         0.         0.         0.         0.\n",
      "  0.         0.22238782 0.         0.        ]\n",
      " [0.         0.         0.         0.         0.         0.\n",
      "  0.         0.         0.18480392 0.        ]\n",
      " [0.         0.         0.         0.         0.         0.\n",
      "  0.         0.         0.         0.14315304]]\n",
      "X_new=  [[1. 0.]\n",
      " [1. 1.]\n",
      " [1. 2.]\n",
      " [1. 3.]\n",
      " [1. 4.]\n",
      " [1. 5.]\n",
      " [1. 6.]\n",
      " [1. 7.]\n",
      " [1. 8.]\n",
      " [1. 9.]]\n",
      "X_new T=  [[1. 1. 1. 1. 1. 1. 1. 1. 1. 1.]\n",
      " [0. 1. 2. 3. 4. 5. 6. 7. 8. 9.]]\n",
      "Y - P =  [[-0.08598797]\n",
      " [-0.12705276]\n",
      " [-0.18378532]\n",
      " [-0.2583532 ]\n",
      " [ 0.64980492]\n",
      " [-0.45467026]\n",
      " [ 0.43670503]\n",
      " [-0.66616913]\n",
      " [ 0.24466476]\n",
      " [ 0.17312547]]\n",
      "inc =  [[ 0.98277736]\n",
      " [-0.16789693]]\n",
      "beta =  [[-3.34641372]\n",
      " [ 0.60426056]]\n",
      " iter_i =  0.9940407075349111\n",
      "Li =  0.010833091142115708\n",
      "iter_ i = 0.9940407075349111\n",
      "ilimit = 1e-05\n",
      "X_new = [[1. 0.]\n",
      " [1. 1.]\n",
      " [1. 2.]\n",
      " [1. 3.]\n",
      " [1. 4.]\n",
      " [1. 5.]\n",
      " [1. 6.]\n",
      " [1. 7.]\n",
      " [1. 8.]\n",
      " [1. 9.]]\n",
      "beta = [[-3.34641372]\n",
      " [ 0.60426056]]\n",
      "pi=  [0.034012798042320116, 0.06053134317753693, 0.1054680464484059, 0.17746289741022134, 0.2830522468639345, 0.4194306877136221, 0.569337737801884, 0.7075284027353441, 0.8157284115973925, 0.8901164706566523]\n",
      "0\n",
      "1\n",
      "2\n",
      "3\n",
      "4\n",
      "5\n",
      "6\n",
      "7\n",
      "8\n",
      "9\n",
      "W=  [[0.03285593 0.         0.         0.         0.         0.\n",
      "  0.         0.         0.         0.        ]\n",
      " [0.         0.0568673  0.         0.         0.         0.\n",
      "  0.         0.         0.         0.        ]\n",
      " [0.         0.         0.09434454 0.         0.         0.\n",
      "  0.         0.         0.         0.        ]\n",
      " [0.         0.         0.         0.14596982 0.         0.\n",
      "  0.         0.         0.         0.        ]\n",
      " [0.         0.         0.         0.         0.20293367 0.\n",
      "  0.         0.         0.         0.        ]\n",
      " [0.         0.         0.         0.         0.         0.24350859\n",
      "  0.         0.         0.         0.        ]\n",
      " [0.         0.         0.         0.         0.         0.\n",
      "  0.24519228 0.         0.         0.        ]\n",
      " [0.         0.         0.         0.         0.         0.\n",
      "  0.         0.20693196 0.         0.        ]\n",
      " [0.         0.         0.         0.         0.         0.\n",
      "  0.         0.         0.15031557 0.        ]\n",
      " [0.         0.         0.         0.         0.         0.\n",
      "  0.         0.         0.         0.09780914]]\n",
      "X_new=  [[1. 0.]\n",
      " [1. 1.]\n",
      " [1. 2.]\n",
      " [1. 3.]\n",
      " [1. 4.]\n",
      " [1. 5.]\n",
      " [1. 6.]\n",
      " [1. 7.]\n",
      " [1. 8.]\n",
      " [1. 9.]]\n",
      "X_new T=  [[1. 1. 1. 1. 1. 1. 1. 1. 1. 1.]\n",
      " [0. 1. 2. 3. 4. 5. 6. 7. 8. 9.]]\n",
      "Y - P =  [[-0.0340128 ]\n",
      " [-0.06053134]\n",
      " [-0.10546805]\n",
      " [-0.1774629 ]\n",
      " [ 0.71694775]\n",
      " [-0.41943069]\n",
      " [ 0.43066226]\n",
      " [-0.7075284 ]\n",
      " [ 0.18427159]\n",
      " [ 0.10988353]]\n",
      "inc =  [[ 0.32118553]\n",
      " [-0.05335356]]\n",
      "beta =  [[-3.66759924]\n",
      " [ 0.65761412]]\n",
      " iter_i =  0.10600674406802002\n",
      "Li =  0.013266971648065756\n",
      "iter_ i = 0.10600674406802002\n",
      "ilimit = 1e-05\n",
      "X_new = [[1. 0.]\n",
      " [1. 1.]\n",
      " [1. 2.]\n",
      " [1. 3.]\n",
      " [1. 4.]\n",
      " [1. 5.]\n",
      " [1. 6.]\n",
      " [1. 7.]\n",
      " [1. 8.]\n",
      " [1. 9.]]\n",
      "beta = [[-3.66759924]\n",
      " [ 0.65761412]]\n",
      "pi=  [0.024901772071806674, 0.04697681180493634, 0.08687749731605122, 0.1551512886210402, 0.26170167796208504, 0.4062405910405773, 0.5690767949198017, 0.7182301821931686, 0.8310818124124388, 0.904730540608914]\n",
      "0\n",
      "1\n",
      "2\n",
      "3\n",
      "4\n",
      "5\n",
      "6\n",
      "7\n",
      "8\n",
      "9\n",
      "W=  [[0.02428167 0.         0.         0.         0.         0.\n",
      "  0.         0.         0.         0.        ]\n",
      " [0.         0.04476999 0.         0.         0.         0.\n",
      "  0.         0.         0.         0.        ]\n",
      " [0.         0.         0.0793298  0.         0.         0.\n",
      "  0.         0.         0.         0.        ]\n",
      " [0.         0.         0.         0.13107937 0.         0.\n",
      "  0.         0.         0.         0.        ]\n",
      " [0.         0.         0.         0.         0.19321391 0.\n",
      "  0.         0.         0.         0.        ]\n",
      " [0.         0.         0.         0.         0.         0.24120917\n",
      "  0.         0.         0.         0.        ]\n",
      " [0.         0.         0.         0.         0.         0.\n",
      "  0.2452284  0.         0.         0.        ]\n",
      " [0.         0.         0.         0.         0.         0.\n",
      "  0.         0.20237559 0.         0.        ]\n",
      " [0.         0.         0.         0.         0.         0.\n",
      "  0.         0.         0.14038483 0.        ]\n",
      " [0.         0.         0.         0.         0.         0.\n",
      "  0.         0.         0.         0.08619319]]\n",
      "X_new=  [[1. 0.]\n",
      " [1. 1.]\n",
      " [1. 2.]\n",
      " [1. 3.]\n",
      " [1. 4.]\n",
      " [1. 5.]\n",
      " [1. 6.]\n",
      " [1. 7.]\n",
      " [1. 8.]\n",
      " [1. 9.]]\n",
      "X_new T=  [[1. 1. 1. 1. 1. 1. 1. 1. 1. 1.]\n",
      " [0. 1. 2. 3. 4. 5. 6. 7. 8. 9.]]\n",
      "Y - P =  [[-0.02490177]\n",
      " [-0.04697681]\n",
      " [-0.0868775 ]\n",
      " [-0.15515129]\n",
      " [ 0.73829832]\n",
      " [-0.40624059]\n",
      " [ 0.43092321]\n",
      " [-0.71823018]\n",
      " [ 0.16891819]\n",
      " [ 0.09526946]]\n",
      "inc =  [[ 0.02778505]\n",
      " [-0.00456354]]\n",
      "beta =  [[-3.6953843 ]\n",
      " [ 0.66217766]]\n",
      " iter_i =  0.0007928351246008178\n",
      "Li =  0.013430903087643928\n",
      "iter_ i = 0.0007928351246008178\n",
      "ilimit = 1e-05\n",
      "X_new = [[1. 0.]\n",
      " [1. 1.]\n",
      " [1. 2.]\n",
      " [1. 3.]\n",
      " [1. 4.]\n",
      " [1. 5.]\n",
      " [1. 6.]\n",
      " [1. 7.]\n",
      " [1. 8.]\n",
      " [1. 9.]]\n",
      "beta = [[-3.6953843 ]\n",
      " [ 0.66217766]]\n",
      "pi=  [0.024235936720994507, 0.04594805330639818, 0.08540872736360255, 0.1533127642321549, 0.25986436076556196, 0.40504297570813125, 0.5689777603811206, 0.7190712395774107, 0.8323028884386742, 0.9058696278514174]\n",
      "0\n",
      "1\n",
      "2\n",
      "3\n",
      "4\n",
      "5\n",
      "6\n",
      "7\n",
      "8\n",
      "9\n",
      "W=  [[0.02364856 0.         0.         0.         0.         0.\n",
      "  0.         0.         0.         0.        ]\n",
      " [0.         0.04383683 0.         0.         0.         0.\n",
      "  0.         0.         0.         0.        ]\n",
      " [0.         0.         0.07811408 0.         0.         0.\n",
      "  0.         0.         0.         0.        ]\n",
      " [0.         0.         0.         0.12980796 0.         0.\n",
      "  0.         0.         0.         0.        ]\n",
      " [0.         0.         0.         0.         0.19233487 0.\n",
      "  0.         0.         0.         0.        ]\n",
      " [0.         0.         0.         0.         0.         0.24098316\n",
      "  0.         0.         0.         0.        ]\n",
      " [0.         0.         0.         0.         0.         0.\n",
      "  0.24524207 0.         0.         0.        ]\n",
      " [0.         0.         0.         0.         0.         0.\n",
      "  0.         0.20200779 0.         0.        ]\n",
      " [0.         0.         0.         0.         0.         0.\n",
      "  0.         0.         0.13957479 0.        ]\n",
      " [0.         0.         0.         0.         0.         0.\n",
      "  0.         0.         0.         0.08526985]]\n",
      "X_new=  [[1. 0.]\n",
      " [1. 1.]\n",
      " [1. 2.]\n",
      " [1. 3.]\n",
      " [1. 4.]\n",
      " [1. 5.]\n",
      " [1. 6.]\n",
      " [1. 7.]\n",
      " [1. 8.]\n",
      " [1. 9.]]\n",
      "X_new T=  [[1. 1. 1. 1. 1. 1. 1. 1. 1. 1.]\n",
      " [0. 1. 2. 3. 4. 5. 6. 7. 8. 9.]]\n",
      "Y - P =  [[-0.02423594]\n",
      " [-0.04594805]\n",
      " [-0.08540873]\n",
      " [-0.15331276]\n",
      " [ 0.74013564]\n",
      " [-0.40504298]\n",
      " [ 0.43102224]\n",
      " [-0.71907124]\n",
      " [ 0.16769711]\n",
      " [ 0.09413037]]\n",
      "inc =  [[ 1.87416881e-04]\n",
      " [-3.06076794e-05]]\n",
      "beta =  [[-3.69557172]\n",
      " [ 0.66220827]]\n",
      " iter_i =  3.6061917351043804e-08\n",
      "Li =  0.013431911454307721\n"
     ]
    }
   ],
   "source": [
    "a = logistics(X,Y,0.00001)"
   ]
  },
  {
   "cell_type": "code",
   "execution_count": 81,
   "id": "727a97a6-9514-4b33-9d1c-c65caca921a1",
   "metadata": {},
   "outputs": [
    {
     "data": {
      "text/plain": [
       "array([0., 0., 0., 0.])"
      ]
     },
     "execution_count": 81,
     "metadata": {},
     "output_type": "execute_result"
    }
   ],
   "source": [
    "np.zeros(4)"
   ]
  },
  {
   "cell_type": "markdown",
   "id": "5725c96a-e937-422e-97fe-29a7bba32793",
   "metadata": {},
   "source": [
    "Y = -3.69557172 + 0.66220827* X En el modelo logístico P = 1/(1+ exp(-Y))"
   ]
  },
  {
   "cell_type": "markdown",
   "id": "eb8bfa15-31d1-4cec-8352-efb8cd39ab00",
   "metadata": {},
   "source": [
    "## Con el paquete stats de Python"
   ]
  },
  {
   "cell_type": "code",
   "execution_count": 153,
   "id": "2ed05d5c-7c8e-4068-9b33-5850166bdefe",
   "metadata": {},
   "outputs": [],
   "source": [
    "import statsmodels.api as sm"
   ]
  },
  {
   "cell_type": "code",
   "execution_count": 154,
   "id": "cc266711-9ce2-4224-867c-39e5e8c4f1e6",
   "metadata": {},
   "outputs": [
    {
     "data": {
      "text/plain": [
       "[0, 0, 0, 0, 1, 0, 1, 0, 1, 1]"
      ]
     },
     "execution_count": 154,
     "metadata": {},
     "output_type": "execute_result"
    }
   ],
   "source": [
    "Y"
   ]
  },
  {
   "cell_type": "code",
   "execution_count": 155,
   "id": "551e149b-cd8d-447d-962f-831cbd6f0aac",
   "metadata": {},
   "outputs": [
    {
     "data": {
      "text/plain": [
       "array([[1., 0.],\n",
       "       [1., 1.],\n",
       "       [1., 2.],\n",
       "       [1., 3.],\n",
       "       [1., 4.],\n",
       "       [1., 5.],\n",
       "       [1., 6.],\n",
       "       [1., 7.],\n",
       "       [1., 8.],\n",
       "       [1., 9.]])"
      ]
     },
     "execution_count": 155,
     "metadata": {},
     "output_type": "execute_result"
    }
   ],
   "source": [
    "X_new"
   ]
  },
  {
   "cell_type": "code",
   "execution_count": 156,
   "id": "9a23a17a-9c6a-47c4-b3c6-46ebd5143aa7",
   "metadata": {},
   "outputs": [],
   "source": [
    "logit_model = sm.Logit(Y,X_new)"
   ]
  },
  {
   "cell_type": "code",
   "execution_count": 157,
   "id": "3f5cde77-41cc-4164-8749-31910266b472",
   "metadata": {},
   "outputs": [
    {
     "name": "stdout",
     "output_type": "stream",
     "text": [
      "Optimization terminated successfully.\n",
      "         Current function value: 0.431012\n",
      "         Iterations 6\n"
     ]
    }
   ],
   "source": [
    "result = logit_model.fit()"
   ]
  },
  {
   "cell_type": "code",
   "execution_count": 158,
   "id": "0b7f0383-d693-4863-b7d4-f4d0f8650f47",
   "metadata": {},
   "outputs": [
    {
     "name": "stdout",
     "output_type": "stream",
     "text": [
      "                           Logit Regression Results                           \n",
      "==============================================================================\n",
      "Dep. Variable:                      y   No. Observations:                   10\n",
      "Model:                          Logit   Df Residuals:                        8\n",
      "Method:                           MLE   Df Model:                            1\n",
      "Date:                Mon, 23 Sep 2024   Pseudo R-squ.:                  0.3596\n",
      "Time:                        14:14:41   Log-Likelihood:                -4.3101\n",
      "converged:                       True   LL-Null:                       -6.7301\n",
      "Covariance Type:            nonrobust   LLR p-value:                   0.02781\n",
      "==============================================================================\n",
      "                 coef    std err          z      P>|z|      [0.025      0.975]\n",
      "------------------------------------------------------------------------------\n",
      "const         -3.6956      2.289     -1.615      0.106      -8.182       0.791\n",
      "x1             0.6622      0.400      1.655      0.098      -0.122       1.446\n",
      "==============================================================================\n"
     ]
    }
   ],
   "source": [
    "print(result.summary())"
   ]
  },
  {
   "cell_type": "markdown",
   "id": "6485659d-a26a-4e63-96fd-0ae11528fffe",
   "metadata": {},
   "source": [
    "## Regressión logística en predicciones bancarias"
   ]
  },
  {
   "cell_type": "code",
   "execution_count": 159,
   "id": "42565453-0437-4895-9e7d-36d0c59fafc8",
   "metadata": {},
   "outputs": [],
   "source": [
    "import pandas as pd"
   ]
  },
  {
   "cell_type": "code",
   "execution_count": 162,
   "id": "343642a9-636b-4b42-8540-17a334b48026",
   "metadata": {},
   "outputs": [],
   "source": [
    "data = pd.read_csv(\"../datasets/bank/bank.csv\", sep=\";\")"
   ]
  },
  {
   "cell_type": "code",
   "execution_count": 163,
   "id": "54580736-841b-4f7e-a40a-6345180d146d",
   "metadata": {},
   "outputs": [
    {
     "data": {
      "text/html": [
       "<div>\n",
       "<style scoped>\n",
       "    .dataframe tbody tr th:only-of-type {\n",
       "        vertical-align: middle;\n",
       "    }\n",
       "\n",
       "    .dataframe tbody tr th {\n",
       "        vertical-align: top;\n",
       "    }\n",
       "\n",
       "    .dataframe thead th {\n",
       "        text-align: right;\n",
       "    }\n",
       "</style>\n",
       "<table border=\"1\" class=\"dataframe\">\n",
       "  <thead>\n",
       "    <tr style=\"text-align: right;\">\n",
       "      <th></th>\n",
       "      <th>age</th>\n",
       "      <th>job</th>\n",
       "      <th>marital</th>\n",
       "      <th>education</th>\n",
       "      <th>default</th>\n",
       "      <th>housing</th>\n",
       "      <th>loan</th>\n",
       "      <th>contact</th>\n",
       "      <th>month</th>\n",
       "      <th>day_of_week</th>\n",
       "      <th>...</th>\n",
       "      <th>campaign</th>\n",
       "      <th>pdays</th>\n",
       "      <th>previous</th>\n",
       "      <th>poutcome</th>\n",
       "      <th>emp.var.rate</th>\n",
       "      <th>cons.price.idx</th>\n",
       "      <th>cons.conf.idx</th>\n",
       "      <th>euribor3m</th>\n",
       "      <th>nr.employed</th>\n",
       "      <th>y</th>\n",
       "    </tr>\n",
       "  </thead>\n",
       "  <tbody>\n",
       "    <tr>\n",
       "      <th>0</th>\n",
       "      <td>30</td>\n",
       "      <td>blue-collar</td>\n",
       "      <td>married</td>\n",
       "      <td>basic.9y</td>\n",
       "      <td>no</td>\n",
       "      <td>yes</td>\n",
       "      <td>no</td>\n",
       "      <td>cellular</td>\n",
       "      <td>may</td>\n",
       "      <td>fri</td>\n",
       "      <td>...</td>\n",
       "      <td>2</td>\n",
       "      <td>999</td>\n",
       "      <td>0</td>\n",
       "      <td>nonexistent</td>\n",
       "      <td>-1.8</td>\n",
       "      <td>92.893</td>\n",
       "      <td>-46.2</td>\n",
       "      <td>1.313</td>\n",
       "      <td>5099.1</td>\n",
       "      <td>no</td>\n",
       "    </tr>\n",
       "    <tr>\n",
       "      <th>1</th>\n",
       "      <td>39</td>\n",
       "      <td>services</td>\n",
       "      <td>single</td>\n",
       "      <td>high.school</td>\n",
       "      <td>no</td>\n",
       "      <td>no</td>\n",
       "      <td>no</td>\n",
       "      <td>telephone</td>\n",
       "      <td>may</td>\n",
       "      <td>fri</td>\n",
       "      <td>...</td>\n",
       "      <td>4</td>\n",
       "      <td>999</td>\n",
       "      <td>0</td>\n",
       "      <td>nonexistent</td>\n",
       "      <td>1.1</td>\n",
       "      <td>93.994</td>\n",
       "      <td>-36.4</td>\n",
       "      <td>4.855</td>\n",
       "      <td>5191.0</td>\n",
       "      <td>no</td>\n",
       "    </tr>\n",
       "    <tr>\n",
       "      <th>2</th>\n",
       "      <td>25</td>\n",
       "      <td>services</td>\n",
       "      <td>married</td>\n",
       "      <td>high.school</td>\n",
       "      <td>no</td>\n",
       "      <td>yes</td>\n",
       "      <td>no</td>\n",
       "      <td>telephone</td>\n",
       "      <td>jun</td>\n",
       "      <td>wed</td>\n",
       "      <td>...</td>\n",
       "      <td>1</td>\n",
       "      <td>999</td>\n",
       "      <td>0</td>\n",
       "      <td>nonexistent</td>\n",
       "      <td>1.4</td>\n",
       "      <td>94.465</td>\n",
       "      <td>-41.8</td>\n",
       "      <td>4.962</td>\n",
       "      <td>5228.1</td>\n",
       "      <td>no</td>\n",
       "    </tr>\n",
       "    <tr>\n",
       "      <th>3</th>\n",
       "      <td>38</td>\n",
       "      <td>services</td>\n",
       "      <td>married</td>\n",
       "      <td>basic.9y</td>\n",
       "      <td>no</td>\n",
       "      <td>unknown</td>\n",
       "      <td>unknown</td>\n",
       "      <td>telephone</td>\n",
       "      <td>jun</td>\n",
       "      <td>fri</td>\n",
       "      <td>...</td>\n",
       "      <td>3</td>\n",
       "      <td>999</td>\n",
       "      <td>0</td>\n",
       "      <td>nonexistent</td>\n",
       "      <td>1.4</td>\n",
       "      <td>94.465</td>\n",
       "      <td>-41.8</td>\n",
       "      <td>4.959</td>\n",
       "      <td>5228.1</td>\n",
       "      <td>no</td>\n",
       "    </tr>\n",
       "    <tr>\n",
       "      <th>4</th>\n",
       "      <td>47</td>\n",
       "      <td>admin.</td>\n",
       "      <td>married</td>\n",
       "      <td>university.degree</td>\n",
       "      <td>no</td>\n",
       "      <td>yes</td>\n",
       "      <td>no</td>\n",
       "      <td>cellular</td>\n",
       "      <td>nov</td>\n",
       "      <td>mon</td>\n",
       "      <td>...</td>\n",
       "      <td>1</td>\n",
       "      <td>999</td>\n",
       "      <td>0</td>\n",
       "      <td>nonexistent</td>\n",
       "      <td>-0.1</td>\n",
       "      <td>93.200</td>\n",
       "      <td>-42.0</td>\n",
       "      <td>4.191</td>\n",
       "      <td>5195.8</td>\n",
       "      <td>no</td>\n",
       "    </tr>\n",
       "  </tbody>\n",
       "</table>\n",
       "<p>5 rows × 21 columns</p>\n",
       "</div>"
      ],
      "text/plain": [
       "   age          job  marital          education default  housing     loan  \\\n",
       "0   30  blue-collar  married           basic.9y      no      yes       no   \n",
       "1   39     services   single        high.school      no       no       no   \n",
       "2   25     services  married        high.school      no      yes       no   \n",
       "3   38     services  married           basic.9y      no  unknown  unknown   \n",
       "4   47       admin.  married  university.degree      no      yes       no   \n",
       "\n",
       "     contact month day_of_week  ...  campaign  pdays  previous     poutcome  \\\n",
       "0   cellular   may         fri  ...         2    999         0  nonexistent   \n",
       "1  telephone   may         fri  ...         4    999         0  nonexistent   \n",
       "2  telephone   jun         wed  ...         1    999         0  nonexistent   \n",
       "3  telephone   jun         fri  ...         3    999         0  nonexistent   \n",
       "4   cellular   nov         mon  ...         1    999         0  nonexistent   \n",
       "\n",
       "  emp.var.rate  cons.price.idx  cons.conf.idx  euribor3m  nr.employed   y  \n",
       "0         -1.8          92.893          -46.2      1.313       5099.1  no  \n",
       "1          1.1          93.994          -36.4      4.855       5191.0  no  \n",
       "2          1.4          94.465          -41.8      4.962       5228.1  no  \n",
       "3          1.4          94.465          -41.8      4.959       5228.1  no  \n",
       "4         -0.1          93.200          -42.0      4.191       5195.8  no  \n",
       "\n",
       "[5 rows x 21 columns]"
      ]
     },
     "execution_count": 163,
     "metadata": {},
     "output_type": "execute_result"
    }
   ],
   "source": [
    "data.head()"
   ]
  },
  {
   "cell_type": "code",
   "execution_count": 164,
   "id": "7e1df38a-a1b6-4e04-8f8f-61e4c04b9f25",
   "metadata": {},
   "outputs": [
    {
     "data": {
      "text/plain": [
       "(4119, 21)"
      ]
     },
     "execution_count": 164,
     "metadata": {},
     "output_type": "execute_result"
    }
   ],
   "source": [
    "data.shape"
   ]
  },
  {
   "cell_type": "code",
   "execution_count": 167,
   "id": "893e5943-206d-4bc0-aa76-8baf9cf9142a",
   "metadata": {},
   "outputs": [
    {
     "data": {
      "text/plain": [
       "['age',\n",
       " 'job',\n",
       " 'marital',\n",
       " 'education',\n",
       " 'default',\n",
       " 'housing',\n",
       " 'loan',\n",
       " 'contact',\n",
       " 'month',\n",
       " 'day_of_week',\n",
       " 'duration',\n",
       " 'campaign',\n",
       " 'pdays',\n",
       " 'previous',\n",
       " 'poutcome',\n",
       " 'emp.var.rate',\n",
       " 'cons.price.idx',\n",
       " 'cons.conf.idx',\n",
       " 'euribor3m',\n",
       " 'nr.employed',\n",
       " 'y']"
      ]
     },
     "execution_count": 167,
     "metadata": {},
     "output_type": "execute_result"
    }
   ],
   "source": [
    "data.columns.values.tolist()"
   ]
  },
  {
   "cell_type": "code",
   "execution_count": 172,
   "id": "38b6c2e6-e8c2-48ce-b94e-3b319aa395bb",
   "metadata": {},
   "outputs": [
    {
     "data": {
      "text/plain": [
       "0       0\n",
       "1       0\n",
       "2       0\n",
       "3       0\n",
       "4       0\n",
       "       ..\n",
       "4114    0\n",
       "4115    0\n",
       "4116    0\n",
       "4117    0\n",
       "4118    0\n",
       "Name: y, Length: 4119, dtype: int32"
      ]
     },
     "execution_count": 172,
     "metadata": {},
     "output_type": "execute_result"
    }
   ],
   "source": [
    "(data[\"y\"]==\"yes\").astype(int)"
   ]
  },
  {
   "cell_type": "code",
   "execution_count": 173,
   "id": "ad3a81fe-9e94-42da-bb32-5d241993875c",
   "metadata": {},
   "outputs": [],
   "source": [
    "data[\"y\"] = (data[\"y\"]==\"yes\").astype(int) #False =0, True = 1"
   ]
  },
  {
   "cell_type": "code",
   "execution_count": 174,
   "id": "539ae4d0-10ca-4a71-94db-4c9c8326dc06",
   "metadata": {},
   "outputs": [
    {
     "data": {
      "text/plain": [
       "count    4119.000000\n",
       "mean        0.109493\n",
       "std         0.312294\n",
       "min         0.000000\n",
       "25%         0.000000\n",
       "50%         0.000000\n",
       "75%         0.000000\n",
       "max         1.000000\n",
       "Name: y, dtype: float64"
      ]
     },
     "execution_count": 174,
     "metadata": {},
     "output_type": "execute_result"
    }
   ],
   "source": [
    "data[\"y\"].describe()"
   ]
  },
  {
   "cell_type": "code",
   "execution_count": 175,
   "id": "b4e219f7-95ba-4129-bd89-3279d04a219c",
   "metadata": {},
   "outputs": [
    {
     "data": {
      "text/html": [
       "<div>\n",
       "<style scoped>\n",
       "    .dataframe tbody tr th:only-of-type {\n",
       "        vertical-align: middle;\n",
       "    }\n",
       "\n",
       "    .dataframe tbody tr th {\n",
       "        vertical-align: top;\n",
       "    }\n",
       "\n",
       "    .dataframe thead th {\n",
       "        text-align: right;\n",
       "    }\n",
       "</style>\n",
       "<table border=\"1\" class=\"dataframe\">\n",
       "  <thead>\n",
       "    <tr style=\"text-align: right;\">\n",
       "      <th></th>\n",
       "      <th>age</th>\n",
       "      <th>job</th>\n",
       "      <th>marital</th>\n",
       "      <th>education</th>\n",
       "      <th>default</th>\n",
       "      <th>housing</th>\n",
       "      <th>loan</th>\n",
       "      <th>contact</th>\n",
       "      <th>month</th>\n",
       "      <th>day_of_week</th>\n",
       "      <th>...</th>\n",
       "      <th>campaign</th>\n",
       "      <th>pdays</th>\n",
       "      <th>previous</th>\n",
       "      <th>poutcome</th>\n",
       "      <th>emp.var.rate</th>\n",
       "      <th>cons.price.idx</th>\n",
       "      <th>cons.conf.idx</th>\n",
       "      <th>euribor3m</th>\n",
       "      <th>nr.employed</th>\n",
       "      <th>y</th>\n",
       "    </tr>\n",
       "  </thead>\n",
       "  <tbody>\n",
       "    <tr>\n",
       "      <th>4114</th>\n",
       "      <td>30</td>\n",
       "      <td>admin.</td>\n",
       "      <td>married</td>\n",
       "      <td>basic.6y</td>\n",
       "      <td>no</td>\n",
       "      <td>yes</td>\n",
       "      <td>yes</td>\n",
       "      <td>cellular</td>\n",
       "      <td>jul</td>\n",
       "      <td>thu</td>\n",
       "      <td>...</td>\n",
       "      <td>1</td>\n",
       "      <td>999</td>\n",
       "      <td>0</td>\n",
       "      <td>nonexistent</td>\n",
       "      <td>1.4</td>\n",
       "      <td>93.918</td>\n",
       "      <td>-42.7</td>\n",
       "      <td>4.958</td>\n",
       "      <td>5228.1</td>\n",
       "      <td>0</td>\n",
       "    </tr>\n",
       "    <tr>\n",
       "      <th>4115</th>\n",
       "      <td>39</td>\n",
       "      <td>admin.</td>\n",
       "      <td>married</td>\n",
       "      <td>high.school</td>\n",
       "      <td>no</td>\n",
       "      <td>yes</td>\n",
       "      <td>no</td>\n",
       "      <td>telephone</td>\n",
       "      <td>jul</td>\n",
       "      <td>fri</td>\n",
       "      <td>...</td>\n",
       "      <td>1</td>\n",
       "      <td>999</td>\n",
       "      <td>0</td>\n",
       "      <td>nonexistent</td>\n",
       "      <td>1.4</td>\n",
       "      <td>93.918</td>\n",
       "      <td>-42.7</td>\n",
       "      <td>4.959</td>\n",
       "      <td>5228.1</td>\n",
       "      <td>0</td>\n",
       "    </tr>\n",
       "    <tr>\n",
       "      <th>4116</th>\n",
       "      <td>27</td>\n",
       "      <td>student</td>\n",
       "      <td>single</td>\n",
       "      <td>high.school</td>\n",
       "      <td>no</td>\n",
       "      <td>no</td>\n",
       "      <td>no</td>\n",
       "      <td>cellular</td>\n",
       "      <td>may</td>\n",
       "      <td>mon</td>\n",
       "      <td>...</td>\n",
       "      <td>2</td>\n",
       "      <td>999</td>\n",
       "      <td>1</td>\n",
       "      <td>failure</td>\n",
       "      <td>-1.8</td>\n",
       "      <td>92.893</td>\n",
       "      <td>-46.2</td>\n",
       "      <td>1.354</td>\n",
       "      <td>5099.1</td>\n",
       "      <td>0</td>\n",
       "    </tr>\n",
       "    <tr>\n",
       "      <th>4117</th>\n",
       "      <td>58</td>\n",
       "      <td>admin.</td>\n",
       "      <td>married</td>\n",
       "      <td>high.school</td>\n",
       "      <td>no</td>\n",
       "      <td>no</td>\n",
       "      <td>no</td>\n",
       "      <td>cellular</td>\n",
       "      <td>aug</td>\n",
       "      <td>fri</td>\n",
       "      <td>...</td>\n",
       "      <td>1</td>\n",
       "      <td>999</td>\n",
       "      <td>0</td>\n",
       "      <td>nonexistent</td>\n",
       "      <td>1.4</td>\n",
       "      <td>93.444</td>\n",
       "      <td>-36.1</td>\n",
       "      <td>4.966</td>\n",
       "      <td>5228.1</td>\n",
       "      <td>0</td>\n",
       "    </tr>\n",
       "    <tr>\n",
       "      <th>4118</th>\n",
       "      <td>34</td>\n",
       "      <td>management</td>\n",
       "      <td>single</td>\n",
       "      <td>high.school</td>\n",
       "      <td>no</td>\n",
       "      <td>yes</td>\n",
       "      <td>no</td>\n",
       "      <td>cellular</td>\n",
       "      <td>nov</td>\n",
       "      <td>wed</td>\n",
       "      <td>...</td>\n",
       "      <td>1</td>\n",
       "      <td>999</td>\n",
       "      <td>0</td>\n",
       "      <td>nonexistent</td>\n",
       "      <td>-0.1</td>\n",
       "      <td>93.200</td>\n",
       "      <td>-42.0</td>\n",
       "      <td>4.120</td>\n",
       "      <td>5195.8</td>\n",
       "      <td>0</td>\n",
       "    </tr>\n",
       "  </tbody>\n",
       "</table>\n",
       "<p>5 rows × 21 columns</p>\n",
       "</div>"
      ],
      "text/plain": [
       "      age         job  marital    education default housing loan    contact  \\\n",
       "4114   30      admin.  married     basic.6y      no     yes  yes   cellular   \n",
       "4115   39      admin.  married  high.school      no     yes   no  telephone   \n",
       "4116   27     student   single  high.school      no      no   no   cellular   \n",
       "4117   58      admin.  married  high.school      no      no   no   cellular   \n",
       "4118   34  management   single  high.school      no     yes   no   cellular   \n",
       "\n",
       "     month day_of_week  ...  campaign  pdays  previous     poutcome  \\\n",
       "4114   jul         thu  ...         1    999         0  nonexistent   \n",
       "4115   jul         fri  ...         1    999         0  nonexistent   \n",
       "4116   may         mon  ...         2    999         1      failure   \n",
       "4117   aug         fri  ...         1    999         0  nonexistent   \n",
       "4118   nov         wed  ...         1    999         0  nonexistent   \n",
       "\n",
       "     emp.var.rate  cons.price.idx  cons.conf.idx  euribor3m  nr.employed  y  \n",
       "4114          1.4          93.918          -42.7      4.958       5228.1  0  \n",
       "4115          1.4          93.918          -42.7      4.959       5228.1  0  \n",
       "4116         -1.8          92.893          -46.2      1.354       5099.1  0  \n",
       "4117          1.4          93.444          -36.1      4.966       5228.1  0  \n",
       "4118         -0.1          93.200          -42.0      4.120       5195.8  0  \n",
       "\n",
       "[5 rows x 21 columns]"
      ]
     },
     "execution_count": 175,
     "metadata": {},
     "output_type": "execute_result"
    }
   ],
   "source": [
    "data.tail()"
   ]
  },
  {
   "cell_type": "code",
   "execution_count": 176,
   "id": "ea62c672-a4f0-455e-b237-393328bea56e",
   "metadata": {},
   "outputs": [
    {
     "data": {
      "text/plain": [
       "array(['basic.9y', 'high.school', 'university.degree',\n",
       "       'professional.course', 'basic.6y', 'basic.4y', 'unknown',\n",
       "       'illiterate'], dtype=object)"
      ]
     },
     "execution_count": 176,
     "metadata": {},
     "output_type": "execute_result"
    }
   ],
   "source": [
    "data[\"education\"].unique()"
   ]
  },
  {
   "cell_type": "code",
   "execution_count": 177,
   "id": "9eb2a418-fadf-4ba6-a909-34b0e7911ebc",
   "metadata": {},
   "outputs": [],
   "source": [
    "import numpy as np"
   ]
  },
  {
   "cell_type": "code",
   "execution_count": 180,
   "id": "9a88c69e-baaf-4f42-82f0-5d861aa1b748",
   "metadata": {},
   "outputs": [],
   "source": [
    "data[\"education\"] = np.where(data[\"education\"]==\"basic.4y\", \"Basic\", data[\"education\"])\n",
    "data[\"education\"] = np.where(data[\"education\"]==\"basic.6y\", \"Basic\", data[\"education\"])\n",
    "data[\"education\"] = np.where(data[\"education\"]==\"basic.9y\", \"Basic\", data[\"education\"])"
   ]
  },
  {
   "cell_type": "code",
   "execution_count": 186,
   "id": "238ca193-b688-4621-ab31-f1bcb0f64db5",
   "metadata": {},
   "outputs": [],
   "source": [
    "data[\"education\"] = np.where(data[\"education\"]==\"high.school\", \"Hight School\", data[\"education\"])\n",
    "data[\"education\"] = np.where(data[\"education\"]==\"professional.course\", \"Professional Course\", data[\"education\"])\n",
    "data[\"education\"] = np.where(data[\"education\"]==\"university.degree\", \"University Degree\", data[\"education\"])\n",
    "data[\"education\"] = np.where(data[\"education\"]==\"illiterate\", \"Illiterate\", data[\"education\"])\n",
    "data[\"education\"] = np.where(data[\"education\"]==\"unknown\", \"Unknown\", data[\"education\"])"
   ]
  },
  {
   "cell_type": "code",
   "execution_count": 187,
   "id": "2be7f27a-c9f2-46c5-9463-fff1acb7b2a9",
   "metadata": {},
   "outputs": [
    {
     "data": {
      "text/plain": [
       "array(['Basic', 'Hight School', 'University Degree',\n",
       "       'Professional Course', 'Unknown', 'Illiterate'], dtype=object)"
      ]
     },
     "execution_count": 187,
     "metadata": {},
     "output_type": "execute_result"
    }
   ],
   "source": [
    "data[\"education\"].unique()"
   ]
  },
  {
   "cell_type": "code",
   "execution_count": 188,
   "id": "31342e05-713c-45f8-a729-9d4bc6baae68",
   "metadata": {},
   "outputs": [
    {
     "data": {
      "text/plain": [
       "y\n",
       "0    3668\n",
       "1     451\n",
       "Name: count, dtype: int64"
      ]
     },
     "execution_count": 188,
     "metadata": {},
     "output_type": "execute_result"
    }
   ],
   "source": [
    "data[\"y\"].value_counts()"
   ]
  },
  {
   "cell_type": "code",
   "execution_count": 223,
   "id": "e05c29dd-c7c2-4031-83fe-17ed64559a42",
   "metadata": {},
   "outputs": [
    {
     "data": {
      "text/plain": [
       "y\n",
       "0    39.895311\n",
       "1    41.889135\n",
       "Name: age, dtype: float64"
      ]
     },
     "execution_count": 223,
     "metadata": {},
     "output_type": "execute_result"
    }
   ],
   "source": [
    "data.groupby(by=[\"y\"] )[\"age\"].mean()"
   ]
  },
  {
   "cell_type": "code",
   "execution_count": 236,
   "id": "3289ea6a-a7f1-4b0a-b99e-a42617beeccd",
   "metadata": {},
   "outputs": [
    {
     "data": {
      "text/html": [
       "<div>\n",
       "<style scoped>\n",
       "    .dataframe tbody tr th:only-of-type {\n",
       "        vertical-align: middle;\n",
       "    }\n",
       "\n",
       "    .dataframe tbody tr th {\n",
       "        vertical-align: top;\n",
       "    }\n",
       "\n",
       "    .dataframe thead th {\n",
       "        text-align: right;\n",
       "    }\n",
       "</style>\n",
       "<table border=\"1\" class=\"dataframe\">\n",
       "  <thead>\n",
       "    <tr style=\"text-align: right;\">\n",
       "      <th></th>\n",
       "      <th>duration</th>\n",
       "      <th>age</th>\n",
       "    </tr>\n",
       "    <tr>\n",
       "      <th>y</th>\n",
       "      <th></th>\n",
       "      <th></th>\n",
       "    </tr>\n",
       "  </thead>\n",
       "  <tbody>\n",
       "    <tr>\n",
       "      <th>0</th>\n",
       "      <td>219.40976</td>\n",
       "      <td>39.895311</td>\n",
       "    </tr>\n",
       "    <tr>\n",
       "      <th>1</th>\n",
       "      <td>560.78714</td>\n",
       "      <td>41.889135</td>\n",
       "    </tr>\n",
       "  </tbody>\n",
       "</table>\n",
       "</div>"
      ],
      "text/plain": [
       "    duration        age\n",
       "y                      \n",
       "0  219.40976  39.895311\n",
       "1  560.78714  41.889135"
      ]
     },
     "execution_count": 236,
     "metadata": {},
     "output_type": "execute_result"
    }
   ],
   "source": [
    "data.groupby(by=[\"y\"] )[[\"duration\", \"age\"]].mean()"
   ]
  },
  {
   "cell_type": "code",
   "execution_count": 237,
   "id": "6bf3872c-6211-401c-b6bd-027271d9670f",
   "metadata": {},
   "outputs": [
    {
     "data": {
      "text/plain": [
       "['age',\n",
       " 'duration',\n",
       " 'campaign',\n",
       " 'pdays',\n",
       " 'previous',\n",
       " 'emp.var.rate',\n",
       " 'cons.price.idx',\n",
       " 'cons.conf.idx',\n",
       " 'euribor3m',\n",
       " 'nr.employed',\n",
       " 'y']"
      ]
     },
     "execution_count": 237,
     "metadata": {},
     "output_type": "execute_result"
    }
   ],
   "source": [
    "Lista = data.select_dtypes(include=np.number).columns.tolist()\n",
    "Lista"
   ]
  },
  {
   "cell_type": "code",
   "execution_count": 241,
   "id": "ad778304-c625-4ab6-8204-f2c74c33f136",
   "metadata": {},
   "outputs": [
    {
     "data": {
      "text/plain": [
       "[['age',\n",
       "  'duration',\n",
       "  'campaign',\n",
       "  'pdays',\n",
       "  'previous',\n",
       "  'emp.var.rate',\n",
       "  'cons.price.idx',\n",
       "  'cons.conf.idx',\n",
       "  'euribor3m',\n",
       "  'nr.employed',\n",
       "  'y']]"
      ]
     },
     "execution_count": 241,
     "metadata": {},
     "output_type": "execute_result"
    }
   ],
   "source": [
    "[Lista]"
   ]
  },
  {
   "cell_type": "code",
   "execution_count": 242,
   "id": "46850d5c-1ba3-4751-8c3a-37c59652bbaa",
   "metadata": {},
   "outputs": [
    {
     "data": {
      "text/html": [
       "<div>\n",
       "<style scoped>\n",
       "    .dataframe tbody tr th:only-of-type {\n",
       "        vertical-align: middle;\n",
       "    }\n",
       "\n",
       "    .dataframe tbody tr th {\n",
       "        vertical-align: top;\n",
       "    }\n",
       "\n",
       "    .dataframe thead th {\n",
       "        text-align: right;\n",
       "    }\n",
       "</style>\n",
       "<table border=\"1\" class=\"dataframe\">\n",
       "  <thead>\n",
       "    <tr style=\"text-align: right;\">\n",
       "      <th></th>\n",
       "      <th>age</th>\n",
       "      <th>duration</th>\n",
       "      <th>campaign</th>\n",
       "      <th>pdays</th>\n",
       "      <th>previous</th>\n",
       "      <th>emp.var.rate</th>\n",
       "      <th>cons.price.idx</th>\n",
       "      <th>cons.conf.idx</th>\n",
       "      <th>euribor3m</th>\n",
       "      <th>nr.employed</th>\n",
       "      <th>y</th>\n",
       "    </tr>\n",
       "    <tr>\n",
       "      <th>y</th>\n",
       "      <th></th>\n",
       "      <th></th>\n",
       "      <th></th>\n",
       "      <th></th>\n",
       "      <th></th>\n",
       "      <th></th>\n",
       "      <th></th>\n",
       "      <th></th>\n",
       "      <th></th>\n",
       "      <th></th>\n",
       "      <th></th>\n",
       "    </tr>\n",
       "  </thead>\n",
       "  <tbody>\n",
       "    <tr>\n",
       "      <th>0</th>\n",
       "      <td>39.895311</td>\n",
       "      <td>219.40976</td>\n",
       "      <td>2.605780</td>\n",
       "      <td>982.763086</td>\n",
       "      <td>0.141767</td>\n",
       "      <td>0.240185</td>\n",
       "      <td>93.599677</td>\n",
       "      <td>-40.586723</td>\n",
       "      <td>3.802826</td>\n",
       "      <td>5175.502072</td>\n",
       "      <td>0.0</td>\n",
       "    </tr>\n",
       "    <tr>\n",
       "      <th>1</th>\n",
       "      <td>41.889135</td>\n",
       "      <td>560.78714</td>\n",
       "      <td>1.980044</td>\n",
       "      <td>778.722838</td>\n",
       "      <td>0.585366</td>\n",
       "      <td>-1.177384</td>\n",
       "      <td>93.417268</td>\n",
       "      <td>-39.786475</td>\n",
       "      <td>2.145448</td>\n",
       "      <td>5093.118625</td>\n",
       "      <td>1.0</td>\n",
       "    </tr>\n",
       "  </tbody>\n",
       "</table>\n",
       "</div>"
      ],
      "text/plain": [
       "         age   duration  campaign       pdays  previous  emp.var.rate  \\\n",
       "y                                                                       \n",
       "0  39.895311  219.40976  2.605780  982.763086  0.141767      0.240185   \n",
       "1  41.889135  560.78714  1.980044  778.722838  0.585366     -1.177384   \n",
       "\n",
       "   cons.price.idx  cons.conf.idx  euribor3m  nr.employed    y  \n",
       "y                                                              \n",
       "0       93.599677     -40.586723   3.802826  5175.502072  0.0  \n",
       "1       93.417268     -39.786475   2.145448  5093.118625  1.0  "
      ]
     },
     "execution_count": 242,
     "metadata": {},
     "output_type": "execute_result"
    }
   ],
   "source": [
    "data.groupby(by=[\"y\"] )[Lista].mean()"
   ]
  },
  {
   "cell_type": "code",
   "execution_count": 243,
   "id": "92740288-9d09-4815-a36d-e327e3bcc32f",
   "metadata": {},
   "outputs": [
    {
     "data": {
      "text/html": [
       "<div>\n",
       "<style scoped>\n",
       "    .dataframe tbody tr th:only-of-type {\n",
       "        vertical-align: middle;\n",
       "    }\n",
       "\n",
       "    .dataframe tbody tr th {\n",
       "        vertical-align: top;\n",
       "    }\n",
       "\n",
       "    .dataframe thead th {\n",
       "        text-align: right;\n",
       "    }\n",
       "</style>\n",
       "<table border=\"1\" class=\"dataframe\">\n",
       "  <thead>\n",
       "    <tr style=\"text-align: right;\">\n",
       "      <th></th>\n",
       "      <th>age</th>\n",
       "      <th>duration</th>\n",
       "      <th>campaign</th>\n",
       "      <th>pdays</th>\n",
       "      <th>previous</th>\n",
       "      <th>emp.var.rate</th>\n",
       "      <th>cons.price.idx</th>\n",
       "      <th>cons.conf.idx</th>\n",
       "      <th>euribor3m</th>\n",
       "      <th>nr.employed</th>\n",
       "      <th>y</th>\n",
       "    </tr>\n",
       "    <tr>\n",
       "      <th>education</th>\n",
       "      <th></th>\n",
       "      <th></th>\n",
       "      <th></th>\n",
       "      <th></th>\n",
       "      <th></th>\n",
       "      <th></th>\n",
       "      <th></th>\n",
       "      <th></th>\n",
       "      <th></th>\n",
       "      <th></th>\n",
       "      <th></th>\n",
       "    </tr>\n",
       "  </thead>\n",
       "  <tbody>\n",
       "    <tr>\n",
       "      <th>Basic</th>\n",
       "      <td>42.337124</td>\n",
       "      <td>253.898457</td>\n",
       "      <td>2.429732</td>\n",
       "      <td>978.815597</td>\n",
       "      <td>0.149472</td>\n",
       "      <td>0.237368</td>\n",
       "      <td>93.658600</td>\n",
       "      <td>-41.120552</td>\n",
       "      <td>3.775701</td>\n",
       "      <td>5174.133144</td>\n",
       "      <td>0.079610</td>\n",
       "    </tr>\n",
       "    <tr>\n",
       "      <th>Hight School</th>\n",
       "      <td>38.097720</td>\n",
       "      <td>258.534202</td>\n",
       "      <td>2.630836</td>\n",
       "      <td>958.022801</td>\n",
       "      <td>0.206298</td>\n",
       "      <td>-0.002497</td>\n",
       "      <td>93.564314</td>\n",
       "      <td>-40.995765</td>\n",
       "      <td>3.511732</td>\n",
       "      <td>5163.212595</td>\n",
       "      <td>0.105320</td>\n",
       "    </tr>\n",
       "    <tr>\n",
       "      <th>Illiterate</th>\n",
       "      <td>42.000000</td>\n",
       "      <td>146.000000</td>\n",
       "      <td>4.000000</td>\n",
       "      <td>999.000000</td>\n",
       "      <td>0.000000</td>\n",
       "      <td>-2.900000</td>\n",
       "      <td>92.201000</td>\n",
       "      <td>-31.400000</td>\n",
       "      <td>0.834000</td>\n",
       "      <td>5076.200000</td>\n",
       "      <td>0.000000</td>\n",
       "    </tr>\n",
       "    <tr>\n",
       "      <th>Professional Course</th>\n",
       "      <td>40.207477</td>\n",
       "      <td>278.816822</td>\n",
       "      <td>2.512150</td>\n",
       "      <td>958.211215</td>\n",
       "      <td>0.194393</td>\n",
       "      <td>0.163925</td>\n",
       "      <td>93.599630</td>\n",
       "      <td>-40.127664</td>\n",
       "      <td>3.701426</td>\n",
       "      <td>5167.595140</td>\n",
       "      <td>0.121495</td>\n",
       "    </tr>\n",
       "    <tr>\n",
       "      <th>University Degree</th>\n",
       "      <td>39.017405</td>\n",
       "      <td>247.707278</td>\n",
       "      <td>2.583070</td>\n",
       "      <td>947.900316</td>\n",
       "      <td>0.207278</td>\n",
       "      <td>-0.009731</td>\n",
       "      <td>93.499109</td>\n",
       "      <td>-39.830063</td>\n",
       "      <td>3.547132</td>\n",
       "      <td>5163.023180</td>\n",
       "      <td>0.130538</td>\n",
       "    </tr>\n",
       "    <tr>\n",
       "      <th>Unknown</th>\n",
       "      <td>42.826347</td>\n",
       "      <td>267.281437</td>\n",
       "      <td>2.538922</td>\n",
       "      <td>939.700599</td>\n",
       "      <td>0.263473</td>\n",
       "      <td>-0.074251</td>\n",
       "      <td>93.637455</td>\n",
       "      <td>-39.487425</td>\n",
       "      <td>3.410174</td>\n",
       "      <td>5151.260479</td>\n",
       "      <td>0.155689</td>\n",
       "    </tr>\n",
       "  </tbody>\n",
       "</table>\n",
       "</div>"
      ],
      "text/plain": [
       "                           age    duration  campaign       pdays  previous  \\\n",
       "education                                                                    \n",
       "Basic                42.337124  253.898457  2.429732  978.815597  0.149472   \n",
       "Hight School         38.097720  258.534202  2.630836  958.022801  0.206298   \n",
       "Illiterate           42.000000  146.000000  4.000000  999.000000  0.000000   \n",
       "Professional Course  40.207477  278.816822  2.512150  958.211215  0.194393   \n",
       "University Degree    39.017405  247.707278  2.583070  947.900316  0.207278   \n",
       "Unknown              42.826347  267.281437  2.538922  939.700599  0.263473   \n",
       "\n",
       "                     emp.var.rate  cons.price.idx  cons.conf.idx  euribor3m  \\\n",
       "education                                                                     \n",
       "Basic                    0.237368       93.658600     -41.120552   3.775701   \n",
       "Hight School            -0.002497       93.564314     -40.995765   3.511732   \n",
       "Illiterate              -2.900000       92.201000     -31.400000   0.834000   \n",
       "Professional Course      0.163925       93.599630     -40.127664   3.701426   \n",
       "University Degree       -0.009731       93.499109     -39.830063   3.547132   \n",
       "Unknown                 -0.074251       93.637455     -39.487425   3.410174   \n",
       "\n",
       "                     nr.employed         y  \n",
       "education                                   \n",
       "Basic                5174.133144  0.079610  \n",
       "Hight School         5163.212595  0.105320  \n",
       "Illiterate           5076.200000  0.000000  \n",
       "Professional Course  5167.595140  0.121495  \n",
       "University Degree    5163.023180  0.130538  \n",
       "Unknown              5151.260479  0.155689  "
      ]
     },
     "execution_count": 243,
     "metadata": {},
     "output_type": "execute_result"
    }
   ],
   "source": [
    "data.groupby(by=[\"education\"] )[Lista].mean()"
   ]
  },
  {
   "cell_type": "code",
   "execution_count": 244,
   "id": "a5e951dc-fb8a-460c-95ed-94a3f9efa26d",
   "metadata": {},
   "outputs": [],
   "source": [
    "import matplotlib.pyplot as plt"
   ]
  },
  {
   "cell_type": "code",
   "execution_count": 247,
   "id": "4f4b56c9-69da-49e0-aa48-e778ae2671b3",
   "metadata": {},
   "outputs": [
    {
     "data": {
      "text/plain": [
       "Text(0, 0.5, 'Cantidad de compras')"
      ]
     },
     "execution_count": 247,
     "metadata": {},
     "output_type": "execute_result"
    },
    {
     "data": {
      "image/png": "[encoded data removed]",
      "text/plain": [
       "<Figure size 640x480 with 1 Axes>"
      ]
     },
     "metadata": {},
     "output_type": "display_data"
    }
   ],
   "source": [
    "pd.crosstab(data.education, data.y).plot(kind = \"bar\")\n",
    "plt.title(\"Frecuencia de compra en función del nivel de esducación\")\n",
    "plt.xlabel(\"Nivel de Educación\")\n",
    "plt.ylabel(\"Cantidad de compras\")"
   ]
  },
  {
   "cell_type": "code",
   "execution_count": 248,
   "id": "4de8c91c-37ae-4f79-81ae-ea3d4b402a3b",
   "metadata": {},
   "outputs": [
    {
     "data": {
      "text/html": [
       "<div>\n",
       "<style scoped>\n",
       "    .dataframe tbody tr th:only-of-type {\n",
       "        vertical-align: middle;\n",
       "    }\n",
       "\n",
       "    .dataframe tbody tr th {\n",
       "        vertical-align: top;\n",
       "    }\n",
       "\n",
       "    .dataframe thead th {\n",
       "        text-align: right;\n",
       "    }\n",
       "</style>\n",
       "<table border=\"1\" class=\"dataframe\">\n",
       "  <thead>\n",
       "    <tr style=\"text-align: right;\">\n",
       "      <th>y</th>\n",
       "      <th>0</th>\n",
       "      <th>1</th>\n",
       "    </tr>\n",
       "    <tr>\n",
       "      <th>marital</th>\n",
       "      <th></th>\n",
       "      <th></th>\n",
       "    </tr>\n",
       "  </thead>\n",
       "  <tbody>\n",
       "    <tr>\n",
       "      <th>divorced</th>\n",
       "      <td>403</td>\n",
       "      <td>43</td>\n",
       "    </tr>\n",
       "    <tr>\n",
       "      <th>married</th>\n",
       "      <td>2257</td>\n",
       "      <td>252</td>\n",
       "    </tr>\n",
       "    <tr>\n",
       "      <th>single</th>\n",
       "      <td>998</td>\n",
       "      <td>155</td>\n",
       "    </tr>\n",
       "    <tr>\n",
       "      <th>unknown</th>\n",
       "      <td>10</td>\n",
       "      <td>1</td>\n",
       "    </tr>\n",
       "  </tbody>\n",
       "</table>\n",
       "</div>"
      ],
      "text/plain": [
       "y            0    1\n",
       "marital            \n",
       "divorced   403   43\n",
       "married   2257  252\n",
       "single     998  155\n",
       "unknown     10    1"
      ]
     },
     "execution_count": 248,
     "metadata": {},
     "output_type": "execute_result"
    }
   ],
   "source": [
    "table = pd.crosstab(data.marital, data.y)\n",
    "table"
   ]
  },
  {
   "cell_type": "code",
   "execution_count": 251,
   "id": "bde45fa7-c22d-4250-8766-80516d856955",
   "metadata": {},
   "outputs": [
    {
     "data": {
      "text/plain": [
       "marital\n",
       "divorced     446\n",
       "married     2509\n",
       "single      1153\n",
       "unknown       11\n",
       "dtype: int64"
      ]
     },
     "execution_count": 251,
     "metadata": {},
     "output_type": "execute_result"
    }
   ],
   "source": [
    "table.sum(1) #Suma de filas"
   ]
  },
  {
   "cell_type": "code",
   "execution_count": 253,
   "id": "0949cbcb-0f9f-4b7f-88d1-174a3fca36fb",
   "metadata": {},
   "outputs": [
    {
     "data": {
      "text/plain": [
       "y\n",
       "0    3668\n",
       "1     451\n",
       "dtype: int64"
      ]
     },
     "execution_count": 253,
     "metadata": {},
     "output_type": "execute_result"
    }
   ],
   "source": [
    "table.sum(0) #Suma de columnas"
   ]
  },
  {
   "cell_type": "code",
   "execution_count": 256,
   "id": "725a5f5b-6cfc-4d99-bf4f-840e9e795103",
   "metadata": {},
   "outputs": [
    {
     "data": {
      "text/html": [
       "<div>\n",
       "<style scoped>\n",
       "    .dataframe tbody tr th:only-of-type {\n",
       "        vertical-align: middle;\n",
       "    }\n",
       "\n",
       "    .dataframe tbody tr th {\n",
       "        vertical-align: top;\n",
       "    }\n",
       "\n",
       "    .dataframe thead th {\n",
       "        text-align: right;\n",
       "    }\n",
       "</style>\n",
       "<table border=\"1\" class=\"dataframe\">\n",
       "  <thead>\n",
       "    <tr style=\"text-align: right;\">\n",
       "      <th>y</th>\n",
       "      <th>0</th>\n",
       "      <th>1</th>\n",
       "    </tr>\n",
       "    <tr>\n",
       "      <th>marital</th>\n",
       "      <th></th>\n",
       "      <th></th>\n",
       "    </tr>\n",
       "  </thead>\n",
       "  <tbody>\n",
       "    <tr>\n",
       "      <th>divorced</th>\n",
       "      <td>0.903587</td>\n",
       "      <td>0.096413</td>\n",
       "    </tr>\n",
       "    <tr>\n",
       "      <th>married</th>\n",
       "      <td>0.899562</td>\n",
       "      <td>0.100438</td>\n",
       "    </tr>\n",
       "    <tr>\n",
       "      <th>single</th>\n",
       "      <td>0.865568</td>\n",
       "      <td>0.134432</td>\n",
       "    </tr>\n",
       "    <tr>\n",
       "      <th>unknown</th>\n",
       "      <td>0.909091</td>\n",
       "      <td>0.090909</td>\n",
       "    </tr>\n",
       "  </tbody>\n",
       "</table>\n",
       "</div>"
      ],
      "text/plain": [
       "y                0         1\n",
       "marital                     \n",
       "divorced  0.903587  0.096413\n",
       "married   0.899562  0.100438\n",
       "single    0.865568  0.134432\n",
       "unknown   0.909091  0.090909"
      ]
     },
     "execution_count": 256,
     "metadata": {},
     "output_type": "execute_result"
    }
   ],
   "source": [
    "table.div(table.sum(1).astype(float),axis=0) #Proporción de filas"
   ]
  },
  {
   "cell_type": "code",
   "execution_count": 258,
   "id": "c029a26f-bad6-4e32-a72a-7f10b3a3d805",
   "metadata": {},
   "outputs": [
    {
     "data": {
      "text/plain": [
       "Text(0, 0.5, 'Proporción de clientes')"
      ]
     },
     "execution_count": 258,
     "metadata": {},
     "output_type": "execute_result"
    },
    {
     "data": {
      "image/png": "[encoded data removed]",
      "text/plain": [
       "<Figure size 640x480 with 1 Axes>"
      ]
     },
     "metadata": {},
     "output_type": "display_data"
    }
   ],
   "source": [
    "table.div(table.sum(1).astype(float),axis=0).plot(kind = \"bar\", stacked = True)\n",
    "plt.title(\"Diagrama apliado de estado vivil contra nivel de compras\")\n",
    "plt.xlabel(\"Estado civil\")\n",
    "plt.ylabel(\"Proporción de clientes\")\n"
   ]
  },
  {
   "cell_type": "code",
   "execution_count": null,
   "id": "e9022e8b-3a59-47a3-a77e-6507cf51ad07",
   "metadata": {},
   "outputs": [],
   "source": []
  }
 ],
 "metadata": {
  "kernelspec": {
   "display_name": "Python 3 (ipykernel)",
   "language": "python",
   "name": "python3"
  },
  "language_info": {
   "codemirror_mode": {
    "name": "ipython",
    "version": 3
   },
   "file_extension": ".py",
   "mimetype": "text/x-python",
   "name": "python",
   "nbconvert_exporter": "python",
   "pygments_lexer": "ipython3",
   "version": "3.11.9"
  }
 },
 "nbformat": 4,
 "nbformat_minor": 5
}
