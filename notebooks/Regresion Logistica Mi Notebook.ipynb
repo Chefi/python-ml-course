{
 "cells": [
  {
   "cell_type": "markdown",
   "id": "66719819-d382-4e2c-93b8-9bb4ba0c2dd5",
   "metadata": {},
   "source": [
    "## Regresión Logística\n",
    "# Tablas de contingencia"
   ]
  },
  {
   "cell_type": "code",
   "execution_count": 1,
   "id": "e86579b6-fef5-40be-9a8e-ea04487d68bd",
   "metadata": {},
   "outputs": [],
   "source": [
    "import pandas as pd"
   ]
  },
  {
   "cell_type": "code",
   "execution_count": 2,
   "id": "be7c272d-bdf2-47b5-b224-3baa7f6fa54c",
   "metadata": {},
   "outputs": [],
   "source": [
    "df = pd.read_csv(\"../datasets/gender-purchase/Gender Purchase.csv\")"
   ]
  },
  {
   "cell_type": "code",
   "execution_count": 3,
   "id": "68864373-39b5-466f-8001-630a82b54499",
   "metadata": {},
   "outputs": [
    {
     "data": {
      "text/html": [
       "<div>\n",
       "<style scoped>\n",
       "    .dataframe tbody tr th:only-of-type {\n",
       "        vertical-align: middle;\n",
       "    }\n",
       "\n",
       "    .dataframe tbody tr th {\n",
       "        vertical-align: top;\n",
       "    }\n",
       "\n",
       "    .dataframe thead th {\n",
       "        text-align: right;\n",
       "    }\n",
       "</style>\n",
       "<table border=\"1\" class=\"dataframe\">\n",
       "  <thead>\n",
       "    <tr style=\"text-align: right;\">\n",
       "      <th></th>\n",
       "      <th>Gender</th>\n",
       "      <th>Purchase</th>\n",
       "    </tr>\n",
       "  </thead>\n",
       "  <tbody>\n",
       "    <tr>\n",
       "      <th>0</th>\n",
       "      <td>Female</td>\n",
       "      <td>Yes</td>\n",
       "    </tr>\n",
       "    <tr>\n",
       "      <th>1</th>\n",
       "      <td>Female</td>\n",
       "      <td>Yes</td>\n",
       "    </tr>\n",
       "    <tr>\n",
       "      <th>2</th>\n",
       "      <td>Female</td>\n",
       "      <td>No</td>\n",
       "    </tr>\n",
       "    <tr>\n",
       "      <th>3</th>\n",
       "      <td>Male</td>\n",
       "      <td>No</td>\n",
       "    </tr>\n",
       "    <tr>\n",
       "      <th>4</th>\n",
       "      <td>Male</td>\n",
       "      <td>Yes</td>\n",
       "    </tr>\n",
       "  </tbody>\n",
       "</table>\n",
       "</div>"
      ],
      "text/plain": [
       "   Gender Purchase\n",
       "0  Female      Yes\n",
       "1  Female      Yes\n",
       "2  Female       No\n",
       "3    Male       No\n",
       "4    Male      Yes"
      ]
     },
     "execution_count": 3,
     "metadata": {},
     "output_type": "execute_result"
    }
   ],
   "source": [
    "df.head()"
   ]
  },
  {
   "cell_type": "code",
   "execution_count": 4,
   "id": "52bb9383-97be-4dbf-ab44-29c889dc7a9e",
   "metadata": {},
   "outputs": [
    {
     "data": {
      "text/plain": [
       "(511, 2)"
      ]
     },
     "execution_count": 4,
     "metadata": {},
     "output_type": "execute_result"
    }
   ],
   "source": [
    "df.shape"
   ]
  },
  {
   "cell_type": "code",
   "execution_count": 5,
   "id": "e1ac04d0-47b0-4d64-96b1-1bc55aaeed82",
   "metadata": {},
   "outputs": [],
   "source": [
    "contingency_table = pd.crosstab(df[\"Gender\"],df[\"Purchase\"])"
   ]
  },
  {
   "cell_type": "code",
   "execution_count": 6,
   "id": "19c8c1ce-677b-4faf-ac88-371be0cf2bea",
   "metadata": {},
   "outputs": [
    {
     "data": {
      "text/html": [
       "<div>\n",
       "<style scoped>\n",
       "    .dataframe tbody tr th:only-of-type {\n",
       "        vertical-align: middle;\n",
       "    }\n",
       "\n",
       "    .dataframe tbody tr th {\n",
       "        vertical-align: top;\n",
       "    }\n",
       "\n",
       "    .dataframe thead th {\n",
       "        text-align: right;\n",
       "    }\n",
       "</style>\n",
       "<table border=\"1\" class=\"dataframe\">\n",
       "  <thead>\n",
       "    <tr style=\"text-align: right;\">\n",
       "      <th>Purchase</th>\n",
       "      <th>No</th>\n",
       "      <th>Yes</th>\n",
       "    </tr>\n",
       "    <tr>\n",
       "      <th>Gender</th>\n",
       "      <th></th>\n",
       "      <th></th>\n",
       "    </tr>\n",
       "  </thead>\n",
       "  <tbody>\n",
       "    <tr>\n",
       "      <th>Female</th>\n",
       "      <td>106</td>\n",
       "      <td>159</td>\n",
       "    </tr>\n",
       "    <tr>\n",
       "      <th>Male</th>\n",
       "      <td>125</td>\n",
       "      <td>121</td>\n",
       "    </tr>\n",
       "  </tbody>\n",
       "</table>\n",
       "</div>"
      ],
      "text/plain": [
       "Purchase   No  Yes\n",
       "Gender            \n",
       "Female    106  159\n",
       "Male      125  121"
      ]
     },
     "execution_count": 6,
     "metadata": {},
     "output_type": "execute_result"
    }
   ],
   "source": [
    "contingency_table "
   ]
  },
  {
   "cell_type": "code",
   "execution_count": 7,
   "id": "bef9027b-7ea4-424d-8a78-0cd70d883bef",
   "metadata": {},
   "outputs": [
    {
     "data": {
      "text/plain": [
       "Gender\n",
       "Female    265\n",
       "Male      246\n",
       "dtype: int64"
      ]
     },
     "execution_count": 7,
     "metadata": {},
     "output_type": "execute_result"
    }
   ],
   "source": [
    "contingency_table.sum(axis=1)"
   ]
  },
  {
   "cell_type": "code",
   "execution_count": 8,
   "id": "54e00b8c-ae87-4e47-8159-d7c61b873450",
   "metadata": {},
   "outputs": [
    {
     "data": {
      "text/plain": [
       "Purchase\n",
       "No     231\n",
       "Yes    280\n",
       "dtype: int64"
      ]
     },
     "execution_count": 8,
     "metadata": {},
     "output_type": "execute_result"
    }
   ],
   "source": [
    "contingency_table.sum(axis=0)"
   ]
  },
  {
   "cell_type": "code",
   "execution_count": 9,
   "id": "55b2517d-3ea8-4a86-8926-c05c03639380",
   "metadata": {},
   "outputs": [
    {
     "data": {
      "text/html": [
       "<div>\n",
       "<style scoped>\n",
       "    .dataframe tbody tr th:only-of-type {\n",
       "        vertical-align: middle;\n",
       "    }\n",
       "\n",
       "    .dataframe tbody tr th {\n",
       "        vertical-align: top;\n",
       "    }\n",
       "\n",
       "    .dataframe thead th {\n",
       "        text-align: right;\n",
       "    }\n",
       "</style>\n",
       "<table border=\"1\" class=\"dataframe\">\n",
       "  <thead>\n",
       "    <tr style=\"text-align: right;\">\n",
       "      <th>Purchase</th>\n",
       "      <th>No</th>\n",
       "      <th>Yes</th>\n",
       "    </tr>\n",
       "    <tr>\n",
       "      <th>Gender</th>\n",
       "      <th></th>\n",
       "      <th></th>\n",
       "    </tr>\n",
       "  </thead>\n",
       "  <tbody>\n",
       "    <tr>\n",
       "      <th>Female</th>\n",
       "      <td>0.40000</td>\n",
       "      <td>0.60000</td>\n",
       "    </tr>\n",
       "    <tr>\n",
       "      <th>Male</th>\n",
       "      <td>0.50813</td>\n",
       "      <td>0.49187</td>\n",
       "    </tr>\n",
       "  </tbody>\n",
       "</table>\n",
       "</div>"
      ],
      "text/plain": [
       "Purchase       No      Yes\n",
       "Gender                    \n",
       "Female    0.40000  0.60000\n",
       "Male      0.50813  0.49187"
      ]
     },
     "execution_count": 9,
     "metadata": {},
     "output_type": "execute_result"
    }
   ],
   "source": [
    "contingency_table.astype(\"float\").div(contingency_table.sum(axis=1), axis=0)"
   ]
  },
  {
   "cell_type": "markdown",
   "id": "7e660940-8b13-4052-987d-c2512aca5f85",
   "metadata": {},
   "source": [
    "## Probabilidad condicional"
   ]
  },
  {
   "cell_type": "markdown",
   "id": "becba591-b5d5-430c-b820-89521dcffce1",
   "metadata": {},
   "source": [
    "* ¿Cuál es la probabilidad de que un cliente compre un producto si es hombre?\n",
    "* ¿Cuál es la probabilidad de que sabiendo que un cliente compra un producto sea hombre?"
   ]
  },
  {
   "cell_type": "code",
   "execution_count": 11,
   "id": "4733f471-f4c4-493b-aaf5-2175cd441636",
   "metadata": {},
   "outputs": [],
   "source": [
    "from IPython.display import display, Math, Latex"
   ]
  },
  {
   "cell_type": "code",
   "execution_count": 18,
   "id": "d3ef5a46-7871-4c62-961c-34bc48703a49",
   "metadata": {},
   "outputs": [
    {
     "data": {
      "text/latex": [
       "$\\displaystyle P(Purchase|Male) = \\frac {Número\\ total\\ de\\ compras\\ hechas\\ por\\ hombres}{Número\\ total\\ de\\ hombres} =  \\frac {Compran \\cap Hombre}{Hombre}$"
      ],
      "text/plain": [
       "<IPython.core.display.Math object>"
      ]
     },
     "metadata": {},
     "output_type": "display_data"
    }
   ],
   "source": [
    "display (Math(r'P(Purchase|Male) = \\frac {Número\\ total\\ de\\ compras\\ hechas\\ por\\ hombres}{Número\\ total\\ de\\ hombres} =  \\frac {Compran \\cap Hombre}{Hombre}' ))"
   ]
  },
  {
   "cell_type": "code",
   "execution_count": 20,
   "id": "085234b6-e4d6-4f36-ac98-45300b6dc05f",
   "metadata": {},
   "outputs": [
    {
     "data": {
      "text/plain": [
       "0.491869918699187"
      ]
     },
     "execution_count": 20,
     "metadata": {},
     "output_type": "execute_result"
    }
   ],
   "source": [
    "P1 = 121/(121+125)\n",
    "P1"
   ]
  },
  {
   "cell_type": "code",
   "execution_count": 24,
   "id": "75d9dbbc-150f-4acf-90a6-e5e35925e62b",
   "metadata": {},
   "outputs": [
    {
     "data": {
      "text/latex": [
       "$\\displaystyle P(Male|Purchase) = \\frac {Número\\ total\\ de\\ compras\\ hechas\\ por\\ hombres}{Número\\ total\\ de\\ compras} =  \\frac {Compran \\cap Hombre}{Total\\ de\\ compras}$"
      ],
      "text/plain": [
       "<IPython.core.display.Math object>"
      ]
     },
     "metadata": {},
     "output_type": "display_data"
    }
   ],
   "source": [
    "display (Math(r'P(Male|Purchase) = \\frac {Número\\ total\\ de\\ compras\\ hechas\\ por\\ hombres}{Número\\ total\\ de\\ compras} =  \\frac {Compran \\cap Hombre}{Total\\ de\\ compras}' ))"
   ]
  },
  {
   "cell_type": "code",
   "execution_count": 25,
   "id": "6cb1018f-4b31-4af8-afdb-8c4b9e60ef61",
   "metadata": {},
   "outputs": [
    {
     "data": {
      "text/plain": [
       "0.43214285714285716"
      ]
     },
     "execution_count": 25,
     "metadata": {},
     "output_type": "execute_result"
    }
   ],
   "source": [
    "P2 = 121 / (121+ 159)\n",
    "P2"
   ]
  },
  {
   "cell_type": "code",
   "execution_count": 30,
   "id": "3fa1a4fa-3fcb-4d02-b534-7cf500b8d166",
   "metadata": {},
   "outputs": [
    {
     "data": {
      "text/latex": [
       "$\\displaystyle P(No\\ Purchase|Male) = 1- P(Purchase|Male)$"
      ],
      "text/plain": [
       "<IPython.core.display.Math object>"
      ]
     },
     "metadata": {},
     "output_type": "display_data"
    },
    {
     "data": {
      "text/plain": [
       "0.5081300813008129"
      ]
     },
     "execution_count": 30,
     "metadata": {},
     "output_type": "execute_result"
    }
   ],
   "source": [
    "display (Math(r'P(No\\ Purchase|Male) = 1- P(Purchase|Male)'))\n",
    "1-P1"
   ]
  },
  {
   "cell_type": "code",
   "execution_count": 31,
   "id": "275cd6f8-47cb-4c7a-98da-71a26c3b1481",
   "metadata": {},
   "outputs": [
    {
     "data": {
      "text/latex": [
       "$\\displaystyle P(Female | Compra) = 1- P(Male| Compra)$"
      ],
      "text/plain": [
       "<IPython.core.display.Math object>"
      ]
     },
     "metadata": {},
     "output_type": "display_data"
    },
    {
     "data": {
      "text/plain": [
       "0.5678571428571428"
      ]
     },
     "execution_count": 31,
     "metadata": {},
     "output_type": "execute_result"
    }
   ],
   "source": [
    "display (Math(r'P(Female | Compra) = 1- P(Male| Compra)'))\n",
    "1-P2"
   ]
  },
  {
   "cell_type": "code",
   "execution_count": 38,
   "id": "01d802a2-d9d5-4a32-b729-4cabca050207",
   "metadata": {},
   "outputs": [
    {
     "data": {
      "text/latex": [
       "$\\displaystyle P(Purchase|Male)$"
      ],
      "text/plain": [
       "<IPython.core.display.Math object>"
      ]
     },
     "metadata": {},
     "output_type": "display_data"
    },
    {
     "name": "stdout",
     "output_type": "stream",
     "text": [
      "0.491869918699187\n"
     ]
    },
    {
     "data": {
      "text/latex": [
       "$\\displaystyle P(No\\ Purchase|Male)$"
      ],
      "text/plain": [
       "<IPython.core.display.Math object>"
      ]
     },
     "metadata": {},
     "output_type": "display_data"
    },
    {
     "name": "stdout",
     "output_type": "stream",
     "text": [
      "0.5081300813008129\n"
     ]
    },
    {
     "data": {
      "text/latex": [
       "$\\displaystyle P(Purchase|Female)$"
      ],
      "text/plain": [
       "<IPython.core.display.Math object>"
      ]
     },
     "metadata": {},
     "output_type": "display_data"
    },
    {
     "name": "stdout",
     "output_type": "stream",
     "text": [
      "0.6\n"
     ]
    },
    {
     "data": {
      "text/latex": [
       "$\\displaystyle P(No\\ Purchase|Female)$"
      ],
      "text/plain": [
       "<IPython.core.display.Math object>"
      ]
     },
     "metadata": {},
     "output_type": "display_data"
    },
    {
     "name": "stdout",
     "output_type": "stream",
     "text": [
      "0.4\n"
     ]
    }
   ],
   "source": [
    "display (Math(r'P(Purchase|Male)' ))\n",
    "print(121/(121+125))\n",
    "display (Math(r'P(No\\ Purchase|Male)' ))\n",
    "print(1- 121/(121+125))\n",
    "display (Math(r'P(Purchase|Female)' ))\n",
    "print(159/(159+106))\n",
    "display (Math(r'P(No\\ Purchase|Female)' ))\n",
    "print(1- 159/(159+106))"
   ]
  },
  {
   "cell_type": "markdown",
   "id": "c8c83c36-74d9-4f27-9ba1-a55ad024ac87",
   "metadata": {},
   "source": [
    "## Ratio de probabilidades\n",
    "Cociente entre los casos de éxito sobre los casos de fracaso del suceso en cada grupo"
   ]
  },
  {
   "cell_type": "code",
   "execution_count": 64,
   "id": "0c8cfc0e-be5b-453b-ae93-dfaf03cf3c41",
   "metadata": {},
   "outputs": [
    {
     "data": {
      "text/latex": [
       "$\\displaystyle P_m = probabilidad\\ de\\ compra\\ dado\\ hombre $"
      ],
      "text/plain": [
       "<IPython.core.display.Math object>"
      ]
     },
     "metadata": {},
     "output_type": "display_data"
    },
    {
     "data": {
      "text/latex": [
       "$\\displaystyle odds_{purchase| male} =  \\frac{P_m}{1-P_m} = \\frac{N_{p,m}}{N_{\\bar p , m}} = \\frac{hombres\\ compran}{hombres\\ no\\ compran  }$"
      ],
      "text/plain": [
       "<IPython.core.display.Math object>"
      ]
     },
     "metadata": {},
     "output_type": "display_data"
    },
    {
     "data": {
      "text/latex": [
       "$\\displaystyle odds_{purchase| male} \\in [0,+\\infty] $"
      ],
      "text/plain": [
       "<IPython.core.display.Math object>"
      ]
     },
     "metadata": {},
     "output_type": "display_data"
    },
    {
     "data": {
      "text/latex": [
       "$\\displaystyle P_f = probabilidad\\ de\\ compra\\ dado\\ mujer $"
      ],
      "text/plain": [
       "<IPython.core.display.Math object>"
      ]
     },
     "metadata": {},
     "output_type": "display_data"
    },
    {
     "data": {
      "text/latex": [
       "$\\displaystyle odds_{purchase| female} =  \\frac{P_f}{1-P_f} = \\frac{N_{p,f}}{N_{\\bar p , f}} = \\frac{mujeres\\ compran}{mujeres\\ no\\ compran  }$"
      ],
      "text/plain": [
       "<IPython.core.display.Math object>"
      ]
     },
     "metadata": {},
     "output_type": "display_data"
    },
    {
     "data": {
      "text/latex": [
       "$\\displaystyle odds_{purchase| female} \\in [0,+\\infty] $"
      ],
      "text/plain": [
       "<IPython.core.display.Math object>"
      ]
     },
     "metadata": {},
     "output_type": "display_data"
    }
   ],
   "source": [
    "display (Math(r'P_m = probabilidad\\ de\\ compra\\ dado\\ hombre ' ))\n",
    "display (Math(r'odds_{purchase| male} =  \\frac{P_m}{1-P_m} = \\frac{N_{p,m}}{N_{\\bar p , m}} = \\frac{hombres\\ compran}{hombres\\ no\\ compran  }' ))\n",
    "display (Math(r'odds_{purchase| male} \\in [0,+\\infty] ' ))\n",
    "display (Math(r'P_f = probabilidad\\ de\\ compra\\ dado\\ mujer ' ))\n",
    "display (Math(r'odds_{purchase| female} =  \\frac{P_f}{1-P_f} = \\frac{N_{p,f}}{N_{\\bar p , f}} = \\frac{mujeres\\ compran}{mujeres\\ no\\ compran  }' ))\n",
    "display (Math(r'odds_{purchase| female} \\in [0,+\\infty] ' ))"
   ]
  },
  {
   "cell_type": "code",
   "execution_count": 47,
   "id": "d3d38ed0-1a4d-4b98-ba09-4b7ff95a6708",
   "metadata": {},
   "outputs": [
    {
     "data": {
      "text/plain": [
       "(0.491869918699187, 0.6)"
      ]
     },
     "execution_count": 47,
     "metadata": {},
     "output_type": "execute_result"
    }
   ],
   "source": [
    "Pm = 121/(121+125)\n",
    "Pf = 159/(159+106)\n",
    "Pm, Pf"
   ]
  },
  {
   "cell_type": "code",
   "execution_count": 50,
   "id": "e21e6252-1a91-41cb-9905-31de2f435f4e",
   "metadata": {},
   "outputs": [
    {
     "data": {
      "text/plain": [
       "(0.9680000000000002, 1.4999999999999998)"
      ]
     },
     "execution_count": 50,
     "metadata": {},
     "output_type": "execute_result"
    }
   ],
   "source": [
    "odds_m = Pm/(1-Pm)\n",
    "odds_f = Pf/(1-Pf)\n",
    "odds_m, odds_f"
   ]
  },
  {
   "cell_type": "code",
   "execution_count": 51,
   "id": "5c617cac-20cd-4bad-b4ac-60936db30ab6",
   "metadata": {},
   "outputs": [
    {
     "data": {
      "text/plain": [
       "0.968"
      ]
     },
     "execution_count": 51,
     "metadata": {},
     "output_type": "execute_result"
    }
   ],
   "source": [
    "121/125"
   ]
  },
  {
   "cell_type": "code",
   "execution_count": 52,
   "id": "7281044d-d0b7-4d82-b9af-eb4156639637",
   "metadata": {},
   "outputs": [
    {
     "data": {
      "text/plain": [
       "1.5"
      ]
     },
     "execution_count": 52,
     "metadata": {},
     "output_type": "execute_result"
    }
   ],
   "source": [
    "159/106"
   ]
  },
  {
   "cell_type": "markdown",
   "id": "3c1cee52-1d62-40d2-af32-4b741dcca35e",
   "metadata": {},
   "source": [
    "* Si el ratio es superior a 1 es más probable el éxito que el fracaso (Probabilidad de éxito > Probabilidad de fracaso)\n",
    "* Si el ratio es inferior a 1 es más probable el fracaso que el éxito (Probabilidad de fracaso > Probabilidad de éxito)\n"
   ]
  },
  {
   "cell_type": "code",
   "execution_count": 67,
   "id": "9669c1c0-5274-4888-9132-6868e02fbfb1",
   "metadata": {},
   "outputs": [
    {
     "data": {
      "text/latex": [
       "$\\displaystyle odds_{ratio} = \\frac{odds_{purchase| male}}{odds_{purchase| female}} $"
      ],
      "text/plain": [
       "<IPython.core.display.Math object>"
      ]
     },
     "metadata": {},
     "output_type": "display_data"
    }
   ],
   "source": [
    "display (Math(r'odds_{ratio} = \\frac{odds_{purchase| male}}{odds_{purchase| female}} ' ))"
   ]
  },
  {
   "cell_type": "code",
   "execution_count": 69,
   "id": "30ffb941-5de5-4da1-878d-a8c999b23af5",
   "metadata": {},
   "outputs": [
    {
     "data": {
      "text/plain": [
       "0.6453333333333335"
      ]
     },
     "execution_count": 69,
     "metadata": {},
     "output_type": "execute_result"
    }
   ],
   "source": [
    "odds_r = odds_m/ odds_f\n",
    "odds_r"
   ]
  },
  {
   "cell_type": "markdown",
   "id": "811d6574-6fb5-4cca-99d5-f10ab43d7b3e",
   "metadata": {},
   "source": [
    "## Regresión Logística desde Regresión Lineal"
   ]
  },
  {
   "cell_type": "code",
   "execution_count": 75,
   "id": "cc5e6281-6aec-4a8c-a906-6639ec0417f4",
   "metadata": {},
   "outputs": [
    {
     "data": {
      "text/latex": [
       "$\\displaystyle  y = \\alpha + \\beta \\cdot x$"
      ],
      "text/plain": [
       "<IPython.core.display.Math object>"
      ]
     },
     "metadata": {},
     "output_type": "display_data"
    },
    {
     "data": {
      "text/latex": [
       "$\\displaystyle  (x,y) \\in [-\\infty, +\\infty]$"
      ],
      "text/plain": [
       "<IPython.core.display.Math object>"
      ]
     },
     "metadata": {},
     "output_type": "display_data"
    }
   ],
   "source": [
    "display (Math(r' y = \\alpha + \\beta \\cdot x'))\n",
    "display (Math(r' (x,y) \\in [-\\infty, +\\infty]'))"
   ]
  },
  {
   "cell_type": "code",
   "execution_count": 79,
   "id": "1f513ce8-8385-4e92-b565-63a88e797ff0",
   "metadata": {},
   "outputs": [
    {
     "data": {
      "text/latex": [
       "$\\displaystyle P = probabilidad\\ de\\ compra\\ dado\\ hombre \\in [0,1]$"
      ],
      "text/plain": [
       "<IPython.core.display.Math object>"
      ]
     },
     "metadata": {},
     "output_type": "display_data"
    },
    {
     "data": {
      "text/latex": [
       "$\\displaystyle x = variable\\ independiente$"
      ],
      "text/plain": [
       "<IPython.core.display.Math object>"
      ]
     },
     "metadata": {},
     "output_type": "display_data"
    },
    {
     "data": {
      "text/latex": [
       "$\\displaystyle  ln(\\frac{P}{1-P}) =  \\alpha + \\beta \\cdot x \\in [-\\infty, +\\infty]$"
      ],
      "text/plain": [
       "<IPython.core.display.Math object>"
      ]
     },
     "metadata": {},
     "output_type": "display_data"
    }
   ],
   "source": [
    "display (Math(r'P = probabilidad\\ de\\ compra\\ dado\\ hombre \\in [0,1]'))\n",
    "display (Math(r'x = variable\\ independiente' ))\n",
    "display (Math(r' ln(\\frac{P}{1-P}) =  \\alpha + \\beta \\cdot x \\in [-\\infty, +\\infty]'))"
   ]
  },
  {
   "cell_type": "code",
   "execution_count": 80,
   "id": "f9763e3f-268d-4e6e-9ef6-d3a65e42dcce",
   "metadata": {},
   "outputs": [
    {
     "data": {
      "text/latex": [
       "$\\displaystyle  \\frac{P}{1-P} = e^{ \\alpha + \\beta \\cdot x}$"
      ],
      "text/plain": [
       "<IPython.core.display.Math object>"
      ]
     },
     "metadata": {},
     "output_type": "display_data"
    }
   ],
   "source": [
    "display (Math(r' \\frac{P}{1-P} = e^{ \\alpha + \\beta \\cdot x}'))"
   ]
  },
  {
   "cell_type": "code",
   "execution_count": 86,
   "id": "ccdcb77e-f79d-4186-8385-839ce6304f99",
   "metadata": {},
   "outputs": [
    {
     "data": {
      "text/latex": [
       "$\\displaystyle  e^ { \\alpha + \\beta \\cdot x} = P(1 + e^ {\\alpha + \\beta \\cdot x })$"
      ],
      "text/plain": [
       "<IPython.core.display.Math object>"
      ]
     },
     "metadata": {},
     "output_type": "display_data"
    }
   ],
   "source": [
    "display (Math(r' e^ { \\alpha + \\beta \\cdot x} = P(1 + e^ {\\alpha + \\beta \\cdot x })'))"
   ]
  },
  {
   "cell_type": "code",
   "execution_count": 95,
   "id": "041bb0ea-17aa-45a6-9996-c9161f3c3933",
   "metadata": {},
   "outputs": [
    {
     "data": {
      "text/latex": [
       "$\\displaystyle  P = \\frac{e^ {\\alpha + \\beta \\cdot x}} {1 + e^ {\\alpha + \\beta \\cdot x} }$"
      ],
      "text/plain": [
       "<IPython.core.display.Math object>"
      ]
     },
     "metadata": {},
     "output_type": "display_data"
    }
   ],
   "source": [
    "display (Math(r' P = \\frac{e^ {\\alpha + \\beta \\cdot x}} {1 + e^ {\\alpha + \\beta \\cdot x} }') )"
   ]
  },
  {
   "cell_type": "code",
   "execution_count": 96,
   "id": "00f04f72-a505-4093-a1f0-5f9788224beb",
   "metadata": {},
   "outputs": [
    {
     "data": {
      "text/latex": [
       "$\\displaystyle  P = \\frac{1} {1 + e^ {-\\alpha - \\beta \\cdot x} }$"
      ],
      "text/plain": [
       "<IPython.core.display.Math object>"
      ]
     },
     "metadata": {},
     "output_type": "display_data"
    }
   ],
   "source": [
    "display (Math(r' P = \\frac{1} {1 + e^ {-\\alpha - \\beta \\cdot x} }') )"
   ]
  },
  {
   "cell_type": "code",
   "execution_count": 97,
   "id": "25502607-ae9d-419a-8e40-fce3524037a6",
   "metadata": {},
   "outputs": [
    {
     "data": {
      "text/latex": [
       "$\\displaystyle  P = \\frac{1} {1 + e^ {-(\\alpha + \\beta \\cdot x)} }$"
      ],
      "text/plain": [
       "<IPython.core.display.Math object>"
      ]
     },
     "metadata": {},
     "output_type": "display_data"
    }
   ],
   "source": [
    "display (Math(r' P = \\frac{1} {1 + e^ {-(\\alpha + \\beta \\cdot x)} }') )"
   ]
  },
  {
   "cell_type": "code",
   "execution_count": 106,
   "id": "14180d1c-eef7-4c3f-b9fe-edd65f574bfc",
   "metadata": {},
   "outputs": [
    {
     "data": {
      "text/latex": [
       "$\\displaystyle  Si\\ \\alpha + \\beta \\cdot x \\ es\\ muy\\ pequeño\\ (negativo),\\ entonces\\ P\\ tiende\\ a\\ 0$"
      ],
      "text/plain": [
       "<IPython.core.display.Math object>"
      ]
     },
     "metadata": {},
     "output_type": "display_data"
    },
    {
     "data": {
      "text/latex": [
       "$\\displaystyle  Si\\ \\alpha + \\beta \\cdot x \\ es\\ muy\\ grande\\ (positivo),\\ entonces\\ P\\ tiende\\ a\\ 1$"
      ],
      "text/plain": [
       "<IPython.core.display.Math object>"
      ]
     },
     "metadata": {},
     "output_type": "display_data"
    },
    {
     "data": {
      "text/latex": [
       "$\\displaystyle  Si\\ \\alpha + \\beta \\cdot x = 0, \\ entonces\\ P=0.5$"
      ],
      "text/plain": [
       "<IPython.core.display.Math object>"
      ]
     },
     "metadata": {},
     "output_type": "display_data"
    }
   ],
   "source": [
    "display (Math(r' Si\\ \\alpha + \\beta \\cdot x \\ es\\ muy\\ pequeño\\ (negativo),\\ entonces\\ P\\ tiende\\ a\\ 0' ) )\n",
    "display (Math(r' Si\\ \\alpha + \\beta \\cdot x \\ es\\ muy\\ grande\\ (positivo),\\ entonces\\ P\\ tiende\\ a\\ 1' ) )\n",
    "display (Math(r' Si\\ \\alpha + \\beta \\cdot x = 0, \\ entonces\\ P=0.5' ) )"
   ]
  },
  {
   "cell_type": "markdown",
   "id": "a69ccad6-ac8e-4250-a6dc-c9bb7569e6b6",
   "metadata": {},
   "source": [
    "## Regresión Logística múltiple"
   ]
  },
  {
   "cell_type": "code",
   "execution_count": 108,
   "id": "5c2b1bd8-d65a-40b6-9e5a-9c24ae48da5c",
   "metadata": {},
   "outputs": [
    {
     "data": {
      "text/latex": [
       "$\\displaystyle  P = \\frac{1} {1 + e^ {-(\\alpha + \\sum_{i=1}^{n}\\beta_i \\cdot x_i)} }$"
      ],
      "text/plain": [
       "<IPython.core.display.Math object>"
      ]
     },
     "metadata": {},
     "output_type": "display_data"
    }
   ],
   "source": [
    "display (Math(r' P = \\frac{1} {1 + e^ {-(\\alpha + \\sum_{i=1}^{n}\\beta_i \\cdot x_i)} }') )"
   ]
  },
  {
   "cell_type": "code",
   "execution_count": 117,
   "id": "1b9fd6ae-1ab3-408d-a0b2-467547aa4b96",
   "metadata": {},
   "outputs": [
    {
     "data": {
      "text/latex": [
       "$\\displaystyle  \\vec{\\beta} = (\\beta_1, \\beta_2, \\cdots, \\beta_n)$"
      ],
      "text/plain": [
       "<IPython.core.display.Math object>"
      ]
     },
     "metadata": {},
     "output_type": "display_data"
    },
    {
     "data": {
      "text/latex": [
       "$\\displaystyle  \\vec{X} = (x_1, x_2, \\cdots, x_n)$"
      ],
      "text/plain": [
       "<IPython.core.display.Math object>"
      ]
     },
     "metadata": {},
     "output_type": "display_data"
    },
    {
     "data": {
      "text/latex": [
       "$\\displaystyle  P = \\frac{1} {1 + e^ {-(\\alpha + \\vec{\\beta} \\cdot \\vec{X})} }$"
      ],
      "text/plain": [
       "<IPython.core.display.Math object>"
      ]
     },
     "metadata": {},
     "output_type": "display_data"
    }
   ],
   "source": [
    "display (Math(r' \\vec{\\beta} = (\\beta_1, \\beta_2, \\cdots, \\beta_n)') )\n",
    "display (Math(r' \\vec{X} = (x_1, x_2, \\cdots, x_n)') )\n",
    "display (Math(r' P = \\frac{1} {1 + e^ {-(\\alpha + \\vec{\\beta} \\cdot \\vec{X})} }') )"
   ]
  },
  {
   "cell_type": "markdown",
   "id": "dee69e10-9801-4cfe-8eaa-ca3ca0e80f9a",
   "metadata": {},
   "source": [
    "## Implementación del método de máxima verosimilitud en regresión logística"
   ]
  },
  {
   "cell_type": "markdown",
   "id": "7fc8bf30-1ef4-424e-b21e-8295732c2a88",
   "metadata": {},
   "source": [
    "## Definir la función de entorno L(b)"
   ]
  },
  {
   "cell_type": "code",
   "execution_count": 118,
   "id": "d2568109-b1ae-4f94-b5ab-46e171418bbe",
   "metadata": {},
   "outputs": [],
   "source": [
    "from IPython.display import display, Math, Latex"
   ]
  },
  {
   "cell_type": "code",
   "execution_count": 120,
   "id": "4c5117c0-81d5-42b7-9874-72dc90a88861",
   "metadata": {},
   "outputs": [
    {
     "data": {
      "text/latex": [
       "$\\displaystyle  L(\\beta) = \\sum_{i=0}^n P_i^{y_i}(1 - P_i)^{y_i} $"
      ],
      "text/plain": [
       "<IPython.core.display.Math object>"
      ]
     },
     "metadata": {},
     "output_type": "display_data"
    }
   ],
   "source": [
    "display (Math(r' L(\\beta) = \\sum_{i=0}^n P_i^{y_i}(1 - P_i)^{y_i} '))"
   ]
  },
  {
   "cell_type": "code",
   "execution_count": null,
   "id": "1dda389c-3f81-483d-a528-b3679629d96e",
   "metadata": {},
   "outputs": [],
   "source": [
    "def linkelihood(y,pi):\n",
    "    import numpy as np\n",
    "    total_sum = 1\n",
    "    sum_in = range(1, len(i+1))\n",
    "    for i in range(len(y)):\n",
    "        sum_in[i] = np.where(y[i]==1, pi[i], 1-pi[i])\n",
    "        total_sum  = total_sum*sum_in[i]\n",
    "    return total_sum\n",
    "        \n",
    "    "
   ]
  }
 ],
 "metadata": {
  "kernelspec": {
   "display_name": "Python 3 (ipykernel)",
   "language": "python",
   "name": "python3"
  },
  "language_info": {
   "codemirror_mode": {
    "name": "ipython",
    "version": 3
   },
   "file_extension": ".py",
   "mimetype": "text/x-python",
   "name": "python",
   "nbconvert_exporter": "python",
   "pygments_lexer": "ipython3",
   "version": "3.11.9"
  }
 },
 "nbformat": 4,
 "nbformat_minor": 5
}
