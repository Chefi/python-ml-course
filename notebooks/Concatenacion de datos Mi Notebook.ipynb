{
 "cells": [
  {
   "cell_type": "code",
   "execution_count": null,
   "id": "62ca6f09-542b-4673-8088-681844149d64",
   "metadata": {},
   "outputs": [],
   "source": []
  }
 ],
 "metadata": {
  "kernelspec": {
   "display_name": "",
   "name": ""
  },
  "language_info": {
   "name": ""
  }
 },
 "nbformat": 4,
 "nbformat_minor": 5
}
