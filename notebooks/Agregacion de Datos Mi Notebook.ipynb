{
 "cells": [
  {
   "cell_type": "markdown",
   "id": "63cc6f81-aad8-425c-9bf7-b334dbc08ab4",
   "metadata": {},
   "source": [
    "## Agregación de Datos por categoría"
   ]
  },
  {
   "cell_type": "code",
   "execution_count": 1,
   "id": "362fadb1-13b7-4ed0-91be-239b7a80d730",
   "metadata": {},
   "outputs": [],
   "source": [
    "import numpy as np\n",
    "import pandas as pd"
   ]
  },
  {
   "cell_type": "code",
   "execution_count": null,
   "id": "5da44708-64f8-4c14-a394-e78c28a134c9",
   "metadata": {},
   "outputs": [],
   "source": []
  }
 ],
 "metadata": {
  "kernelspec": {
   "display_name": "Python 3 (ipykernel)",
   "language": "python",
   "name": "python3"
  },
  "language_info": {
   "codemirror_mode": {
    "name": "ipython",
    "version": 3
   },
   "file_extension": ".py",
   "mimetype": "text/x-python",
   "name": "python",
   "nbconvert_exporter": "python",
   "pygments_lexer": "ipython3",
   "version": "3.11.9"
  }
 },
 "nbformat": 4,
 "nbformat_minor": 5
}
