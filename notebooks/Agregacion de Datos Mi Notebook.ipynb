{
 "cells": [
  {
   "cell_type": "markdown",
   "id": "63cc6f81-aad8-425c-9bf7-b334dbc08ab4",
   "metadata": {},
   "source": [
    "## Agregación de Datos por categoría"
   ]
  },
  {
   "cell_type": "code",
   "execution_count": 1,
   "id": "362fadb1-13b7-4ed0-91be-239b7a80d730",
   "metadata": {},
   "outputs": [],
   "source": [
    "import numpy as np\n",
    "import pandas as pd"
   ]
  },
  {
   "cell_type": "code",
   "execution_count": 3,
   "id": "5da44708-64f8-4c14-a394-e78c28a134c9",
   "metadata": {},
   "outputs": [],
   "source": [
    "gender = [\"Male\", \"Female\"]\n",
    "income = [\"Poor\", \"Middle Class\", \"Rich\"]"
   ]
  },
  {
   "cell_type": "code",
   "execution_count": 4,
   "id": "4cd73f49-7ed3-4060-9fcf-b1883b6db086",
   "metadata": {},
   "outputs": [],
   "source": [
    "n = 500\n",
    "gender_data = []\n",
    "income_data = []\n",
    "\n",
    "for i in range(500):\n",
    "    gender_data.append(np.random.choice(gender))\n",
    "    income_data.append(np.random.choice(income))\n",
    "    "
   ]
  },
  {
   "cell_type": "code",
   "execution_count": 7,
   "id": "43abe3e2-b536-47a7-93e3-7256c703190c",
   "metadata": {},
   "outputs": [
    {
     "data": {
      "text/plain": [
       "['Male',\n",
       " 'Male',\n",
       " 'Male',\n",
       " 'Female',\n",
       " 'Male',\n",
       " 'Female',\n",
       " 'Male',\n",
       " 'Female',\n",
       " 'Female',\n",
       " 'Male']"
      ]
     },
     "execution_count": 7,
     "metadata": {},
     "output_type": "execute_result"
    }
   ],
   "source": [
    "gender_data[:10]"
   ]
  },
  {
   "cell_type": "code",
   "execution_count": 8,
   "id": "26acf790-78ca-4874-9e25-092d9172fd97",
   "metadata": {},
   "outputs": [
    {
     "data": {
      "text/plain": [
       "['Rich',\n",
       " 'Rich',\n",
       " 'Poor',\n",
       " 'Poor',\n",
       " 'Middle Class',\n",
       " 'Poor',\n",
       " 'Poor',\n",
       " 'Poor',\n",
       " 'Poor',\n",
       " 'Middle Class']"
      ]
     },
     "execution_count": 8,
     "metadata": {},
     "output_type": "execute_result"
    }
   ],
   "source": [
    "income_data[:10]"
   ]
  },
  {
   "cell_type": "code",
   "execution_count": 9,
   "id": "c07b53e4-37e7-4d7a-9fad-a1587ec46073",
   "metadata": {},
   "outputs": [],
   "source": [
    "height = 160 + 30 * np.random.randn(n)\n",
    "weight = 65 + 25 * np.random.randn(n)\n",
    "age = 30 + 12 * np.random.randn(n)\n",
    "income = 18000 + 3500 * np.random.randn(n)"
   ]
  },
  {
   "cell_type": "code",
   "execution_count": 10,
   "id": "d0c78b61-c136-4667-a73f-5115c26ebccd",
   "metadata": {},
   "outputs": [],
   "source": [
    "data = pd.DataFrame(\n",
    "    {\n",
    "        \"Gender\": gender_data,\n",
    "        \"Economic Status\": income_data,\n",
    "        \"Height\": height,\n",
    "        \"Age\" : age,\n",
    "        \"Income\" : income\n",
    "    }\n",
    ")"
   ]
  },
  {
   "cell_type": "code",
   "execution_count": 11,
   "id": "43e202d1-cae6-4db1-bf0b-2d8cc896d82b",
   "metadata": {},
   "outputs": [
    {
     "data": {
      "text/html": [
       "<div>\n",
       "<style scoped>\n",
       "    .dataframe tbody tr th:only-of-type {\n",
       "        vertical-align: middle;\n",
       "    }\n",
       "\n",
       "    .dataframe tbody tr th {\n",
       "        vertical-align: top;\n",
       "    }\n",
       "\n",
       "    .dataframe thead th {\n",
       "        text-align: right;\n",
       "    }\n",
       "</style>\n",
       "<table border=\"1\" class=\"dataframe\">\n",
       "  <thead>\n",
       "    <tr style=\"text-align: right;\">\n",
       "      <th></th>\n",
       "      <th>Gender</th>\n",
       "      <th>Economic Status</th>\n",
       "      <th>Height</th>\n",
       "      <th>Age</th>\n",
       "      <th>Income</th>\n",
       "    </tr>\n",
       "  </thead>\n",
       "  <tbody>\n",
       "    <tr>\n",
       "      <th>0</th>\n",
       "      <td>Male</td>\n",
       "      <td>Rich</td>\n",
       "      <td>181.406969</td>\n",
       "      <td>29.235417</td>\n",
       "      <td>18766.017123</td>\n",
       "    </tr>\n",
       "    <tr>\n",
       "      <th>1</th>\n",
       "      <td>Male</td>\n",
       "      <td>Rich</td>\n",
       "      <td>157.202930</td>\n",
       "      <td>35.326445</td>\n",
       "      <td>23419.799594</td>\n",
       "    </tr>\n",
       "    <tr>\n",
       "      <th>2</th>\n",
       "      <td>Male</td>\n",
       "      <td>Poor</td>\n",
       "      <td>88.381713</td>\n",
       "      <td>47.559280</td>\n",
       "      <td>17757.817898</td>\n",
       "    </tr>\n",
       "    <tr>\n",
       "      <th>3</th>\n",
       "      <td>Female</td>\n",
       "      <td>Poor</td>\n",
       "      <td>174.670916</td>\n",
       "      <td>43.722550</td>\n",
       "      <td>19911.545173</td>\n",
       "    </tr>\n",
       "    <tr>\n",
       "      <th>4</th>\n",
       "      <td>Male</td>\n",
       "      <td>Middle Class</td>\n",
       "      <td>145.540518</td>\n",
       "      <td>28.228207</td>\n",
       "      <td>17931.589155</td>\n",
       "    </tr>\n",
       "  </tbody>\n",
       "</table>\n",
       "</div>"
      ],
      "text/plain": [
       "   Gender Economic Status      Height        Age        Income\n",
       "0    Male            Rich  181.406969  29.235417  18766.017123\n",
       "1    Male            Rich  157.202930  35.326445  23419.799594\n",
       "2    Male            Poor   88.381713  47.559280  17757.817898\n",
       "3  Female            Poor  174.670916  43.722550  19911.545173\n",
       "4    Male    Middle Class  145.540518  28.228207  17931.589155"
      ]
     },
     "execution_count": 11,
     "metadata": {},
     "output_type": "execute_result"
    }
   ],
   "source": [
    "data.head()"
   ]
  },
  {
   "cell_type": "markdown",
   "id": "827b92de-209d-41b1-a51c-b87e944dcc76",
   "metadata": {},
   "source": [
    "## Agrupación de datos"
   ]
  },
  {
   "cell_type": "code",
   "execution_count": 14,
   "id": "9b463357-da0f-44ff-8fd8-f93d86aee831",
   "metadata": {},
   "outputs": [],
   "source": [
    "grouped_gender = data.groupby(\"Gender\")"
   ]
  },
  {
   "cell_type": "code",
   "execution_count": 15,
   "id": "12158823-a356-4963-bdd1-74de3e94e336",
   "metadata": {},
   "outputs": [
    {
     "data": {
      "text/plain": [
       "{'Female': [3, 5, 7, 8, 10, 12, 13, 14, 16, 20, 23, 25, 27, 28, 31, 33, 37, 38, 39, 42, 45, 46, 48, 50, 59, 60, 63, 65, 67, 69, 70, 71, 72, 73, 75, 77, 78, 79, 80, 81, 83, 84, 86, 93, 95, 97, 104, 105, 106, 107, 111, 112, 114, 115, 118, 121, 122, 125, 127, 129, 130, 131, 132, 133, 134, 137, 138, 140, 141, 142, 146, 147, 149, 151, 152, 153, 155, 158, 160, 162, 163, 164, 165, 166, 167, 169, 172, 173, 174, 180, 182, 183, 184, 186, 187, 188, 190, 191, 192, 194, ...], 'Male': [0, 1, 2, 4, 6, 9, 11, 15, 17, 18, 19, 21, 22, 24, 26, 29, 30, 32, 34, 35, 36, 40, 41, 43, 44, 47, 49, 51, 52, 53, 54, 55, 56, 57, 58, 61, 62, 64, 66, 68, 74, 76, 82, 85, 87, 88, 89, 90, 91, 92, 94, 96, 98, 99, 100, 101, 102, 103, 108, 109, 110, 113, 116, 117, 119, 120, 123, 124, 126, 128, 135, 136, 139, 143, 144, 145, 148, 150, 154, 156, 157, 159, 161, 168, 170, 171, 175, 176, 177, 178, 179, 181, 185, 189, 193, 195, 198, 199, 200, 201, ...]}"
      ]
     },
     "execution_count": 15,
     "metadata": {},
     "output_type": "execute_result"
    }
   ],
   "source": [
    "grouped_gender.groups"
   ]
  },
  {
   "cell_type": "code",
   "execution_count": 16,
   "id": "26f27087-1922-4bd8-948b-753b0dc389f7",
   "metadata": {},
   "outputs": [
    {
     "name": "stdout",
     "output_type": "stream",
     "text": [
      "Female\n",
      "     Gender Economic Status      Height        Age        Income\n",
      "3    Female            Poor  174.670916  43.722550  19911.545173\n",
      "5    Female            Poor   97.972630  30.546687  22780.998213\n",
      "7    Female            Poor  134.597140  28.286719  16600.458694\n",
      "8    Female            Poor  131.737449  31.737768  17493.672192\n",
      "10   Female            Rich  169.997038  22.339751  15556.366925\n",
      "..      ...             ...         ...        ...           ...\n",
      "483  Female            Rich  181.902977  24.117662  17419.865415\n",
      "484  Female            Poor  181.737343  39.554701  16248.935219\n",
      "489  Female            Rich  156.669551  40.394243  16283.152173\n",
      "495  Female    Middle Class  172.680990  31.190583  18163.972350\n",
      "499  Female    Middle Class  188.837726  37.191933  21665.882798\n",
      "\n",
      "[254 rows x 5 columns]\n",
      "Male\n",
      "    Gender Economic Status      Height        Age        Income\n",
      "0     Male            Rich  181.406969  29.235417  18766.017123\n",
      "1     Male            Rich  157.202930  35.326445  23419.799594\n",
      "2     Male            Poor   88.381713  47.559280  17757.817898\n",
      "4     Male    Middle Class  145.540518  28.228207  17931.589155\n",
      "6     Male            Poor  158.903614  25.973414  19502.247730\n",
      "..     ...             ...         ...        ...           ...\n",
      "493   Male    Middle Class  146.318797  37.950546  20766.870333\n",
      "494   Male            Poor  139.504844  26.675455  17146.693689\n",
      "496   Male            Poor  159.435665  22.678731  19065.581650\n",
      "497   Male            Poor  156.848820  19.750856  13916.231366\n",
      "498   Male            Rich  137.922396  41.329210  17540.986123\n",
      "\n",
      "[246 rows x 5 columns]\n"
     ]
    }
   ],
   "source": [
    "for names, groups in grouped_gender:\n",
    "    print(names)\n",
    "    print(groups)"
   ]
  },
  {
   "cell_type": "code",
   "execution_count": 17,
   "id": "167cdbe4-1861-45bd-8a30-f78b9fb03c02",
   "metadata": {},
   "outputs": [
    {
     "data": {
      "text/html": [
       "<div>\n",
       "<style scoped>\n",
       "    .dataframe tbody tr th:only-of-type {\n",
       "        vertical-align: middle;\n",
       "    }\n",
       "\n",
       "    .dataframe tbody tr th {\n",
       "        vertical-align: top;\n",
       "    }\n",
       "\n",
       "    .dataframe thead th {\n",
       "        text-align: right;\n",
       "    }\n",
       "</style>\n",
       "<table border=\"1\" class=\"dataframe\">\n",
       "  <thead>\n",
       "    <tr style=\"text-align: right;\">\n",
       "      <th></th>\n",
       "      <th>Gender</th>\n",
       "      <th>Economic Status</th>\n",
       "      <th>Height</th>\n",
       "      <th>Age</th>\n",
       "      <th>Income</th>\n",
       "    </tr>\n",
       "  </thead>\n",
       "  <tbody>\n",
       "    <tr>\n",
       "      <th>0</th>\n",
       "      <td>Male</td>\n",
       "      <td>Rich</td>\n",
       "      <td>181.406969</td>\n",
       "      <td>29.235417</td>\n",
       "      <td>18766.017123</td>\n",
       "    </tr>\n",
       "    <tr>\n",
       "      <th>1</th>\n",
       "      <td>Male</td>\n",
       "      <td>Rich</td>\n",
       "      <td>157.202930</td>\n",
       "      <td>35.326445</td>\n",
       "      <td>23419.799594</td>\n",
       "    </tr>\n",
       "    <tr>\n",
       "      <th>2</th>\n",
       "      <td>Male</td>\n",
       "      <td>Poor</td>\n",
       "      <td>88.381713</td>\n",
       "      <td>47.559280</td>\n",
       "      <td>17757.817898</td>\n",
       "    </tr>\n",
       "    <tr>\n",
       "      <th>4</th>\n",
       "      <td>Male</td>\n",
       "      <td>Middle Class</td>\n",
       "      <td>145.540518</td>\n",
       "      <td>28.228207</td>\n",
       "      <td>17931.589155</td>\n",
       "    </tr>\n",
       "    <tr>\n",
       "      <th>6</th>\n",
       "      <td>Male</td>\n",
       "      <td>Poor</td>\n",
       "      <td>158.903614</td>\n",
       "      <td>25.973414</td>\n",
       "      <td>19502.247730</td>\n",
       "    </tr>\n",
       "    <tr>\n",
       "      <th>...</th>\n",
       "      <td>...</td>\n",
       "      <td>...</td>\n",
       "      <td>...</td>\n",
       "      <td>...</td>\n",
       "      <td>...</td>\n",
       "    </tr>\n",
       "    <tr>\n",
       "      <th>493</th>\n",
       "      <td>Male</td>\n",
       "      <td>Middle Class</td>\n",
       "      <td>146.318797</td>\n",
       "      <td>37.950546</td>\n",
       "      <td>20766.870333</td>\n",
       "    </tr>\n",
       "    <tr>\n",
       "      <th>494</th>\n",
       "      <td>Male</td>\n",
       "      <td>Poor</td>\n",
       "      <td>139.504844</td>\n",
       "      <td>26.675455</td>\n",
       "      <td>17146.693689</td>\n",
       "    </tr>\n",
       "    <tr>\n",
       "      <th>496</th>\n",
       "      <td>Male</td>\n",
       "      <td>Poor</td>\n",
       "      <td>159.435665</td>\n",
       "      <td>22.678731</td>\n",
       "      <td>19065.581650</td>\n",
       "    </tr>\n",
       "    <tr>\n",
       "      <th>497</th>\n",
       "      <td>Male</td>\n",
       "      <td>Poor</td>\n",
       "      <td>156.848820</td>\n",
       "      <td>19.750856</td>\n",
       "      <td>13916.231366</td>\n",
       "    </tr>\n",
       "    <tr>\n",
       "      <th>498</th>\n",
       "      <td>Male</td>\n",
       "      <td>Rich</td>\n",
       "      <td>137.922396</td>\n",
       "      <td>41.329210</td>\n",
       "      <td>17540.986123</td>\n",
       "    </tr>\n",
       "  </tbody>\n",
       "</table>\n",
       "<p>246 rows × 5 columns</p>\n",
       "</div>"
      ],
      "text/plain": [
       "    Gender Economic Status      Height        Age        Income\n",
       "0     Male            Rich  181.406969  29.235417  18766.017123\n",
       "1     Male            Rich  157.202930  35.326445  23419.799594\n",
       "2     Male            Poor   88.381713  47.559280  17757.817898\n",
       "4     Male    Middle Class  145.540518  28.228207  17931.589155\n",
       "6     Male            Poor  158.903614  25.973414  19502.247730\n",
       "..     ...             ...         ...        ...           ...\n",
       "493   Male    Middle Class  146.318797  37.950546  20766.870333\n",
       "494   Male            Poor  139.504844  26.675455  17146.693689\n",
       "496   Male            Poor  159.435665  22.678731  19065.581650\n",
       "497   Male            Poor  156.848820  19.750856  13916.231366\n",
       "498   Male            Rich  137.922396  41.329210  17540.986123\n",
       "\n",
       "[246 rows x 5 columns]"
      ]
     },
     "execution_count": 17,
     "metadata": {},
     "output_type": "execute_result"
    }
   ],
   "source": [
    "grouped_gender.get_group(\"Male\")"
   ]
  },
  {
   "cell_type": "code",
   "execution_count": 18,
   "id": "138300bd-8c3b-4187-9dcb-ccf8d17710c2",
   "metadata": {},
   "outputs": [
    {
     "data": {
      "text/html": [
       "<div>\n",
       "<style scoped>\n",
       "    .dataframe tbody tr th:only-of-type {\n",
       "        vertical-align: middle;\n",
       "    }\n",
       "\n",
       "    .dataframe tbody tr th {\n",
       "        vertical-align: top;\n",
       "    }\n",
       "\n",
       "    .dataframe thead th {\n",
       "        text-align: right;\n",
       "    }\n",
       "</style>\n",
       "<table border=\"1\" class=\"dataframe\">\n",
       "  <thead>\n",
       "    <tr style=\"text-align: right;\">\n",
       "      <th></th>\n",
       "      <th>Gender</th>\n",
       "      <th>Economic Status</th>\n",
       "      <th>Height</th>\n",
       "      <th>Age</th>\n",
       "      <th>Income</th>\n",
       "    </tr>\n",
       "  </thead>\n",
       "  <tbody>\n",
       "    <tr>\n",
       "      <th>3</th>\n",
       "      <td>Female</td>\n",
       "      <td>Poor</td>\n",
       "      <td>174.670916</td>\n",
       "      <td>43.722550</td>\n",
       "      <td>19911.545173</td>\n",
       "    </tr>\n",
       "    <tr>\n",
       "      <th>5</th>\n",
       "      <td>Female</td>\n",
       "      <td>Poor</td>\n",
       "      <td>97.972630</td>\n",
       "      <td>30.546687</td>\n",
       "      <td>22780.998213</td>\n",
       "    </tr>\n",
       "    <tr>\n",
       "      <th>7</th>\n",
       "      <td>Female</td>\n",
       "      <td>Poor</td>\n",
       "      <td>134.597140</td>\n",
       "      <td>28.286719</td>\n",
       "      <td>16600.458694</td>\n",
       "    </tr>\n",
       "    <tr>\n",
       "      <th>8</th>\n",
       "      <td>Female</td>\n",
       "      <td>Poor</td>\n",
       "      <td>131.737449</td>\n",
       "      <td>31.737768</td>\n",
       "      <td>17493.672192</td>\n",
       "    </tr>\n",
       "    <tr>\n",
       "      <th>10</th>\n",
       "      <td>Female</td>\n",
       "      <td>Rich</td>\n",
       "      <td>169.997038</td>\n",
       "      <td>22.339751</td>\n",
       "      <td>15556.366925</td>\n",
       "    </tr>\n",
       "    <tr>\n",
       "      <th>...</th>\n",
       "      <td>...</td>\n",
       "      <td>...</td>\n",
       "      <td>...</td>\n",
       "      <td>...</td>\n",
       "      <td>...</td>\n",
       "    </tr>\n",
       "    <tr>\n",
       "      <th>483</th>\n",
       "      <td>Female</td>\n",
       "      <td>Rich</td>\n",
       "      <td>181.902977</td>\n",
       "      <td>24.117662</td>\n",
       "      <td>17419.865415</td>\n",
       "    </tr>\n",
       "    <tr>\n",
       "      <th>484</th>\n",
       "      <td>Female</td>\n",
       "      <td>Poor</td>\n",
       "      <td>181.737343</td>\n",
       "      <td>39.554701</td>\n",
       "      <td>16248.935219</td>\n",
       "    </tr>\n",
       "    <tr>\n",
       "      <th>489</th>\n",
       "      <td>Female</td>\n",
       "      <td>Rich</td>\n",
       "      <td>156.669551</td>\n",
       "      <td>40.394243</td>\n",
       "      <td>16283.152173</td>\n",
       "    </tr>\n",
       "    <tr>\n",
       "      <th>495</th>\n",
       "      <td>Female</td>\n",
       "      <td>Middle Class</td>\n",
       "      <td>172.680990</td>\n",
       "      <td>31.190583</td>\n",
       "      <td>18163.972350</td>\n",
       "    </tr>\n",
       "    <tr>\n",
       "      <th>499</th>\n",
       "      <td>Female</td>\n",
       "      <td>Middle Class</td>\n",
       "      <td>188.837726</td>\n",
       "      <td>37.191933</td>\n",
       "      <td>21665.882798</td>\n",
       "    </tr>\n",
       "  </tbody>\n",
       "</table>\n",
       "<p>254 rows × 5 columns</p>\n",
       "</div>"
      ],
      "text/plain": [
       "     Gender Economic Status      Height        Age        Income\n",
       "3    Female            Poor  174.670916  43.722550  19911.545173\n",
       "5    Female            Poor   97.972630  30.546687  22780.998213\n",
       "7    Female            Poor  134.597140  28.286719  16600.458694\n",
       "8    Female            Poor  131.737449  31.737768  17493.672192\n",
       "10   Female            Rich  169.997038  22.339751  15556.366925\n",
       "..      ...             ...         ...        ...           ...\n",
       "483  Female            Rich  181.902977  24.117662  17419.865415\n",
       "484  Female            Poor  181.737343  39.554701  16248.935219\n",
       "489  Female            Rich  156.669551  40.394243  16283.152173\n",
       "495  Female    Middle Class  172.680990  31.190583  18163.972350\n",
       "499  Female    Middle Class  188.837726  37.191933  21665.882798\n",
       "\n",
       "[254 rows x 5 columns]"
      ]
     },
     "execution_count": 18,
     "metadata": {},
     "output_type": "execute_result"
    }
   ],
   "source": [
    "grouped_gender.get_group(\"Female\")"
   ]
  },
  {
   "cell_type": "code",
   "execution_count": 20,
   "id": "e20b1f93-bcab-4f17-bce4-1b5806f090a9",
   "metadata": {},
   "outputs": [],
   "source": [
    "double_group = data.groupby([\"Gender\", \"Economic Status\"])"
   ]
  },
  {
   "cell_type": "code",
   "execution_count": 21,
   "id": "d027db5f-86f4-4001-8f9d-7d449c96f6b3",
   "metadata": {},
   "outputs": [
    {
     "data": {
      "text/plain": [
       "6"
      ]
     },
     "execution_count": 21,
     "metadata": {},
     "output_type": "execute_result"
    }
   ],
   "source": [
    "len(double_group)"
   ]
  },
  {
   "cell_type": "code",
   "execution_count": 22,
   "id": "40fc3da0-df50-471f-9374-5ed40ddc629e",
   "metadata": {},
   "outputs": [
    {
     "name": "stdout",
     "output_type": "stream",
     "text": [
      "('Female', 'Middle Class')\n",
      "     Gender Economic Status      Height        Age        Income\n",
      "27   Female    Middle Class  162.551658  37.936574  15387.256496\n",
      "28   Female    Middle Class  154.993600  40.196944  18446.595937\n",
      "31   Female    Middle Class  128.883783  41.519161  18189.055289\n",
      "33   Female    Middle Class  167.938628  37.567553  18047.416221\n",
      "39   Female    Middle Class  156.294557  13.603563  21708.032395\n",
      "..      ...             ...         ...        ...           ...\n",
      "462  Female    Middle Class  168.689342  34.264264  16246.286270\n",
      "472  Female    Middle Class  157.242072  42.716713  16808.614969\n",
      "475  Female    Middle Class  164.162293  20.563155  24575.404194\n",
      "495  Female    Middle Class  172.680990  31.190583  18163.972350\n",
      "499  Female    Middle Class  188.837726  37.191933  21665.882798\n",
      "\n",
      "[76 rows x 5 columns]\n",
      "('Female', 'Poor')\n",
      "     Gender Economic Status      Height        Age        Income\n",
      "3    Female            Poor  174.670916  43.722550  19911.545173\n",
      "5    Female            Poor   97.972630  30.546687  22780.998213\n",
      "7    Female            Poor  134.597140  28.286719  16600.458694\n",
      "8    Female            Poor  131.737449  31.737768  17493.672192\n",
      "12   Female            Poor  115.250242  57.972456  17317.985666\n",
      "..      ...             ...         ...        ...           ...\n",
      "445  Female            Poor  201.332025  48.641302  16209.090659\n",
      "447  Female            Poor   87.179449   0.726775  19846.375181\n",
      "454  Female            Poor  186.976683  12.355049  12815.160601\n",
      "478  Female            Poor  149.656344  35.107960  19659.936353\n",
      "484  Female            Poor  181.737343  39.554701  16248.935219\n",
      "\n",
      "[78 rows x 5 columns]\n",
      "('Female', 'Rich')\n",
      "     Gender Economic Status      Height        Age        Income\n",
      "10   Female            Rich  169.997038  22.339751  15556.366925\n",
      "13   Female            Rich  175.208769   7.618862  13505.418302\n",
      "16   Female            Rich  183.967095  29.790302  24063.679673\n",
      "23   Female            Rich  195.140310  35.980470  21334.909141\n",
      "25   Female            Rich  181.370155  49.251125  20472.334318\n",
      "..      ...             ...         ...        ...           ...\n",
      "468  Female            Rich  135.645069  30.111843  13703.973888\n",
      "470  Female            Rich  172.064799  36.100822  28454.633411\n",
      "481  Female            Rich  129.811915  41.371405  17577.146526\n",
      "483  Female            Rich  181.902977  24.117662  17419.865415\n",
      "489  Female            Rich  156.669551  40.394243  16283.152173\n",
      "\n",
      "[100 rows x 5 columns]\n",
      "('Male', 'Middle Class')\n",
      "    Gender Economic Status      Height        Age        Income\n",
      "4     Male    Middle Class  145.540518  28.228207  17931.589155\n",
      "9     Male    Middle Class  190.605347  21.309983  18358.206370\n",
      "15    Male    Middle Class  173.222472  53.332331  14817.221188\n",
      "19    Male    Middle Class  171.104315  25.235389  26636.775490\n",
      "24    Male    Middle Class  177.995932  58.615313  25475.843844\n",
      "..     ...             ...         ...        ...           ...\n",
      "474   Male    Middle Class  193.866043  19.409617  15363.405844\n",
      "477   Male    Middle Class  183.420115  36.773396  12651.391465\n",
      "480   Male    Middle Class  142.751072  20.563560  14312.720585\n",
      "492   Male    Middle Class  219.354931  17.641593  18597.984243\n",
      "493   Male    Middle Class  146.318797  37.950546  20766.870333\n",
      "\n",
      "[76 rows x 5 columns]\n",
      "('Male', 'Poor')\n",
      "    Gender Economic Status      Height        Age        Income\n",
      "2     Male            Poor   88.381713  47.559280  17757.817898\n",
      "6     Male            Poor  158.903614  25.973414  19502.247730\n",
      "18    Male            Poor  124.913111  24.668982  17231.425865\n",
      "21    Male            Poor  199.467356  32.899241  21829.336747\n",
      "26    Male            Poor  124.753991  17.700941  20271.134689\n",
      "..     ...             ...         ...        ...           ...\n",
      "486   Male            Poor  193.252607  19.037322  17951.274440\n",
      "487   Male            Poor  161.041553  35.080368  16656.738858\n",
      "494   Male            Poor  139.504844  26.675455  17146.693689\n",
      "496   Male            Poor  159.435665  22.678731  19065.581650\n",
      "497   Male            Poor  156.848820  19.750856  13916.231366\n",
      "\n",
      "[92 rows x 5 columns]\n",
      "('Male', 'Rich')\n",
      "    Gender Economic Status      Height        Age        Income\n",
      "0     Male            Rich  181.406969  29.235417  18766.017123\n",
      "1     Male            Rich  157.202930  35.326445  23419.799594\n",
      "11    Male            Rich  134.428140  20.031187  22205.315903\n",
      "17    Male            Rich  214.356716  55.539826  10389.963094\n",
      "22    Male            Rich  179.398277  20.164747  20264.373673\n",
      "..     ...             ...         ...        ...           ...\n",
      "485   Male            Rich  114.274955  18.617022  21061.921675\n",
      "488   Male            Rich  171.505258  32.114177  24401.104243\n",
      "490   Male            Rich  172.402528  32.819870  14629.623392\n",
      "491   Male            Rich  182.715658  17.783197  13744.258530\n",
      "498   Male            Rich  137.922396  41.329210  17540.986123\n",
      "\n",
      "[78 rows x 5 columns]\n"
     ]
    }
   ],
   "source": [
    "for names, groups in double_group:\n",
    "    print(names)\n",
    "    print(groups)"
   ]
  },
  {
   "cell_type": "code",
   "execution_count": null,
   "id": "dd520fa4-a41f-4dc0-ae53-eb5c085eeda7",
   "metadata": {},
   "outputs": [],
   "source": []
  }
 ],
 "metadata": {
  "kernelspec": {
   "display_name": "Python 3 (ipykernel)",
   "language": "python",
   "name": "python3"
  },
  "language_info": {
   "codemirror_mode": {
    "name": "ipython",
    "version": 3
   },
   "file_extension": ".py",
   "mimetype": "text/x-python",
   "name": "python",
   "nbconvert_exporter": "python",
   "pygments_lexer": "ipython3",
   "version": "3.11.9"
  }
 },
 "nbformat": 4,
 "nbformat_minor": 5
}
