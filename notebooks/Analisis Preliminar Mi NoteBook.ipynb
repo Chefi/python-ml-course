{
 "cells": [
  {
   "cell_type": "code",
   "execution_count": null,
   "id": "3ead664a-3405-456f-87a0-e0e9d7854c10",
   "metadata": {},
   "outputs": [],
   "source": []
  }
 ],
 "metadata": {
  "kernelspec": {
   "display_name": "",
   "name": ""
  },
  "language_info": {
   "name": ""
  }
 },
 "nbformat": 4,
 "nbformat_minor": 5
}
