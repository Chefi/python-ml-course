{
 "cells": [
  {
   "cell_type": "markdown",
   "id": "21fcd94b-15d8-40bd-a831-d4595d4f8ca0",
   "metadata": {},
   "source": [
    "## Modelos de Regresión Lineal\n",
    "# Datos simulados"
   ]
  },
  {
   "cell_type": "markdown",
   "id": "fa3f7da4-6d21-4cee-9133-52d37fe36ab8",
   "metadata": {},
   "source": [
    "y = a + b * x"
   ]
  },
  {
   "cell_type": "markdown",
   "id": "e4295351-dcde-4136-8c08-494a1ac3018b",
   "metadata": {},
   "source": [
    "x : 100 valores distribuidos según una N(1.5, 2.5)\n",
    "\n",
    "ye = 2 + 1.8*x + e\n",
    "\n",
    "e está distribuida según N(0, 0.8)"
   ]
  },
  {
   "cell_type": "code",
   "execution_count": 6,
   "id": "7e639677-a288-4da0-bf13-6eb73ce89fd0",
   "metadata": {},
   "outputs": [],
   "source": [
    "import pandas as pd\n",
    "import numpy as np"
   ]
  },
  {
   "cell_type": "code",
   "execution_count": 7,
   "id": "276badc1-05c9-4419-bf3c-16efc03957ba",
   "metadata": {},
   "outputs": [],
   "source": [
    "x  = 1.5 + 2.5*np.random.randn(100)"
   ]
  },
  {
   "cell_type": "code",
   "execution_count": 8,
   "id": "fd13c846-7c61-4504-824c-45741226f8e0",
   "metadata": {},
   "outputs": [],
   "source": [
    "res = 0.8*np.random.randn(100)"
   ]
  },
  {
   "cell_type": "code",
   "execution_count": 9,
   "id": "bfbc7a6e-b6da-41ce-97b2-14bf7b8d23e2",
   "metadata": {},
   "outputs": [],
   "source": [
    "y_pred = 2 + 1.8*x"
   ]
  },
  {
   "cell_type": "code",
   "execution_count": 10,
   "id": "08fda9fb-3a1d-4e9d-a129-632dc80e5a0d",
   "metadata": {},
   "outputs": [],
   "source": [
    "y_act = 2 + 1.8*x + res"
   ]
  },
  {
   "cell_type": "code",
   "execution_count": 11,
   "id": "90d56e28-078c-4e5c-87dc-5bbef8c61f4f",
   "metadata": {},
   "outputs": [],
   "source": [
    "x_list = x.tolist()\n",
    "y_pred_list = y_pred.tolist()\n",
    "y_act_list = y_act.tolist()"
   ]
  },
  {
   "cell_type": "code",
   "execution_count": 12,
   "id": "454f1133-ac06-4836-bc72-8cd8c8805fdc",
   "metadata": {},
   "outputs": [],
   "source": [
    "data = pd.DataFrame(\n",
    "    {\n",
    "        \"x\": x_list,\n",
    "        \"y_actual\": y_act_list,\n",
    "        \"y_prediccion\": y_pred_list\n",
    "    }\n",
    ")"
   ]
  },
  {
   "cell_type": "code",
   "execution_count": 13,
   "id": "9f76ce2f-79d9-4dbd-ad35-f4b8793dc2d0",
   "metadata": {},
   "outputs": [
    {
     "data": {
      "text/html": [
       "<div>\n",
       "<style scoped>\n",
       "    .dataframe tbody tr th:only-of-type {\n",
       "        vertical-align: middle;\n",
       "    }\n",
       "\n",
       "    .dataframe tbody tr th {\n",
       "        vertical-align: top;\n",
       "    }\n",
       "\n",
       "    .dataframe thead th {\n",
       "        text-align: right;\n",
       "    }\n",
       "</style>\n",
       "<table border=\"1\" class=\"dataframe\">\n",
       "  <thead>\n",
       "    <tr style=\"text-align: right;\">\n",
       "      <th></th>\n",
       "      <th>x</th>\n",
       "      <th>y_actual</th>\n",
       "      <th>y_prediccion</th>\n",
       "    </tr>\n",
       "  </thead>\n",
       "  <tbody>\n",
       "    <tr>\n",
       "      <th>0</th>\n",
       "      <td>-1.833486</td>\n",
       "      <td>-1.253940</td>\n",
       "      <td>-1.300275</td>\n",
       "    </tr>\n",
       "    <tr>\n",
       "      <th>1</th>\n",
       "      <td>7.141213</td>\n",
       "      <td>15.467059</td>\n",
       "      <td>14.854184</td>\n",
       "    </tr>\n",
       "    <tr>\n",
       "      <th>2</th>\n",
       "      <td>4.775180</td>\n",
       "      <td>9.429282</td>\n",
       "      <td>10.595323</td>\n",
       "    </tr>\n",
       "    <tr>\n",
       "      <th>3</th>\n",
       "      <td>1.631333</td>\n",
       "      <td>5.569050</td>\n",
       "      <td>4.936400</td>\n",
       "    </tr>\n",
       "    <tr>\n",
       "      <th>4</th>\n",
       "      <td>2.306564</td>\n",
       "      <td>6.037436</td>\n",
       "      <td>6.151816</td>\n",
       "    </tr>\n",
       "    <tr>\n",
       "      <th>...</th>\n",
       "      <td>...</td>\n",
       "      <td>...</td>\n",
       "      <td>...</td>\n",
       "    </tr>\n",
       "    <tr>\n",
       "      <th>95</th>\n",
       "      <td>3.683346</td>\n",
       "      <td>8.135922</td>\n",
       "      <td>8.630023</td>\n",
       "    </tr>\n",
       "    <tr>\n",
       "      <th>96</th>\n",
       "      <td>3.388619</td>\n",
       "      <td>8.382514</td>\n",
       "      <td>8.099515</td>\n",
       "    </tr>\n",
       "    <tr>\n",
       "      <th>97</th>\n",
       "      <td>-2.863823</td>\n",
       "      <td>-2.708205</td>\n",
       "      <td>-3.154881</td>\n",
       "    </tr>\n",
       "    <tr>\n",
       "      <th>98</th>\n",
       "      <td>-3.124055</td>\n",
       "      <td>-4.697372</td>\n",
       "      <td>-3.623299</td>\n",
       "    </tr>\n",
       "    <tr>\n",
       "      <th>99</th>\n",
       "      <td>0.526238</td>\n",
       "      <td>1.943130</td>\n",
       "      <td>2.947228</td>\n",
       "    </tr>\n",
       "  </tbody>\n",
       "</table>\n",
       "<p>100 rows × 3 columns</p>\n",
       "</div>"
      ],
      "text/plain": [
       "           x   y_actual  y_prediccion\n",
       "0  -1.833486  -1.253940     -1.300275\n",
       "1   7.141213  15.467059     14.854184\n",
       "2   4.775180   9.429282     10.595323\n",
       "3   1.631333   5.569050      4.936400\n",
       "4   2.306564   6.037436      6.151816\n",
       "..       ...        ...           ...\n",
       "95  3.683346   8.135922      8.630023\n",
       "96  3.388619   8.382514      8.099515\n",
       "97 -2.863823  -2.708205     -3.154881\n",
       "98 -3.124055  -4.697372     -3.623299\n",
       "99  0.526238   1.943130      2.947228\n",
       "\n",
       "[100 rows x 3 columns]"
      ]
     },
     "execution_count": 13,
     "metadata": {},
     "output_type": "execute_result"
    }
   ],
   "source": [
    "data"
   ]
  },
  {
   "cell_type": "code",
   "execution_count": 14,
   "id": "b88ff631-340d-440c-b095-91f4f1da0989",
   "metadata": {},
   "outputs": [],
   "source": [
    "import matplotlib.pyplot as plt"
   ]
  },
  {
   "cell_type": "code",
   "execution_count": 15,
   "id": "f7f5dad5-20f7-4059-9b24-28021fa1f03d",
   "metadata": {},
   "outputs": [
    {
     "data": {
      "text/plain": [
       "Text(0.5, 1.0, 'Valor Actual vs Predicción')"
      ]
     },
     "execution_count": 15,
     "metadata": {},
     "output_type": "execute_result"
    },
    {
     "data": {
      "image/png": "[encoded data removed]",
      "text/plain": [
       "<Figure size 640x480 with 1 Axes>"
      ]
     },
     "metadata": {},
     "output_type": "display_data"
    }
   ],
   "source": [
    "plt.plot(x,y_pred)\n",
    "plt.plot(x,y_act, \"ro\")\n",
    "plt.title (\"Valor Actual vs Predicción\")"
   ]
  },
  {
   "cell_type": "code",
   "execution_count": null,
   "id": "b1f24f1a-8453-404a-a2f9-ff1aa6668659",
   "metadata": {},
   "outputs": [],
   "source": []
  }
 ],
 "metadata": {
  "kernelspec": {
   "display_name": "Python 3 (ipykernel)",
   "language": "python",
   "name": "python3"
  },
  "language_info": {
   "codemirror_mode": {
    "name": "ipython",
    "version": 3
   },
   "file_extension": ".py",
   "mimetype": "text/x-python",
   "name": "python",
   "nbconvert_exporter": "python",
   "pygments_lexer": "ipython3",
   "version": "3.11.9"
  }
 },
 "nbformat": 4,
 "nbformat_minor": 5
}
