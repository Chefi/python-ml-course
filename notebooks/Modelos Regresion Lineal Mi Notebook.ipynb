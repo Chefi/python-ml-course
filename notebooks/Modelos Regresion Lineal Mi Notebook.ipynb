{
 "cells": [
  {
   "cell_type": "markdown",
   "id": "21fcd94b-15d8-40bd-a831-d4595d4f8ca0",
   "metadata": {},
   "source": [
    "## Modelos de Regresión Lineal\n",
    "# Datos simulados"
   ]
  },
  {
   "cell_type": "markdown",
   "id": "fa3f7da4-6d21-4cee-9133-52d37fe36ab8",
   "metadata": {},
   "source": [
    "y = a + b * x"
   ]
  },
  {
   "cell_type": "markdown",
   "id": "e4295351-dcde-4136-8c08-494a1ac3018b",
   "metadata": {},
   "source": [
    "x : 100 valores distribuidos según una N(1.5, 2.5)\n",
    "\n",
    "ye = 2 + 1.8*x + e\n",
    "\n",
    "e está distribuida según N(0, 0.8)"
   ]
  },
  {
   "cell_type": "code",
   "execution_count": 71,
   "id": "7e639677-a288-4da0-bf13-6eb73ce89fd0",
   "metadata": {},
   "outputs": [],
   "source": [
    "import pandas as pd\n",
    "import numpy as np"
   ]
  },
  {
   "cell_type": "code",
   "execution_count": 72,
   "id": "276badc1-05c9-4419-bf3c-16efc03957ba",
   "metadata": {},
   "outputs": [],
   "source": [
    "x  = 1.5 + 2.5*np.random.randn(100)"
   ]
  },
  {
   "cell_type": "code",
   "execution_count": 73,
   "id": "fd13c846-7c61-4504-824c-45741226f8e0",
   "metadata": {},
   "outputs": [],
   "source": [
    "res = 2.8*np.random.randn(100)"
   ]
  },
  {
   "cell_type": "code",
   "execution_count": 74,
   "id": "bfbc7a6e-b6da-41ce-97b2-14bf7b8d23e2",
   "metadata": {},
   "outputs": [],
   "source": [
    "y_pred = 2 + 1.8*x"
   ]
  },
  {
   "cell_type": "code",
   "execution_count": 75,
   "id": "08fda9fb-3a1d-4e9d-a129-632dc80e5a0d",
   "metadata": {},
   "outputs": [],
   "source": [
    "y_act = 2 + 1.8*x + res"
   ]
  },
  {
   "cell_type": "code",
   "execution_count": 76,
   "id": "90d56e28-078c-4e5c-87dc-5bbef8c61f4f",
   "metadata": {},
   "outputs": [],
   "source": [
    "x_list = x.tolist()\n",
    "y_pred_list = y_pred.tolist()\n",
    "y_act_list = y_act.tolist()\n",
    "y_mean_list = [np.mean(y_act) for i in range(len(x_list))]"
   ]
  },
  {
   "cell_type": "code",
   "execution_count": 77,
   "id": "26724c06-0b5c-41cb-a6ad-20ff89839839",
   "metadata": {},
   "outputs": [
    {
     "data": {
      "text/plain": [
       "[5.180403030877937,\n",
       " 5.180403030877937,\n",
       " 5.180403030877937,\n",
       " 5.180403030877937,\n",
       " 5.180403030877937,\n",
       " 5.180403030877937,\n",
       " 5.180403030877937,\n",
       " 5.180403030877937,\n",
       " 5.180403030877937,\n",
       " 5.180403030877937,\n",
       " 5.180403030877937,\n",
       " 5.180403030877937,\n",
       " 5.180403030877937,\n",
       " 5.180403030877937,\n",
       " 5.180403030877937,\n",
       " 5.180403030877937,\n",
       " 5.180403030877937,\n",
       " 5.180403030877937,\n",
       " 5.180403030877937,\n",
       " 5.180403030877937,\n",
       " 5.180403030877937,\n",
       " 5.180403030877937,\n",
       " 5.180403030877937,\n",
       " 5.180403030877937,\n",
       " 5.180403030877937,\n",
       " 5.180403030877937,\n",
       " 5.180403030877937,\n",
       " 5.180403030877937,\n",
       " 5.180403030877937,\n",
       " 5.180403030877937,\n",
       " 5.180403030877937,\n",
       " 5.180403030877937,\n",
       " 5.180403030877937,\n",
       " 5.180403030877937,\n",
       " 5.180403030877937,\n",
       " 5.180403030877937,\n",
       " 5.180403030877937,\n",
       " 5.180403030877937,\n",
       " 5.180403030877937,\n",
       " 5.180403030877937,\n",
       " 5.180403030877937,\n",
       " 5.180403030877937,\n",
       " 5.180403030877937,\n",
       " 5.180403030877937,\n",
       " 5.180403030877937,\n",
       " 5.180403030877937,\n",
       " 5.180403030877937,\n",
       " 5.180403030877937,\n",
       " 5.180403030877937,\n",
       " 5.180403030877937,\n",
       " 5.180403030877937,\n",
       " 5.180403030877937,\n",
       " 5.180403030877937,\n",
       " 5.180403030877937,\n",
       " 5.180403030877937,\n",
       " 5.180403030877937,\n",
       " 5.180403030877937,\n",
       " 5.180403030877937,\n",
       " 5.180403030877937,\n",
       " 5.180403030877937,\n",
       " 5.180403030877937,\n",
       " 5.180403030877937,\n",
       " 5.180403030877937,\n",
       " 5.180403030877937,\n",
       " 5.180403030877937,\n",
       " 5.180403030877937,\n",
       " 5.180403030877937,\n",
       " 5.180403030877937,\n",
       " 5.180403030877937,\n",
       " 5.180403030877937,\n",
       " 5.180403030877937,\n",
       " 5.180403030877937,\n",
       " 5.180403030877937,\n",
       " 5.180403030877937,\n",
       " 5.180403030877937,\n",
       " 5.180403030877937,\n",
       " 5.180403030877937,\n",
       " 5.180403030877937,\n",
       " 5.180403030877937,\n",
       " 5.180403030877937,\n",
       " 5.180403030877937,\n",
       " 5.180403030877937,\n",
       " 5.180403030877937,\n",
       " 5.180403030877937,\n",
       " 5.180403030877937,\n",
       " 5.180403030877937,\n",
       " 5.180403030877937,\n",
       " 5.180403030877937,\n",
       " 5.180403030877937,\n",
       " 5.180403030877937,\n",
       " 5.180403030877937,\n",
       " 5.180403030877937,\n",
       " 5.180403030877937,\n",
       " 5.180403030877937,\n",
       " 5.180403030877937,\n",
       " 5.180403030877937,\n",
       " 5.180403030877937,\n",
       " 5.180403030877937,\n",
       " 5.180403030877937,\n",
       " 5.180403030877937]"
      ]
     },
     "execution_count": 77,
     "metadata": {},
     "output_type": "execute_result"
    }
   ],
   "source": [
    "y_mean_list"
   ]
  },
  {
   "cell_type": "code",
   "execution_count": 78,
   "id": "454f1133-ac06-4836-bc72-8cd8c8805fdc",
   "metadata": {},
   "outputs": [],
   "source": [
    "data = pd.DataFrame(\n",
    "    {\n",
    "        \"x\": x_list,\n",
    "        \"y_actual\": y_act_list,\n",
    "        \"y_prediccion\": y_pred_list,\n",
    "        \"y_mean\": y_mean_list\n",
    "    }\n",
    ")"
   ]
  },
  {
   "cell_type": "code",
   "execution_count": 79,
   "id": "9f76ce2f-79d9-4dbd-ad35-f4b8793dc2d0",
   "metadata": {},
   "outputs": [
    {
     "data": {
      "text/html": [
       "<div>\n",
       "<style scoped>\n",
       "    .dataframe tbody tr th:only-of-type {\n",
       "        vertical-align: middle;\n",
       "    }\n",
       "\n",
       "    .dataframe tbody tr th {\n",
       "        vertical-align: top;\n",
       "    }\n",
       "\n",
       "    .dataframe thead th {\n",
       "        text-align: right;\n",
       "    }\n",
       "</style>\n",
       "<table border=\"1\" class=\"dataframe\">\n",
       "  <thead>\n",
       "    <tr style=\"text-align: right;\">\n",
       "      <th></th>\n",
       "      <th>x</th>\n",
       "      <th>y_actual</th>\n",
       "      <th>y_prediccion</th>\n",
       "      <th>y_mean</th>\n",
       "    </tr>\n",
       "  </thead>\n",
       "  <tbody>\n",
       "    <tr>\n",
       "      <th>0</th>\n",
       "      <td>-0.174381</td>\n",
       "      <td>4.960932</td>\n",
       "      <td>1.686114</td>\n",
       "      <td>5.180403</td>\n",
       "    </tr>\n",
       "    <tr>\n",
       "      <th>1</th>\n",
       "      <td>-0.060071</td>\n",
       "      <td>10.247850</td>\n",
       "      <td>1.891873</td>\n",
       "      <td>5.180403</td>\n",
       "    </tr>\n",
       "    <tr>\n",
       "      <th>2</th>\n",
       "      <td>7.642522</td>\n",
       "      <td>14.243405</td>\n",
       "      <td>15.756539</td>\n",
       "      <td>5.180403</td>\n",
       "    </tr>\n",
       "    <tr>\n",
       "      <th>3</th>\n",
       "      <td>0.095960</td>\n",
       "      <td>1.120205</td>\n",
       "      <td>2.172728</td>\n",
       "      <td>5.180403</td>\n",
       "    </tr>\n",
       "    <tr>\n",
       "      <th>4</th>\n",
       "      <td>2.015895</td>\n",
       "      <td>7.470425</td>\n",
       "      <td>5.628611</td>\n",
       "      <td>5.180403</td>\n",
       "    </tr>\n",
       "    <tr>\n",
       "      <th>...</th>\n",
       "      <td>...</td>\n",
       "      <td>...</td>\n",
       "      <td>...</td>\n",
       "      <td>...</td>\n",
       "    </tr>\n",
       "    <tr>\n",
       "      <th>95</th>\n",
       "      <td>-1.814465</td>\n",
       "      <td>-0.466681</td>\n",
       "      <td>-1.266037</td>\n",
       "      <td>5.180403</td>\n",
       "    </tr>\n",
       "    <tr>\n",
       "      <th>96</th>\n",
       "      <td>-2.549994</td>\n",
       "      <td>-5.776380</td>\n",
       "      <td>-2.589989</td>\n",
       "      <td>5.180403</td>\n",
       "    </tr>\n",
       "    <tr>\n",
       "      <th>97</th>\n",
       "      <td>2.577602</td>\n",
       "      <td>7.524986</td>\n",
       "      <td>6.639684</td>\n",
       "      <td>5.180403</td>\n",
       "    </tr>\n",
       "    <tr>\n",
       "      <th>98</th>\n",
       "      <td>3.104919</td>\n",
       "      <td>14.236456</td>\n",
       "      <td>7.588853</td>\n",
       "      <td>5.180403</td>\n",
       "    </tr>\n",
       "    <tr>\n",
       "      <th>99</th>\n",
       "      <td>4.737037</td>\n",
       "      <td>11.337886</td>\n",
       "      <td>10.526666</td>\n",
       "      <td>5.180403</td>\n",
       "    </tr>\n",
       "  </tbody>\n",
       "</table>\n",
       "<p>100 rows × 4 columns</p>\n",
       "</div>"
      ],
      "text/plain": [
       "           x   y_actual  y_prediccion    y_mean\n",
       "0  -0.174381   4.960932      1.686114  5.180403\n",
       "1  -0.060071  10.247850      1.891873  5.180403\n",
       "2   7.642522  14.243405     15.756539  5.180403\n",
       "3   0.095960   1.120205      2.172728  5.180403\n",
       "4   2.015895   7.470425      5.628611  5.180403\n",
       "..       ...        ...           ...       ...\n",
       "95 -1.814465  -0.466681     -1.266037  5.180403\n",
       "96 -2.549994  -5.776380     -2.589989  5.180403\n",
       "97  2.577602   7.524986      6.639684  5.180403\n",
       "98  3.104919  14.236456      7.588853  5.180403\n",
       "99  4.737037  11.337886     10.526666  5.180403\n",
       "\n",
       "[100 rows x 4 columns]"
      ]
     },
     "execution_count": 79,
     "metadata": {},
     "output_type": "execute_result"
    }
   ],
   "source": [
    "data"
   ]
  },
  {
   "cell_type": "code",
   "execution_count": 80,
   "id": "f7f5dad5-20f7-4059-9b24-28021fa1f03d",
   "metadata": {},
   "outputs": [
    {
     "data": {
      "text/plain": [
       "Text(0.5, 1.0, 'Valor Actual vs Predicción')"
      ]
     },
     "execution_count": 80,
     "metadata": {},
     "output_type": "execute_result"
    },
    {
     "data": {
      "image/png": "[encoded data removed]",
      "text/plain": [
       "<Figure size 640x480 with 1 Axes>"
      ]
     },
     "metadata": {},
     "output_type": "display_data"
    }
   ],
   "source": [
    "plt.plot(x,y_pred)\n",
    "plt.plot(x,y_act, \"ro\")\n",
    "plt.plot(x,y_mean_list, \"g\")\n",
    "plt.title (\"Valor Actual vs Predicción\")"
   ]
  },
  {
   "cell_type": "code",
   "execution_count": 81,
   "id": "b1f24f1a-8453-404a-a2f9-ff1aa6668659",
   "metadata": {},
   "outputs": [],
   "source": [
    "data [\"SSR\"] = (data[\"y_prediccion\"]-data[\"y_mean\"])**2\n",
    "data [\"SST\"] = (data[\"y_actual\"]-data[\"y_mean\"])**2\n",
    "data [\"SSERROR\"] = (data[\"y_actual\"]-data[\"y_prediccion\"])**2"
   ]
  },
  {
   "cell_type": "code",
   "execution_count": 82,
   "id": "2e697e0a-8f40-4f2e-a224-11d4b32b17f5",
   "metadata": {},
   "outputs": [],
   "source": [
    "SSR = np.sum(data[\"SSR\"])\n",
    "SST = np.sum(data[\"SST\"])\n",
    "SSERROR = np.sum(data[\"SSERROR\"])\n"
   ]
  },
  {
   "cell_type": "code",
   "execution_count": 83,
   "id": "357df4c7-660c-46c3-8d39-0c147e3d306e",
   "metadata": {},
   "outputs": [
    {
     "data": {
      "text/plain": [
       "2342.387549130949"
      ]
     },
     "execution_count": 83,
     "metadata": {},
     "output_type": "execute_result"
    }
   ],
   "source": [
    "SSR"
   ]
  },
  {
   "cell_type": "code",
   "execution_count": 84,
   "id": "e65821a1-c0c4-444d-b290-2d7cd8eaa77f",
   "metadata": {},
   "outputs": [
    {
     "data": {
      "text/plain": [
       "707.8365719801899"
      ]
     },
     "execution_count": 84,
     "metadata": {},
     "output_type": "execute_result"
    }
   ],
   "source": [
    "SSERROR"
   ]
  },
  {
   "cell_type": "code",
   "execution_count": 85,
   "id": "02b869db-486a-45f2-a7fb-5703df351bd2",
   "metadata": {},
   "outputs": [
    {
     "data": {
      "text/plain": [
       "3280.093675546312"
      ]
     },
     "execution_count": 85,
     "metadata": {},
     "output_type": "execute_result"
    }
   ],
   "source": [
    "SST"
   ]
  },
  {
   "cell_type": "code",
   "execution_count": 86,
   "id": "00297fb3-d536-4b5f-8811-da0c5f07e866",
   "metadata": {},
   "outputs": [
    {
     "data": {
      "text/html": [
       "<div>\n",
       "<style scoped>\n",
       "    .dataframe tbody tr th:only-of-type {\n",
       "        vertical-align: middle;\n",
       "    }\n",
       "\n",
       "    .dataframe tbody tr th {\n",
       "        vertical-align: top;\n",
       "    }\n",
       "\n",
       "    .dataframe thead th {\n",
       "        text-align: right;\n",
       "    }\n",
       "</style>\n",
       "<table border=\"1\" class=\"dataframe\">\n",
       "  <thead>\n",
       "    <tr style=\"text-align: right;\">\n",
       "      <th></th>\n",
       "      <th>x</th>\n",
       "      <th>y_actual</th>\n",
       "      <th>y_prediccion</th>\n",
       "      <th>y_mean</th>\n",
       "      <th>SSR</th>\n",
       "      <th>SST</th>\n",
       "      <th>SSERROR</th>\n",
       "    </tr>\n",
       "  </thead>\n",
       "  <tbody>\n",
       "    <tr>\n",
       "      <th>0</th>\n",
       "      <td>-0.174381</td>\n",
       "      <td>4.960932</td>\n",
       "      <td>1.686114</td>\n",
       "      <td>5.180403</td>\n",
       "      <td>12.210058</td>\n",
       "      <td>0.048168</td>\n",
       "      <td>10.724435</td>\n",
       "    </tr>\n",
       "    <tr>\n",
       "      <th>1</th>\n",
       "      <td>-0.060071</td>\n",
       "      <td>10.247850</td>\n",
       "      <td>1.891873</td>\n",
       "      <td>5.180403</td>\n",
       "      <td>10.814432</td>\n",
       "      <td>25.679014</td>\n",
       "      <td>69.822350</td>\n",
       "    </tr>\n",
       "    <tr>\n",
       "      <th>2</th>\n",
       "      <td>7.642522</td>\n",
       "      <td>14.243405</td>\n",
       "      <td>15.756539</td>\n",
       "      <td>5.180403</td>\n",
       "      <td>111.854658</td>\n",
       "      <td>82.138001</td>\n",
       "      <td>2.289576</td>\n",
       "    </tr>\n",
       "    <tr>\n",
       "      <th>3</th>\n",
       "      <td>0.095960</td>\n",
       "      <td>1.120205</td>\n",
       "      <td>2.172728</td>\n",
       "      <td>5.180403</td>\n",
       "      <td>9.046109</td>\n",
       "      <td>16.485205</td>\n",
       "      <td>1.107804</td>\n",
       "    </tr>\n",
       "    <tr>\n",
       "      <th>4</th>\n",
       "      <td>2.015895</td>\n",
       "      <td>7.470425</td>\n",
       "      <td>5.628611</td>\n",
       "      <td>5.180403</td>\n",
       "      <td>0.200890</td>\n",
       "      <td>5.244200</td>\n",
       "      <td>3.392278</td>\n",
       "    </tr>\n",
       "  </tbody>\n",
       "</table>\n",
       "</div>"
      ],
      "text/plain": [
       "          x   y_actual  y_prediccion    y_mean         SSR        SST  \\\n",
       "0 -0.174381   4.960932      1.686114  5.180403   12.210058   0.048168   \n",
       "1 -0.060071  10.247850      1.891873  5.180403   10.814432  25.679014   \n",
       "2  7.642522  14.243405     15.756539  5.180403  111.854658  82.138001   \n",
       "3  0.095960   1.120205      2.172728  5.180403    9.046109  16.485205   \n",
       "4  2.015895   7.470425      5.628611  5.180403    0.200890   5.244200   \n",
       "\n",
       "     SSERROR  \n",
       "0  10.724435  \n",
       "1  69.822350  \n",
       "2   2.289576  \n",
       "3   1.107804  \n",
       "4   3.392278  "
      ]
     },
     "execution_count": 86,
     "metadata": {},
     "output_type": "execute_result"
    }
   ],
   "source": [
    "data.head()"
   ]
  },
  {
   "cell_type": "code",
   "execution_count": 87,
   "id": "aa682dee-501a-44e8-b1c3-de768424482f",
   "metadata": {},
   "outputs": [
    {
     "data": {
      "text/plain": [
       "0.7141221504110902"
      ]
     },
     "execution_count": 87,
     "metadata": {},
     "output_type": "execute_result"
    }
   ],
   "source": [
    "R2= SSR/SST\n",
    "R2"
   ]
  },
  {
   "cell_type": "code",
   "execution_count": 88,
   "id": "62be1afc-31f4-42ab-968a-215c2756c292",
   "metadata": {},
   "outputs": [
    {
     "data": {
      "text/plain": [
       "(array([ 1.,  3.,  6.,  7., 11., 26., 21., 14.,  7.,  4.]),\n",
       " array([-8.35597692e+00, -6.96226661e+00, -5.56855630e+00, -4.17484599e+00,\n",
       "        -2.78113568e+00, -1.38742537e+00,  6.28494051e-03,  1.39999525e+00,\n",
       "         2.79370556e+00,  4.18741587e+00,  5.58112618e+00]),\n",
       " <BarContainer object of 10 artists>)"
      ]
     },
     "execution_count": 88,
     "metadata": {},
     "output_type": "execute_result"
    },
    {
     "data": {
      "image/png": "[encoded data removed]",
      "text/plain": [
       "<Figure size 640x480 with 1 Axes>"
      ]
     },
     "metadata": {},
     "output_type": "display_data"
    }
   ],
   "source": [
    "plt.hist(data[\"y_prediccion\"]-data[\"y_actual\"])"
   ]
  },
  {
   "cell_type": "code",
   "execution_count": 89,
   "id": "5d97e84f-88b6-4b4b-bcb1-30467dac5e21",
   "metadata": {},
   "outputs": [
    {
     "data": {
      "text/plain": [
       "(1.6178994116622434, 5.180403030877937)"
      ]
     },
     "execution_count": 89,
     "metadata": {},
     "output_type": "execute_result"
    }
   ],
   "source": [
    "x_mean = np.mean(data[\"x\"])\n",
    "y_mean = np.mean(data[\"y_actual\"])\n",
    "x_mean, y_mean"
   ]
  },
  {
   "cell_type": "code",
   "execution_count": 90,
   "id": "192f064e-cd62-4bc1-a16d-b43e94e770af",
   "metadata": {},
   "outputs": [
    {
     "data": {
      "text/plain": [
       "(2.115879610191001, 1.8941371747817244)"
      ]
     },
     "execution_count": 90,
     "metadata": {},
     "output_type": "execute_result"
    }
   ],
   "source": [
    "data[\"beta_n\"] = (data[\"x\"] - x_mean)* (data[\"y_actual\"] - y_mean)\n",
    "data[\"beta_d\"] = (data[\"x\"] - x_mean)**2\n",
    "beta = sum(data[\"beta_n\"])/sum(data[\"beta_d\"])\n",
    "alpha = y_mean - beta*x_mean\n",
    "alpha, beta"
   ]
  },
  {
   "cell_type": "markdown",
   "id": "dcb5faee-98b5-4168-bfe7-e3db66c4a1a0",
   "metadata": {},
   "source": [
    "Modelo lineal obtenido :\n",
    "y = 1.8681633529107406 + 1.8306276894810822 * x"
   ]
  },
  {
   "cell_type": "code",
   "execution_count": 91,
   "id": "93bf9a25-393f-4d54-8e83-2c2311f996f1",
   "metadata": {},
   "outputs": [],
   "source": [
    "data[\"y_model\"] = alpha + beta*data[\"x\"]"
   ]
  },
  {
   "cell_type": "code",
   "execution_count": 92,
   "id": "9ac6fdeb-784b-46ae-bd32-1be7e1b215a2",
   "metadata": {},
   "outputs": [
    {
     "data": {
      "text/html": [
       "<div>\n",
       "<style scoped>\n",
       "    .dataframe tbody tr th:only-of-type {\n",
       "        vertical-align: middle;\n",
       "    }\n",
       "\n",
       "    .dataframe tbody tr th {\n",
       "        vertical-align: top;\n",
       "    }\n",
       "\n",
       "    .dataframe thead th {\n",
       "        text-align: right;\n",
       "    }\n",
       "</style>\n",
       "<table border=\"1\" class=\"dataframe\">\n",
       "  <thead>\n",
       "    <tr style=\"text-align: right;\">\n",
       "      <th></th>\n",
       "      <th>x</th>\n",
       "      <th>y_actual</th>\n",
       "      <th>y_prediccion</th>\n",
       "      <th>y_mean</th>\n",
       "      <th>SSR</th>\n",
       "      <th>SST</th>\n",
       "      <th>SSERROR</th>\n",
       "      <th>beta_n</th>\n",
       "      <th>beta_d</th>\n",
       "      <th>y_model</th>\n",
       "    </tr>\n",
       "  </thead>\n",
       "  <tbody>\n",
       "    <tr>\n",
       "      <th>0</th>\n",
       "      <td>-0.174381</td>\n",
       "      <td>4.960932</td>\n",
       "      <td>1.686114</td>\n",
       "      <td>5.180403</td>\n",
       "      <td>12.210058</td>\n",
       "      <td>0.048168</td>\n",
       "      <td>10.724435</td>\n",
       "      <td>0.393354</td>\n",
       "      <td>3.212270</td>\n",
       "      <td>1.785578</td>\n",
       "    </tr>\n",
       "    <tr>\n",
       "      <th>1</th>\n",
       "      <td>-0.060071</td>\n",
       "      <td>10.247850</td>\n",
       "      <td>1.891873</td>\n",
       "      <td>5.180403</td>\n",
       "      <td>10.814432</td>\n",
       "      <td>25.679014</td>\n",
       "      <td>69.822350</td>\n",
       "      <td>-8.503024</td>\n",
       "      <td>2.815584</td>\n",
       "      <td>2.002097</td>\n",
       "    </tr>\n",
       "    <tr>\n",
       "      <th>2</th>\n",
       "      <td>7.642522</td>\n",
       "      <td>14.243405</td>\n",
       "      <td>15.756539</td>\n",
       "      <td>5.180403</td>\n",
       "      <td>111.854658</td>\n",
       "      <td>82.138001</td>\n",
       "      <td>2.289576</td>\n",
       "      <td>54.601163</td>\n",
       "      <td>36.296075</td>\n",
       "      <td>16.591864</td>\n",
       "    </tr>\n",
       "    <tr>\n",
       "      <th>3</th>\n",
       "      <td>0.095960</td>\n",
       "      <td>1.120205</td>\n",
       "      <td>2.172728</td>\n",
       "      <td>5.180403</td>\n",
       "      <td>9.046109</td>\n",
       "      <td>16.485205</td>\n",
       "      <td>1.107804</td>\n",
       "      <td>6.179375</td>\n",
       "      <td>2.316299</td>\n",
       "      <td>2.297641</td>\n",
       "    </tr>\n",
       "    <tr>\n",
       "      <th>4</th>\n",
       "      <td>2.015895</td>\n",
       "      <td>7.470425</td>\n",
       "      <td>5.628611</td>\n",
       "      <td>5.180403</td>\n",
       "      <td>0.200890</td>\n",
       "      <td>5.244200</td>\n",
       "      <td>3.392278</td>\n",
       "      <td>0.911419</td>\n",
       "      <td>0.158400</td>\n",
       "      <td>5.934261</td>\n",
       "    </tr>\n",
       "  </tbody>\n",
       "</table>\n",
       "</div>"
      ],
      "text/plain": [
       "          x   y_actual  y_prediccion    y_mean         SSR        SST  \\\n",
       "0 -0.174381   4.960932      1.686114  5.180403   12.210058   0.048168   \n",
       "1 -0.060071  10.247850      1.891873  5.180403   10.814432  25.679014   \n",
       "2  7.642522  14.243405     15.756539  5.180403  111.854658  82.138001   \n",
       "3  0.095960   1.120205      2.172728  5.180403    9.046109  16.485205   \n",
       "4  2.015895   7.470425      5.628611  5.180403    0.200890   5.244200   \n",
       "\n",
       "     SSERROR     beta_n     beta_d    y_model  \n",
       "0  10.724435   0.393354   3.212270   1.785578  \n",
       "1  69.822350  -8.503024   2.815584   2.002097  \n",
       "2   2.289576  54.601163  36.296075  16.591864  \n",
       "3   1.107804   6.179375   2.316299   2.297641  \n",
       "4   3.392278   0.911419   0.158400   5.934261  "
      ]
     },
     "execution_count": 92,
     "metadata": {},
     "output_type": "execute_result"
    }
   ],
   "source": [
    "data.head()"
   ]
  },
  {
   "cell_type": "code",
   "execution_count": 93,
   "id": "d548bb72-6424-4813-855d-efeb1ff6742e",
   "metadata": {},
   "outputs": [],
   "source": [
    "data [\"SSR\"] = (data[\"y_model\"]-data[\"y_mean\"])**2\n",
    "data [\"SST\"] = (data[\"y_actual\"]-data[\"y_mean\"])**2\n",
    "data [\"SSERROR\"] = (data[\"y_actual\"]-data[\"y_model\"])**2"
   ]
  },
  {
   "cell_type": "code",
   "execution_count": 94,
   "id": "eb0922d3-1024-4a21-8613-415f708a743f",
   "metadata": {},
   "outputs": [
    {
     "data": {
      "text/plain": [
       "(2585.8364270877073, 694.2572484586085, 3280.093675546312)"
      ]
     },
     "execution_count": 94,
     "metadata": {},
     "output_type": "execute_result"
    }
   ],
   "source": [
    "SSR = np.sum(data[\"SSR\"])\n",
    "SST = np.sum(data[\"SST\"])\n",
    "SSERROR = np.sum(data[\"SSERROR\"])\n",
    "SSR, SSERROR, SST"
   ]
  },
  {
   "cell_type": "code",
   "execution_count": 95,
   "id": "2e483ff7-6984-41a7-9ce3-b82e6eb4d00d",
   "metadata": {},
   "outputs": [
    {
     "data": {
      "text/plain": [
       "3280.093675546316"
      ]
     },
     "execution_count": 95,
     "metadata": {},
     "output_type": "execute_result"
    }
   ],
   "source": [
    "SSR + SSERROR"
   ]
  },
  {
   "cell_type": "code",
   "execution_count": 96,
   "id": "3db5dbd2-8874-4544-aadb-3383302a8050",
   "metadata": {},
   "outputs": [
    {
     "data": {
      "text/plain": [
       "Text(0.5, 1.0, 'Valor Actual vs Predicción')"
      ]
     },
     "execution_count": 96,
     "metadata": {},
     "output_type": "execute_result"
    },
    {
     "data": {
      "image/png": "[encoded data removed]",
      "text/plain": [
       "<Figure size 640x480 with 1 Axes>"
      ]
     },
     "metadata": {},
     "output_type": "display_data"
    }
   ],
   "source": [
    "plt.plot(x,data[\"y_model\"])\n",
    "plt.plot(x,y_act, \"ro\")\n",
    "plt.plot(x,y_mean_list, \"g\")\n",
    "plt.title (\"Valor Actual vs Predicción\")"
   ]
  },
  {
   "cell_type": "code",
   "execution_count": 97,
   "id": "af4984d0-f545-4b5b-8bc5-b73ed9b7d008",
   "metadata": {},
   "outputs": [
    {
     "data": {
      "text/plain": [
       "0.7883422496026814"
      ]
     },
     "execution_count": 97,
     "metadata": {},
     "output_type": "execute_result"
    }
   ],
   "source": [
    "R2= SSR/SST\n",
    "R2"
   ]
  },
  {
   "cell_type": "code",
   "execution_count": null,
   "id": "f8998e51-4196-4968-9fc2-108045e1dd5f",
   "metadata": {},
   "outputs": [],
   "source": []
  }
 ],
 "metadata": {
  "kernelspec": {
   "display_name": "Python 3 (ipykernel)",
   "language": "python",
   "name": "python3"
  },
  "language_info": {
   "codemirror_mode": {
    "name": "ipython",
    "version": 3
   },
   "file_extension": ".py",
   "mimetype": "text/x-python",
   "name": "python",
   "nbconvert_exporter": "python",
   "pygments_lexer": "ipython3",
   "version": "3.11.9"
  }
 },
 "nbformat": 4,
 "nbformat_minor": 5
}
