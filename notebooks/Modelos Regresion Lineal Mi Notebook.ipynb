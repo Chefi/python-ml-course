{
 "cells": [
  {
   "cell_type": "code",
   "execution_count": null,
   "id": "2663dc06-ad39-4568-a0f4-15bb453e4994",
   "metadata": {},
   "outputs": [],
   "source": []
  }
 ],
 "metadata": {
  "kernelspec": {
   "display_name": "",
   "name": ""
  },
  "language_info": {
   "name": ""
  }
 },
 "nbformat": 4,
 "nbformat_minor": 5
}
