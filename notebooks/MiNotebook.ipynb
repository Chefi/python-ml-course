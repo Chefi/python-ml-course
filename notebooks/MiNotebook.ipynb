{
 "cells": [
  {
   "cell_type": "code",
   "execution_count": 1,
   "id": "50300a21-8ba1-49fe-8055-9fffbf41c043",
   "metadata": {},
   "outputs": [],
   "source": [
    "%config IPCompleter.greedy = True"
   ]
  },
  {
   "cell_type": "markdown",
   "id": "cb7f1403-a56d-42a1-80ab-f5276138950c",
   "metadata": {},
   "source": [
    "## Carga de datos a través de la funcion read_cv"
   ]
  },
  {
   "cell_type": "code",
   "execution_count": 2,
   "id": "53715eda-a88e-4d81-946d-b3ce3e1bf94e",
   "metadata": {},
   "outputs": [],
   "source": [
    "import pandas as pd"
   ]
  },
  {
   "cell_type": "code",
   "execution_count": 4,
   "id": "0bf7416b-3f1b-4ef6-b644-b62a435a7bc3",
   "metadata": {},
   "outputs": [],
   "source": [
    "data = pd.read_csv(\"../datasets/titanic/titanic3.csv\")                   "
   ]
  },
  {
   "cell_type": "code",
   "execution_count": null,
   "id": "c36b5901-9730-4897-99f0-cd18fec7a46f",
   "metadata": {},
   "outputs": [],
   "source": []
  }
 ],
 "metadata": {
  "kernelspec": {
   "display_name": "Python 3 (ipykernel)",
   "language": "python",
   "name": "python3"
  },
  "language_info": {
   "codemirror_mode": {
    "name": "ipython",
    "version": 3
   },
   "file_extension": ".py",
   "mimetype": "text/x-python",
   "name": "python",
   "nbconvert_exporter": "python",
   "pygments_lexer": "ipython3",
   "version": "3.11.9"
  }
 },
 "nbformat": 4,
 "nbformat_minor": 5
}
