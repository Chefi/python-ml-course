{
 "cells": [
  {
   "cell_type": "markdown",
   "id": "c16e6637-b22b-4687-a009-4eb6cdfa53d2",
   "metadata": {},
   "source": [
    "## Introducción a Tensor Flow"
   ]
  },
  {
   "cell_type": "markdown",
   "id": "e1d8304a-1f7b-4f9e-a39e-0539455628ee",
   "metadata": {},
   "source": [
    "### belgium TD Dataset"
   ]
  },
  {
   "cell_type": "markdown",
   "id": "a5c2dbe5-af1f-4cc6-85dd-7e5b935797dc",
   "metadata": {},
   "source": [
    "https://btsd.ethz.ch/shareddata/"
   ]
  },
  {
   "cell_type": "code",
   "execution_count": 1,
   "id": "679c168f-36a2-489b-befd-9c8b738e5bcc",
   "metadata": {},
   "outputs": [],
   "source": [
    "import tensorflow as tf"
   ]
  },
  {
   "cell_type": "code",
   "execution_count": null,
   "id": "0d603cd9-5eb6-4207-b66e-6be3018997fa",
   "metadata": {},
   "outputs": [],
   "source": [
    "x1 = tf.constant([1,2,3,4,5])\n",
    "x2 = tf.constant([6,7,8,9,10])\n",
    "res = tf.multiply(x1,x2)\n",
    "print (res)"
   ]
  }
 ],
 "metadata": {
  "kernelspec": {
   "display_name": "Python 3 (ipykernel)",
   "language": "python",
   "name": "python3"
  },
  "language_info": {
   "codemirror_mode": {
    "name": "ipython",
    "version": 3
   },
   "file_extension": ".py",
   "mimetype": "text/x-python",
   "name": "python",
   "nbconvert_exporter": "python",
   "pygments_lexer": "ipython3",
   "version": "3.11.9"
  }
 },
 "nbformat": 4,
 "nbformat_minor": 5
}
