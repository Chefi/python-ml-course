{
 "cells": [
  {
   "cell_type": "code",
   "execution_count": null,
   "id": "bc5ce559-c2e1-469c-9b56-0f8313cf1ab9",
   "metadata": {},
   "outputs": [],
   "source": []
  }
 ],
 "metadata": {
  "kernelspec": {
   "display_name": "",
   "name": ""
  },
  "language_info": {
   "name": ""
  }
 },
 "nbformat": 4,
 "nbformat_minor": 5
}
